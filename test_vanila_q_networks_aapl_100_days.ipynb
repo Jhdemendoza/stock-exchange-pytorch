{
 "cells": [
  {
   "cell_type": "code",
   "execution_count": 1,
   "metadata": {},
   "outputs": [],
   "source": [
    "import gym\n",
    "import gym_stock_exchange\n",
    "import random\n",
    "import numpy as np\n",
    "import pandas as pd\n",
    "import datetime\n",
    "import torch\n",
    "import torch.nn as nn\n",
    "import torch.nn.functional as F\n",
    "import matplotlib.pyplot as plt\n",
    "%matplotlib inline\n",
    "\n",
    "env = gym.make('game-stock-exchange-v0')"
   ]
  },
  {
   "cell_type": "code",
   "execution_count": 2,
   "metadata": {},
   "outputs": [],
   "source": [
    "from functools import partial\n",
    "from copy import deepcopy\n",
    "import datetime\n",
    "from itertools import count\n",
    "import math\n",
    "import logging\n",
    "import matplotlib.pyplot as plt\n",
    "import numpy as np\n",
    "from random import choice\n",
    "import time\n",
    "from utils import device, train_dqn\n",
    "import seaborn as sns\n",
    "from collections import deque"
   ]
  },
  {
   "cell_type": "code",
   "execution_count": 3,
   "metadata": {},
   "outputs": [],
   "source": [
    "from utils import ReplayMemory\n",
    "import torch.optim as optim"
   ]
  },
  {
   "cell_type": "code",
   "execution_count": 11,
   "metadata": {},
   "outputs": [],
   "source": [
    "FEATURES = 512\n",
    "class DuelingDQN(nn.Module):\n",
    "    # Eventually, n_tickers should create n number of values and advantages\n",
    "    def __init__(self, n_input_features, n_action_space, n_tickers=None):\n",
    "        super(DuelingDQN, self).__init__()\n",
    "        self.n_action_space = n_action_space\n",
    "        self.feature = nn.Sequential(\n",
    "            nn.Linear(n_input_features, FEATURES),\n",
    "            nn.ReLU(),\n",
    "            nn.Linear(FEATURES, FEATURES),\n",
    "            nn.ReLU(),\n",
    "            nn.Linear(FEATURES, FEATURES),\n",
    "            nn.ReLU(),\n",
    "        )\n",
    "\n",
    "        self.value = nn.Sequential(\n",
    "            nn.Linear(FEATURES, 32),\n",
    "            nn.ReLU(),\n",
    "            nn.Linear(32, 1)\n",
    "        )\n",
    "\n",
    "        self.advantage = nn.Sequential(\n",
    "            nn.Linear(FEATURES, 32),\n",
    "            nn.ReLU(),\n",
    "            nn.Linear(32, n_action_space)\n",
    "        )\n",
    "\n",
    "    def forward(self, x):\n",
    "        x = self.feature(x)\n",
    "        value = self.value(x)\n",
    "        advantage = self.advantage(x)\n",
    "        return value + advantage - advantage.mean()\n",
    "\n",
    "    def predict(self, x):\n",
    "        return self.forward(x).detach().sort(dim=1, descending=True)\n",
    "\n",
    "    def act(self, x, epsilon):\n",
    "        if not torch.is_tensor(x):\n",
    "            x = torch.tensor([x], dtype=torch.float32, device=device)\n",
    "        if np.random.rand() > epsilon:\n",
    "            x = self.feature(x).detach()\n",
    "            x = self.advantage(x).detach().argmax().item()\n",
    "            return x\n",
    "        else:\n",
    "            return np.random.randint(self.n_action_space)"
   ]
  },
  {
   "cell_type": "code",
   "execution_count": 10,
   "metadata": {
    "scrolled": true
   },
   "outputs": [
    {
     "data": {
      "text/plain": [
       "1000    2017-12-20\n",
       "1001    2017-12-21\n",
       "1002    2017-12-22\n",
       "1003    2017-12-26\n",
       "1004    2017-12-27\n",
       "Name: date, dtype: object"
      ]
     },
     "execution_count": 10,
     "metadata": {},
     "output_type": "execute_result"
    },
    {
     "data": {
      "image/png": "[encoded data removed]",
      "text/plain": [
       "<Figure size 432x288 with 1 Axes>"
      ]
     },
     "metadata": {},
     "output_type": "display_data"
    }
   ],
   "source": [
    "env.create_engine('aapl', '2014-01-01', 1000, num_action_space=5)\n",
    "env.env.tickers[0].dates[1000:].head()"
   ]
  },
  {
   "cell_type": "code",
   "execution_count": 14,
   "metadata": {},
   "outputs": [],
   "source": [
    "def get_running_state(num_days):\n",
    "    return np.zeros(num_days).tolist()\n",
    "\n",
    "def add_new_state(running_state_orig, new_state_to_add):\n",
    "    if isinstance(new_state_to_add, list):\n",
    "        new_state_to_add = new_state_to_add[0]\n",
    "        \n",
    "    running_state = pd.Series(running_state_orig).shift(-1)\n",
    "    \n",
    "    # Assign new price to index == last_elem - 1\n",
    "    running_state.iloc[-2] = new_state_to_add.item(0)\n",
    "    # Assign new position to index == last_elem\n",
    "    running_state.iloc[-1] = new_state_to_add.item(1)\n",
    "    \n",
    "    assert len(running_state_orig) == len(running_state)\n",
    "    \n",
    "    return running_state.tolist()"
   ]
  },
  {
   "cell_type": "code",
   "execution_count": 13,
   "metadata": {},
   "outputs": [],
   "source": [
    "from IPython.display import clear_output\n",
    "def plot(frame_idx, rewards, losses, eps):\n",
    "    clear_output(True)\n",
    "    plt.figure(figsize=(20,5))\n",
    "    plt.subplot(131)\n",
    "    plt.title('frame %s. reward: %s eps: %s' % (frame_idx, np.mean(rewards[-10:]), eps))\n",
    "    plt.scatter(np.arange(len(rewards)), rewards)\n",
    "    plt.subplot(132)\n",
    "    plt.title('loss')\n",
    "    plt.plot(np.arange(len(losses)), losses)\n",
    "    plt.show()"
   ]
  },
  {
   "cell_type": "markdown",
   "metadata": {},
   "source": [
    "Since 1000th day was 2017-12-20, let's start testing with the market data from 2018-01-01"
   ]
  },
  {
   "cell_type": "code",
   "execution_count": 19,
   "metadata": {},
   "outputs": [
    {
     "data": {
      "text/plain": [
       "95    2018-05-18\n",
       "96    2018-05-21\n",
       "97    2018-05-22\n",
       "98    2018-05-23\n",
       "99    2018-05-24\n",
       "Name: date, dtype: object"
      ]
     },
     "execution_count": 19,
     "metadata": {},
     "output_type": "execute_result"
    },
    {
     "data": {
      "image/png": "[encoded data removed]",
      "text/plain": [
       "<Figure size 432x288 with 1 Axes>"
      ]
     },
     "metadata": {},
     "output_type": "display_data"
    }
   ],
   "source": [
    "env.create_engine('aapl', '2018-01-01', 100, num_action_space=5)\n",
    "env.env.tickers[0].dates[:100].tail()"
   ]
  },
  {
   "cell_type": "code",
   "execution_count": 15,
   "metadata": {},
   "outputs": [],
   "source": [
    "# Actual days will be 19 days, plus one spot for position variable\n",
    "NUM_RUNNING_DAYS = 20"
   ]
  },
  {
   "cell_type": "code",
   "execution_count": 25,
   "metadata": {},
   "outputs": [],
   "source": [
    "def test_exchange(env, policy_q, testing_interval=100):\n",
    "    running_state = get_running_state(NUM_RUNNING_DAYS)\n",
    "    \n",
    "    state = env.reset()\n",
    "    running_state = add_new_state(running_state, state)\n",
    "\n",
    "    for _ in range(NUM_RUNNING_DAYS-1):\n",
    "        # recall step 2 makes position unchanged given \n",
    "        # action_space == 5\n",
    "        next_state, reward, done, _ = env.step(2)\n",
    "        running_state = add_new_state(running_state, next_state)\n",
    "        \n",
    "        assert reward == 0, \\\n",
    "                f'Reward is somehow {reward}'\n",
    "        assert running_state[-1] == 0.0, \\\n",
    "                f'Position is somehow {running_state[-1]}'\n",
    "        \n",
    "    episode_rewards = []\n",
    "    \n",
    "    for _ in range(testing_interval):\n",
    "        action = policy_q.act(running_state, 0.0)\n",
    "        \n",
    "        next_state, reward, done, _ = env.step(action)\n",
    "\n",
    "        # update running_state for the next use\n",
    "        running_state = add_new_state(running_state, next_state)\n",
    "        episode_rewards += [reward]\n",
    "    \n",
    "    return episode_rewards"
   ]
  },
  {
   "cell_type": "code",
   "execution_count": 21,
   "metadata": {},
   "outputs": [],
   "source": [
    "policy_q, target_q = DuelingDQN(NUM_RUNNING_DAYS, 5).cuda(), \\\n",
    "                        DuelingDQN(NUM_RUNNING_DAYS, 5).cuda()"
   ]
  },
  {
   "cell_type": "code",
   "execution_count": 22,
   "metadata": {},
   "outputs": [],
   "source": [
    "try:\n",
    "    policy_q.load_state_dict(torch.load('my_duel_policy_vanila.pt'))\n",
    "    target_q.load_state_dict(torch.load('my_duel_target_vanila.pt'))\n",
    "except FileNotFoundError:\n",
    "    print('--- Files Not Found ---')"
   ]
  },
  {
   "cell_type": "code",
   "execution_count": 28,
   "metadata": {},
   "outputs": [
    {
     "data": {
      "text/plain": [
       "100"
      ]
     },
     "execution_count": 28,
     "metadata": {},
     "output_type": "execute_result"
    }
   ],
   "source": [
    "len(rewards)"
   ]
  },
  {
   "cell_type": "code",
   "execution_count": 32,
   "metadata": {},
   "outputs": [
    {
     "data": {
      "text/plain": [
       "[<matplotlib.lines.Line2D at 0x7fa4e6eda860>]"
      ]
     },
     "execution_count": 32,
     "metadata": {},
     "output_type": "execute_result"
    },
    {
     "data": {
      "image/png": "[encoded data removed]",
      "text/plain": [
       "<Figure size 432x288 with 1 Axes>"
      ]
     },
     "metadata": {},
     "output_type": "display_data"
    }
   ],
   "source": [
    "rewards = test_exchange(env, policy_q)\n",
    "plt.plot(rewards)"
   ]
  },
  {
   "cell_type": "code",
   "execution_count": 33,
   "metadata": {},
   "outputs": [
    {
     "data": {
      "text/plain": [
       "0.01448858238587164"
      ]
     },
     "execution_count": 33,
     "metadata": {},
     "output_type": "execute_result"
    }
   ],
   "source": [
    "sum(rewards)"
   ]
  }
 ],
 "metadata": {
  "kernelspec": {
   "display_name": "Python [conda env:tensorflow]",
   "language": "python",
   "name": "conda-env-tensorflow-py"
  },
  "language_info": {
   "codemirror_mode": {
    "name": "ipython",
    "version": 3
   },
   "file_extension": ".py",
   "mimetype": "text/x-python",
   "name": "python",
   "nbconvert_exporter": "python",
   "pygments_lexer": "ipython3",
   "version": "3.6.6"
  }
 },
 "nbformat": 4,
 "nbformat_minor": 2
}
