{
 "cells": [
  {
   "cell_type": "code",
   "execution_count": 1,
   "metadata": {},
   "outputs": [],
   "source": [
    "%matplotlib inline\n",
    "\n",
    "import numpy as np\n",
    "import pandas as pd\n",
    "import matplotlib.pyplot as plt\n",
    "import seaborn as sns\n",
    "from sklearn import preprocessing\n",
    "\n",
    "from scipy import optimize\n",
    "\n",
    "import tensorflow as tf\n",
    "import torch\n",
    "import os\n",
    "os.chdir('..')"
   ]
  },
  {
   "cell_type": "code",
   "execution_count": 2,
   "metadata": {},
   "outputs": [],
   "source": [
    "import warnings\n",
    "warnings.filterwarnings('ignore')"
   ]
  },
  {
   "cell_type": "code",
   "execution_count": 3,
   "metadata": {},
   "outputs": [],
   "source": [
    "from IPython.display import clear_output\n",
    "import datetime\n",
    "import matplotlib as mpl\n",
    "from matplotlib import cm\n",
    "from sklearn.preprocessing import MinMaxScaler\n",
    "from sklearn.preprocessing import minmax_scale\n",
    "from sklearn.preprocessing import MaxAbsScaler\n",
    "from sklearn.preprocessing import StandardScaler\n",
    "from sklearn.preprocessing import RobustScaler\n",
    "from sklearn.preprocessing import Normalizer\n",
    "from sklearn.preprocessing import QuantileTransformer\n",
    "\n",
    "from sklearn.model_selection import train_test_split\n",
    "from sklearn.metrics import roc_auc_score\n",
    "from sklearn.pipeline import Pipeline, FeatureUnion\n",
    "\n",
    "import torch\n",
    "import torch.nn as nn\n",
    "from torch.utils.data import Dataset, DataLoader"
   ]
  },
  {
   "cell_type": "code",
   "execution_count": 4,
   "metadata": {},
   "outputs": [],
   "source": [
    "from download_daily_data import download_one_year_ohlc"
   ]
  },
  {
   "cell_type": "code",
   "execution_count": 5,
   "metadata": {},
   "outputs": [
    {
     "name": "stdout",
     "output_type": "stream",
     "text": [
      "Exception raised:  https://api.iextrading.com/1.0/stock/jwa/chart/5y Expecting value: line 1 column 1 (char 0)\n",
      "Exception raised:  https://api.iextrading.com/1.0/stock/brkb/chart/5y Expecting value: line 1 column 1 (char 0)\n",
      "Exception raised:  https://api.iextrading.com/1.0/stock/bfb/chart/5y Expecting value: line 1 column 1 (char 0)\n",
      "Exception raised:  https://api.iextrading.com/1.0/stock/ /chart/5y Expecting value: line 1 column 1 (char 0)\n",
      "Exception raised:  https://api.iextrading.com/1.0/stock/esz8/chart/5y Expecting value: line 1 column 1 (char 0)\n",
      "Exception raised:  https://api.iextrading.com/1.0/stock/lgfb/chart/5y Expecting value: line 1 column 1 (char 0)\n",
      "Exception raised:  https://api.iextrading.com/1.0/stock/ubfut/chart/5y Expecting value: line 1 column 1 (char 0)\n",
      "Exception raised:  https://api.iextrading.com/1.0/stock/faz8/chart/5y Expecting value: line 1 column 1 (char 0)\n",
      "Exception raised:  https://api.iextrading.com/1.0/stock/bfa/chart/5y Expecting value: line 1 column 1 (char 0)\n",
      "Exception raised:  https://api.iextrading.com/1.0/stock/lenb/chart/5y Expecting value: line 1 column 1 (char 0)\n",
      "Exception raised:  https://api.iextrading.com/1.0/stock/ntdoy/chart/5y Expecting value: line 1 column 1 (char 0)\n",
      "Exception raised:  https://api.iextrading.com/1.0/stock/fcea/chart/5y Expecting value: line 1 column 1 (char 0)\n",
      "Exception raised:  https://api.iextrading.com/1.0/stock/heia/chart/5y Expecting value: line 1 column 1 (char 0)\n",
      "Exception raised:  https://api.iextrading.com/1.0/stock/blkfds/chart/5y Expecting value: line 1 column 1 (char 0)\n",
      "Exception raised:  https://api.iextrading.com/1.0/stock/lgfa/chart/5y Expecting value: line 1 column 1 (char 0)\n",
      "Exception raised:  https://api.iextrading.com/1.0/stock/UWTI/chart/5y Expecting value: line 1 column 1 (char 0)\n"
     ]
    }
   ],
   "source": [
    "download_one_year_ohlc()"
   ]
  },
  {
   "cell_type": "code",
   "execution_count": 4,
   "metadata": {},
   "outputs": [],
   "source": [
    "log_files = os.listdir('logs/')"
   ]
  },
  {
   "cell_type": "code",
   "execution_count": 18,
   "metadata": {},
   "outputs": [],
   "source": [
    "stat_log_files = [file for file in log_files if 'stat' in file]"
   ]
  },
  {
   "cell_type": "code",
   "execution_count": 19,
   "metadata": {},
   "outputs": [
    {
     "data": {
      "text/plain": [
       "['training_bce_2018-11-24_21:27:25.833460_stat_0.003.log',\n",
       " 'training_bce_2018-11-24_07:44:55.533848_stat_0.003.log',\n",
       " 'training_bce_2018-11-24_21:27:56.914950_stat_0.003.log',\n",
       " 'training_bce_2018-11-24_21:27:04.126561_stat_0.003.log']"
      ]
     },
     "execution_count": 19,
     "metadata": {},
     "output_type": "execute_result"
    }
   ],
   "source": [
    "stat_log_files"
   ]
  },
  {
   "cell_type": "code",
   "execution_count": 21,
   "metadata": {},
   "outputs": [
    {
     "data": {
      "text/plain": [
       "'training_bce_2018-11-24_21:27:56.914950_stat_0.003.log'"
      ]
     },
     "execution_count": 21,
     "metadata": {},
     "output_type": "execute_result"
    }
   ],
   "source": [
    "stat_log_files[2]"
   ]
  },
  {
   "cell_type": "code",
   "execution_count": 79,
   "metadata": {},
   "outputs": [
    {
     "data": {
      "text/plain": [
       "<matplotlib.axes._subplots.AxesSubplot at 0x7f419367f780>"
      ]
     },
     "execution_count": 79,
     "metadata": {},
     "output_type": "execute_result"
    },
    {
     "data": {
      "image/png": "[encoded data removed]",
      "text/plain": [
       "<Figure size 432x288 with 1 Axes>"
      ]
     },
     "metadata": {},
     "output_type": "display_data"
    }
   ],
   "source": [
    "df = pd.read_csv('logs/'+stat_log_files[2], header=None)\n",
    "df.columns = ['ticker', 'epoch', 'train_test', 'avg', 'std', 'tn_fp_fn_tp']\n",
    "sns.distplot(df[(df['train_test']=='test') & (df['avg'] != 0.0)].avg)"
   ]
  },
  {
   "cell_type": "code",
   "execution_count": 95,
   "metadata": {},
   "outputs": [],
   "source": [
    "temp = df[(df['train_test']=='train') & (df['avg'] != 0.0)].copy()"
   ]
  },
  {
   "cell_type": "code",
   "execution_count": 111,
   "metadata": {},
   "outputs": [
    {
     "data": {
      "text/html": [
       "<div>\n",
       "<style scoped>\n",
       "    .dataframe tbody tr th:only-of-type {\n",
       "        vertical-align: middle;\n",
       "    }\n",
       "\n",
       "    .dataframe tbody tr th {\n",
       "        vertical-align: top;\n",
       "    }\n",
       "\n",
       "    .dataframe thead tr th {\n",
       "        text-align: left;\n",
       "    }\n",
       "\n",
       "    .dataframe thead tr:last-of-type th {\n",
       "        text-align: right;\n",
       "    }\n",
       "</style>\n",
       "<table border=\"1\" class=\"dataframe\">\n",
       "  <thead>\n",
       "    <tr>\n",
       "      <th></th>\n",
       "      <th colspan=\"2\" halign=\"left\">epoch</th>\n",
       "      <th colspan=\"2\" halign=\"left\">avg</th>\n",
       "      <th colspan=\"2\" halign=\"left\">std</th>\n",
       "    </tr>\n",
       "    <tr>\n",
       "      <th></th>\n",
       "      <th>mean</th>\n",
       "      <th>count</th>\n",
       "      <th>mean</th>\n",
       "      <th>count</th>\n",
       "      <th>mean</th>\n",
       "      <th>count</th>\n",
       "    </tr>\n",
       "    <tr>\n",
       "      <th>ticker</th>\n",
       "      <th></th>\n",
       "      <th></th>\n",
       "      <th></th>\n",
       "      <th></th>\n",
       "      <th></th>\n",
       "      <th></th>\n",
       "    </tr>\n",
       "  </thead>\n",
       "  <tbody>\n",
       "    <tr>\n",
       "      <th>a</th>\n",
       "      <td>50.0</td>\n",
       "      <td>1</td>\n",
       "      <td>0.004670</td>\n",
       "      <td>1</td>\n",
       "      <td>0.001270</td>\n",
       "      <td>1</td>\n",
       "    </tr>\n",
       "    <tr>\n",
       "      <th>aa</th>\n",
       "      <td>40.0</td>\n",
       "      <td>3</td>\n",
       "      <td>0.001860</td>\n",
       "      <td>3</td>\n",
       "      <td>0.004503</td>\n",
       "      <td>3</td>\n",
       "    </tr>\n",
       "    <tr>\n",
       "      <th>aal</th>\n",
       "      <td>45.0</td>\n",
       "      <td>2</td>\n",
       "      <td>0.006580</td>\n",
       "      <td>2</td>\n",
       "      <td>0.009605</td>\n",
       "      <td>2</td>\n",
       "    </tr>\n",
       "    <tr>\n",
       "      <th>aap</th>\n",
       "      <td>32.5</td>\n",
       "      <td>4</td>\n",
       "      <td>0.003620</td>\n",
       "      <td>4</td>\n",
       "      <td>0.003735</td>\n",
       "      <td>4</td>\n",
       "    </tr>\n",
       "    <tr>\n",
       "      <th>aapl</th>\n",
       "      <td>30.0</td>\n",
       "      <td>5</td>\n",
       "      <td>0.010562</td>\n",
       "      <td>5</td>\n",
       "      <td>0.010196</td>\n",
       "      <td>5</td>\n",
       "    </tr>\n",
       "  </tbody>\n",
       "</table>\n",
       "</div>"
      ],
      "text/plain": [
       "       epoch             avg             std      \n",
       "        mean count      mean count      mean count\n",
       "ticker                                            \n",
       "a       50.0     1  0.004670     1  0.001270     1\n",
       "aa      40.0     3  0.001860     3  0.004503     3\n",
       "aal     45.0     2  0.006580     2  0.009605     2\n",
       "aap     32.5     4  0.003620     4  0.003735     4\n",
       "aapl    30.0     5  0.010562     5  0.010196     5"
      ]
     },
     "execution_count": 111,
     "metadata": {},
     "output_type": "execute_result"
    }
   ],
   "source": [
    "temp.groupby('ticker').agg(['mean', 'count']).head()"
   ]
  },
  {
   "cell_type": "code",
   "execution_count": 88,
   "metadata": {},
   "outputs": [],
   "source": [
    "avg_non_zero = df[(df['train_test']=='test') & (df['avg'] != 0.0)]"
   ]
  },
  {
   "cell_type": "code",
   "execution_count": 90,
   "metadata": {},
   "outputs": [
    {
     "data": {
      "text/html": [
       "<div>\n",
       "<style scoped>\n",
       "    .dataframe tbody tr th:only-of-type {\n",
       "        vertical-align: middle;\n",
       "    }\n",
       "\n",
       "    .dataframe tbody tr th {\n",
       "        vertical-align: top;\n",
       "    }\n",
       "\n",
       "    .dataframe thead th {\n",
       "        text-align: right;\n",
       "    }\n",
       "</style>\n",
       "<table border=\"1\" class=\"dataframe\">\n",
       "  <thead>\n",
       "    <tr style=\"text-align: right;\">\n",
       "      <th></th>\n",
       "      <th>epoch</th>\n",
       "      <th>avg</th>\n",
       "      <th>std</th>\n",
       "    </tr>\n",
       "  </thead>\n",
       "  <tbody>\n",
       "    <tr>\n",
       "      <th>count</th>\n",
       "      <td>2565.000000</td>\n",
       "      <td>2565.000000</td>\n",
       "      <td>2446.000000</td>\n",
       "    </tr>\n",
       "    <tr>\n",
       "      <th>mean</th>\n",
       "      <td>33.824561</td>\n",
       "      <td>0.001713</td>\n",
       "      <td>0.005097</td>\n",
       "    </tr>\n",
       "    <tr>\n",
       "      <th>std</th>\n",
       "      <td>13.170860</td>\n",
       "      <td>0.004508</td>\n",
       "      <td>0.003992</td>\n",
       "    </tr>\n",
       "    <tr>\n",
       "      <th>min</th>\n",
       "      <td>10.000000</td>\n",
       "      <td>-0.022690</td>\n",
       "      <td>0.000040</td>\n",
       "    </tr>\n",
       "    <tr>\n",
       "      <th>25%</th>\n",
       "      <td>20.000000</td>\n",
       "      <td>-0.000500</td>\n",
       "      <td>0.002770</td>\n",
       "    </tr>\n",
       "    <tr>\n",
       "      <th>50%</th>\n",
       "      <td>40.000000</td>\n",
       "      <td>0.001090</td>\n",
       "      <td>0.004210</td>\n",
       "    </tr>\n",
       "    <tr>\n",
       "      <th>75%</th>\n",
       "      <td>50.000000</td>\n",
       "      <td>0.003130</td>\n",
       "      <td>0.006160</td>\n",
       "    </tr>\n",
       "    <tr>\n",
       "      <th>max</th>\n",
       "      <td>50.000000</td>\n",
       "      <td>0.055270</td>\n",
       "      <td>0.055350</td>\n",
       "    </tr>\n",
       "  </tbody>\n",
       "</table>\n",
       "</div>"
      ],
      "text/plain": [
       "             epoch          avg          std\n",
       "count  2565.000000  2565.000000  2446.000000\n",
       "mean     33.824561     0.001713     0.005097\n",
       "std      13.170860     0.004508     0.003992\n",
       "min      10.000000    -0.022690     0.000040\n",
       "25%      20.000000    -0.000500     0.002770\n",
       "50%      40.000000     0.001090     0.004210\n",
       "75%      50.000000     0.003130     0.006160\n",
       "max      50.000000     0.055270     0.055350"
      ]
     },
     "execution_count": 90,
     "metadata": {},
     "output_type": "execute_result"
    }
   ],
   "source": [
    "avg_non_zero.describe()"
   ]
  },
  {
   "cell_type": "code",
   "execution_count": null,
   "metadata": {},
   "outputs": [],
   "source": []
  },
  {
   "cell_type": "code",
   "execution_count": null,
   "metadata": {},
   "outputs": [],
   "source": [
    "df.tn_fp_fn_tp = df.tn_fp_fn_tp.map(lambda x: x.split('[')[1].split(']')[0].split())"
   ]
  },
  {
   "cell_type": "code",
   "execution_count": 24,
   "metadata": {},
   "outputs": [],
   "source": [
    "fig, axes = plt.subplots(len(stat_log_files), 1)\n",
    "\n",
    "for axis, log_file in zip(axes, stat_log_files):\n",
    "    df = pd.read_csv('logs/'+log_file, header=None)\n",
    "    df.columns = ['ticker', 'epoch', 'train_test', 'avg', 'std', 'tn_fp_fn_tp']\n",
    "    df.tn_fp_fn_tp = df.tn_fp_fn_tp.map(lambda x: x.split('[')[1].split(']')[0].split())\n",
    "    sns.distplot(df[(df['train_test']=='test') & (df['avg'] != 0.0)].avg, ax=axis)"
   ]
  },
  {
   "cell_type": "code",
   "execution_count": 112,
   "metadata": {},
   "outputs": [
    {
     "data": {
      "text/html": [
       "<div>\n",
       "<style scoped>\n",
       "    .dataframe tbody tr th:only-of-type {\n",
       "        vertical-align: middle;\n",
       "    }\n",
       "\n",
       "    .dataframe tbody tr th {\n",
       "        vertical-align: top;\n",
       "    }\n",
       "\n",
       "    .dataframe thead th {\n",
       "        text-align: right;\n",
       "    }\n",
       "</style>\n",
       "<table border=\"1\" class=\"dataframe\">\n",
       "  <thead>\n",
       "    <tr style=\"text-align: right;\">\n",
       "      <th></th>\n",
       "      <th>ticker</th>\n",
       "      <th>epoch</th>\n",
       "      <th>train_test</th>\n",
       "      <th>avg</th>\n",
       "      <th>std</th>\n",
       "      <th>tn_fp_fn_tp</th>\n",
       "    </tr>\n",
       "  </thead>\n",
       "  <tbody>\n",
       "    <tr>\n",
       "      <th>0</th>\n",
       "      <td>clx</td>\n",
       "      <td>10</td>\n",
       "      <td>train</td>\n",
       "      <td>0.00665</td>\n",
       "      <td>0.00469</td>\n",
       "      <td>[17486, 7, 3419, 30]</td>\n",
       "    </tr>\n",
       "    <tr>\n",
       "      <th>1</th>\n",
       "      <td>clx</td>\n",
       "      <td>10</td>\n",
       "      <td>test</td>\n",
       "      <td>0.00282</td>\n",
       "      <td>NaN</td>\n",
       "      <td>[4366, 0, 625, 1]</td>\n",
       "    </tr>\n",
       "    <tr>\n",
       "      <th>2</th>\n",
       "      <td>clx</td>\n",
       "      <td>20</td>\n",
       "      <td>train</td>\n",
       "      <td>0.00856</td>\n",
       "      <td>0.00465</td>\n",
       "      <td>[17490, 3, 3421, 28]</td>\n",
       "    </tr>\n",
       "    <tr>\n",
       "      <th>3</th>\n",
       "      <td>clx</td>\n",
       "      <td>20</td>\n",
       "      <td>test</td>\n",
       "      <td>0.00292</td>\n",
       "      <td>NaN</td>\n",
       "      <td>[4366, 0, 625, 1]</td>\n",
       "    </tr>\n",
       "    <tr>\n",
       "      <th>4</th>\n",
       "      <td>clx</td>\n",
       "      <td>30</td>\n",
       "      <td>train</td>\n",
       "      <td>0.00833</td>\n",
       "      <td>0.00437</td>\n",
       "      <td>[17490, 3, 3404, 45]</td>\n",
       "    </tr>\n",
       "  </tbody>\n",
       "</table>\n",
       "</div>"
      ],
      "text/plain": [
       "  ticker  epoch train_test      avg      std           tn_fp_fn_tp\n",
       "0    clx     10      train  0.00665  0.00469  [17486, 7, 3419, 30]\n",
       "1    clx     10       test  0.00282      NaN     [4366, 0, 625, 1]\n",
       "2    clx     20      train  0.00856  0.00465  [17490, 3, 3421, 28]\n",
       "3    clx     20       test  0.00292      NaN     [4366, 0, 625, 1]\n",
       "4    clx     30      train  0.00833  0.00437  [17490, 3, 3404, 45]"
      ]
     },
     "execution_count": 112,
     "metadata": {},
     "output_type": "execute_result"
    }
   ],
   "source": [
    "df.head()"
   ]
  },
  {
   "cell_type": "code",
   "execution_count": 126,
   "metadata": {},
   "outputs": [],
   "source": [
    "df['tn'] = df.tn_fp_fn_tp.map(lambda x : int(x[0]))\n",
    "df['fp'] = df.tn_fp_fn_tp.map(lambda x : int(x[1]))\n",
    "df['fn'] = df.tn_fp_fn_tp.map(lambda x : int(x[2]))\n",
    "df['tp'] = df.tn_fp_fn_tp.map(lambda x : int(x[3]))\n",
    "df['fp_tp_avg'] = df.avg * (df.fp + df.tp)"
   ]
  },
  {
   "cell_type": "code",
   "execution_count": 129,
   "metadata": {},
   "outputs": [
    {
     "data": {
      "text/html": [
       "<div>\n",
       "<style scoped>\n",
       "    .dataframe tbody tr th:only-of-type {\n",
       "        vertical-align: middle;\n",
       "    }\n",
       "\n",
       "    .dataframe tbody tr th {\n",
       "        vertical-align: top;\n",
       "    }\n",
       "\n",
       "    .dataframe thead th {\n",
       "        text-align: right;\n",
       "    }\n",
       "</style>\n",
       "<table border=\"1\" class=\"dataframe\">\n",
       "  <thead>\n",
       "    <tr style=\"text-align: right;\">\n",
       "      <th></th>\n",
       "      <th>ticker</th>\n",
       "      <th>epoch</th>\n",
       "      <th>train_test</th>\n",
       "      <th>avg</th>\n",
       "      <th>std</th>\n",
       "      <th>tn_fp_fn_tp</th>\n",
       "      <th>tn</th>\n",
       "      <th>fp</th>\n",
       "      <th>fn</th>\n",
       "      <th>tp</th>\n",
       "      <th>fp_tp_avg</th>\n",
       "    </tr>\n",
       "  </thead>\n",
       "  <tbody>\n",
       "    <tr>\n",
       "      <th>0</th>\n",
       "      <td>clx</td>\n",
       "      <td>10</td>\n",
       "      <td>train</td>\n",
       "      <td>0.00665</td>\n",
       "      <td>0.00469</td>\n",
       "      <td>[17486, 7, 3419, 30]</td>\n",
       "      <td>17486</td>\n",
       "      <td>7</td>\n",
       "      <td>3419</td>\n",
       "      <td>30</td>\n",
       "      <td>0.24605</td>\n",
       "    </tr>\n",
       "    <tr>\n",
       "      <th>1</th>\n",
       "      <td>clx</td>\n",
       "      <td>10</td>\n",
       "      <td>test</td>\n",
       "      <td>0.00282</td>\n",
       "      <td>NaN</td>\n",
       "      <td>[4366, 0, 625, 1]</td>\n",
       "      <td>4366</td>\n",
       "      <td>0</td>\n",
       "      <td>625</td>\n",
       "      <td>1</td>\n",
       "      <td>0.00282</td>\n",
       "    </tr>\n",
       "    <tr>\n",
       "      <th>2</th>\n",
       "      <td>clx</td>\n",
       "      <td>20</td>\n",
       "      <td>train</td>\n",
       "      <td>0.00856</td>\n",
       "      <td>0.00465</td>\n",
       "      <td>[17490, 3, 3421, 28]</td>\n",
       "      <td>17490</td>\n",
       "      <td>3</td>\n",
       "      <td>3421</td>\n",
       "      <td>28</td>\n",
       "      <td>0.26536</td>\n",
       "    </tr>\n",
       "    <tr>\n",
       "      <th>3</th>\n",
       "      <td>clx</td>\n",
       "      <td>20</td>\n",
       "      <td>test</td>\n",
       "      <td>0.00292</td>\n",
       "      <td>NaN</td>\n",
       "      <td>[4366, 0, 625, 1]</td>\n",
       "      <td>4366</td>\n",
       "      <td>0</td>\n",
       "      <td>625</td>\n",
       "      <td>1</td>\n",
       "      <td>0.00292</td>\n",
       "    </tr>\n",
       "    <tr>\n",
       "      <th>4</th>\n",
       "      <td>clx</td>\n",
       "      <td>30</td>\n",
       "      <td>train</td>\n",
       "      <td>0.00833</td>\n",
       "      <td>0.00437</td>\n",
       "      <td>[17490, 3, 3404, 45]</td>\n",
       "      <td>17490</td>\n",
       "      <td>3</td>\n",
       "      <td>3404</td>\n",
       "      <td>45</td>\n",
       "      <td>0.39984</td>\n",
       "    </tr>\n",
       "  </tbody>\n",
       "</table>\n",
       "</div>"
      ],
      "text/plain": [
       "  ticker  epoch train_test      avg      std           tn_fp_fn_tp     tn  fp  \\\n",
       "0    clx     10      train  0.00665  0.00469  [17486, 7, 3419, 30]  17486   7   \n",
       "1    clx     10       test  0.00282      NaN     [4366, 0, 625, 1]   4366   0   \n",
       "2    clx     20      train  0.00856  0.00465  [17490, 3, 3421, 28]  17490   3   \n",
       "3    clx     20       test  0.00292      NaN     [4366, 0, 625, 1]   4366   0   \n",
       "4    clx     30      train  0.00833  0.00437  [17490, 3, 3404, 45]  17490   3   \n",
       "\n",
       "     fn  tp  fp_tp_avg  \n",
       "0  3419  30    0.24605  \n",
       "1   625   1    0.00282  \n",
       "2  3421  28    0.26536  \n",
       "3   625   1    0.00292  \n",
       "4  3404  45    0.39984  "
      ]
     },
     "execution_count": 129,
     "metadata": {},
     "output_type": "execute_result"
    }
   ],
   "source": [
    "df.head()"
   ]
  },
  {
   "cell_type": "code",
   "execution_count": 174,
   "metadata": {},
   "outputs": [
    {
     "data": {
      "text/plain": [
       "1043"
      ]
     },
     "execution_count": 174,
     "metadata": {},
     "output_type": "execute_result"
    },
    {
     "data": {
      "image/png": "[encoded data removed]",
      "text/plain": [
       "<Figure size 432x288 with 1 Axes>"
      ]
     },
     "metadata": {},
     "output_type": "display_data"
    }
   ],
   "source": [
    "of_interest = df[(df['train_test']=='test') & (df['avg'] != 0.0) & (df['epoch'] < 35)\n",
    "               & (df['fp'] + df['tp'] < 50)]\n",
    "\n",
    "_ = sns.distplot(of_interest.fp_tp_avg)\n",
    "len(of_interest)"
   ]
  },
  {
   "cell_type": "code",
   "execution_count": 175,
   "metadata": {},
   "outputs": [
    {
     "data": {
      "text/plain": [
       "<matplotlib.axes._subplots.AxesSubplot at 0x7f41916aceb8>"
      ]
     },
     "execution_count": 175,
     "metadata": {},
     "output_type": "execute_result"
    },
    {
     "data": {
      "image/png": "[encoded data removed]",
      "text/plain": [
       "<Figure size 432x288 with 1 Axes>"
      ]
     },
     "metadata": {},
     "output_type": "display_data"
    }
   ],
   "source": [
    "sns.distplot(of_interest.groupby('ticker').fp_tp_avg.agg(['mean'])['mean'])"
   ]
  },
  {
   "cell_type": "code",
   "execution_count": 176,
   "metadata": {},
   "outputs": [
    {
     "data": {
      "text/plain": [
       "<matplotlib.axes._subplots.AxesSubplot at 0x7f4191631a90>"
      ]
     },
     "execution_count": 176,
     "metadata": {},
     "output_type": "execute_result"
    },
    {
     "data": {
      "image/png": "[encoded data removed]",
      "text/plain": [
       "<Figure size 432x288 with 1 Axes>"
      ]
     },
     "metadata": {},
     "output_type": "display_data"
    }
   ],
   "source": [
    "sns.distplot(of_interest.fp + of_interest.tp)"
   ]
  },
  {
   "cell_type": "code",
   "execution_count": 177,
   "metadata": {},
   "outputs": [
    {
     "data": {
      "text/plain": [
       "225"
      ]
     },
     "execution_count": 177,
     "metadata": {},
     "output_type": "execute_result"
    },
    {
     "data": {
      "image/png": "[encoded data removed]",
      "text/plain": [
       "<Figure size 432x288 with 1 Axes>"
      ]
     },
     "metadata": {},
     "output_type": "display_data"
    }
   ],
   "source": [
    "of_interest = df[(df['train_test']=='test') & (df['avg'] != 0.0) & (df['epoch'] < 35)\n",
    "               & (df['fp'] + df['tp'] > 50)]\n",
    "\n",
    "sns.distplot(of_interest.fp_tp_avg)\n",
    "len(of_interest)"
   ]
  },
  {
   "cell_type": "code",
   "execution_count": 178,
   "metadata": {},
   "outputs": [
    {
     "data": {
      "text/plain": [
       "<matplotlib.axes._subplots.AxesSubplot at 0x7f41915bb390>"
      ]
     },
     "execution_count": 178,
     "metadata": {},
     "output_type": "execute_result"
    },
    {
     "data": {
      "image/png": "[encoded data removed]",
      "text/plain": [
       "<Figure size 432x288 with 1 Axes>"
      ]
     },
     "metadata": {},
     "output_type": "display_data"
    }
   ],
   "source": [
    "sns.distplot(of_interest.groupby('ticker').fp_tp_avg.agg(['mean'])['mean'])"
   ]
  },
  {
   "cell_type": "code",
   "execution_count": null,
   "metadata": {},
   "outputs": [],
   "source": []
  }
 ],
 "metadata": {
  "kernelspec": {
   "display_name": "Python [conda env:clone_tf]",
   "language": "python",
   "name": "conda-env-clone_tf-py"
  },
  "language_info": {
   "codemirror_mode": {
    "name": "ipython",
    "version": 3
   },
   "file_extension": ".py",
   "mimetype": "text/x-python",
   "name": "python",
   "nbconvert_exporter": "python",
   "pygments_lexer": "ipython3",
   "version": "3.6.6"
  }
 },
 "nbformat": 4,
 "nbformat_minor": 2
}
