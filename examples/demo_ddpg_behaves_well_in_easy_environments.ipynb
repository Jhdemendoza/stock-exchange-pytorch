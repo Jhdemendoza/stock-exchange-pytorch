{
 "cells": [
  {
   "cell_type": "code",
   "execution_count": 1,
   "metadata": {},
   "outputs": [
    {
     "name": "stdout",
     "output_type": "stream",
     "text": [
      "--- log folder exists\n"
     ]
    }
   ],
   "source": [
    "import gym\n",
    "import gym_exchange\n",
    "import random\n",
    "import numpy as np\n",
    "import pandas as pd\n",
    "import datetime\n",
    "import torch\n",
    "import torch.nn as nn\n",
    "import torch.nn.functional as F\n",
    "import matplotlib.pyplot as plt\n",
    "import itertools\n",
    "import functools\n",
    "from functools import partial\n",
    "from copy import deepcopy\n",
    "import datetime\n",
    "from itertools import count\n",
    "import math\n",
    "import logging\n",
    "import matplotlib.pyplot as plt\n",
    "import numpy as np\n",
    "from random import choice\n",
    "import time\n",
    "from reinforcement import device, train_dqn\n",
    "import seaborn as sns\n",
    "from collections import deque, Counter\n",
    "from torch.utils.data import Dataset, DataLoader\n",
    "import torch.optim as optim\n",
    "import os\n",
    "os.chdir('..')\n",
    "\n",
    "%matplotlib inline"
   ]
  },
  {
   "cell_type": "code",
   "execution_count": 2,
   "metadata": {},
   "outputs": [],
   "source": [
    "from gym_engine.utils import iterable"
   ]
  },
  {
   "cell_type": "code",
   "execution_count": 3,
   "metadata": {},
   "outputs": [],
   "source": [
    "from torch.optim import Adam\n",
    "from reinforcement import ReplayMemoryWithDone\n",
    "from reinforcement import TransitionDone\n",
    "from reinforcement.train import load_game_from_replay_memory, batch_to_tensor"
   ]
  },
  {
   "cell_type": "code",
   "execution_count": 4,
   "metadata": {},
   "outputs": [],
   "source": [
    "from IPython.display import clear_output\n",
    "import matplotlib.pyplot as plt\n",
    "%matplotlib inline"
   ]
  },
  {
   "cell_type": "code",
   "execution_count": 5,
   "metadata": {},
   "outputs": [],
   "source": [
    "class ReplayBuffer:\n",
    "    def __init__(self, capacity):\n",
    "        self.capacity = capacity\n",
    "        self.buffer = []\n",
    "        self.position = 0\n",
    "    \n",
    "    def push(self, state, action, reward, next_state, done):\n",
    "        if len(self.buffer) < self.capacity:\n",
    "            self.buffer.append(None)\n",
    "        self.buffer[self.position] = (state, action, reward, next_state, done)\n",
    "        self.position = (self.position + 1) % self.capacity\n",
    "    \n",
    "    def sample(self, batch_size):\n",
    "        batch = random.sample(self.buffer, batch_size)\n",
    "        state, action, reward, next_state, done = map(np.stack, zip(*batch))\n",
    "        return state, action, reward, next_state, done\n",
    "    \n",
    "    def __len__(self):\n",
    "        return len(self.buffer)"
   ]
  },
  {
   "cell_type": "code",
   "execution_count": 6,
   "metadata": {},
   "outputs": [],
   "source": [
    "class NormalizedActions(gym.ActionWrapper):\n",
    "    def lb_ub(self):\n",
    "        return self.action_space.low, self.action_space.high\n",
    "    \n",
    "    def action(self, action):\n",
    "        lb, ub = self.lb_ub()\n",
    "        scaled_action = lb + (action + 1.0) * (ub - lb) / 2\n",
    "        return np.clip(scaled_action, lb, ub)\n",
    "\n",
    "    def reverse_action(self, scaled_action):\n",
    "        lb, ub = self.lb_ub()\n",
    "        action = 2 * (scaled_action - lb) / (ub - lb) - 1\n",
    "        return np.clip(action, lb, ub)"
   ]
  },
  {
   "cell_type": "code",
   "execution_count": 7,
   "metadata": {},
   "outputs": [],
   "source": [
    "# Modified, originally from\n",
    "# https://github.com/vitchyr/rlkit/blob/master/rlkit/exploration_strategies/ou_strategy.py\n",
    "class OUNoise:\n",
    "    def __init__(self, gym_env_action_space, mu=0.0, theta=0.15, \n",
    "                 max_sigma=0.3, min_sigma=0.3, decay_period=100000):\n",
    "        self.mu           = mu\n",
    "        self.theta        = theta\n",
    "        self.sigma        = max_sigma\n",
    "        self.max_sigma    = max_sigma\n",
    "        self.min_sigma    = min_sigma\n",
    "        self.decay_period = decay_period\n",
    "        # Discrete, We need gym_env.action_space.n\n",
    "        # if isinstance(gym_env_action_space, gym.spaces.Discrete):\n",
    "        #     self.action_dim = gym_env_action_space.n\n",
    "        # else:\n",
    "        #     self.action_dim = gym_env_action_space.shape[0]\n",
    "        self.action_dim   = gym_env_action_space.shape[0]\n",
    "        # I think low, high should be -1, 1 if normalized in our manner\n",
    "        # Something to think about ...\n",
    "        self.low          = gym_env_action_space.low\n",
    "        self.high         = gym_env_action_space.high\n",
    "        self.reset()\n",
    "    \n",
    "    def reset(self):\n",
    "        self.state = np.ones(self.action_dim) * self.mu\n",
    "    \n",
    "    def get_noise(self, t=0):\n",
    "        # update sigma\n",
    "        self.sigma = self.max_sigma - (self.max_sigma - self.min_sigma) \\\n",
    "                                      * min(1.0, t / self.decay_period)\n",
    "        x  = self.state\n",
    "        dx = self.theta * (self.mu - x) \\\n",
    "             + self.sigma * np.random.randn(self.action_dim)\n",
    "        \n",
    "        # self.state == noise\n",
    "        self.state = x + dx\n",
    "        return np.float32(self.state)"
   ]
  },
  {
   "cell_type": "code",
   "execution_count": 24,
   "metadata": {},
   "outputs": [],
   "source": [
    "class Actor(nn.Module):\n",
    "    def __init__(self, num_input, num_hidden, num_action_space):\n",
    "        super(Actor, self).__init__()\n",
    "        \n",
    "        self.s0 = None\n",
    "        if iterable(num_input):\n",
    "            len_input = len(num_input)\n",
    "            if len_input == 2:\n",
    "                self.s0 = nn.LSTM(num_input[1], num_hidden)\n",
    "            if len_input == 1:\n",
    "                num_input = num_input[0]\n",
    "        \n",
    "        if self.s0 is None:\n",
    "            self.s1 = nn.Sequential(\n",
    "                nn.Linear(num_input, num_hidden),\n",
    "                nn.LayerNorm(num_hidden),\n",
    "                nn.ReLU(inplace=True))\n",
    "        \n",
    "        self.s2 = nn.Sequential(\n",
    "            nn.Linear(num_hidden, num_hidden),\n",
    "            nn.LayerNorm(num_hidden),\n",
    "            nn.ReLU(inplace=True))\n",
    "        self.out = nn.Linear(num_hidden, num_action_space)\n",
    "        # https://github.com/ikostrikov/pytorch-ddpg-naf/blob/master/ddpg.py\n",
    "        # We are doing tanh afterall!\n",
    "        self.out.weight.data.mul_(0.1)\n",
    "        self.out.bias.data.mul_(0.1)\n",
    "    \n",
    "    def forward(self, x):\n",
    "        if self.s0:\n",
    "            x = self.s0(x)[0][:, -1, :]\n",
    "        else:\n",
    "            x = self.s1(x)\n",
    "        x = self.s2(x)\n",
    "        return F.tanh(self.out(x))\n",
    "    \n",
    "    def select_action(self, state):\n",
    "        state = torch.FloatTensor(state).unsqueeze(0).to(device)\n",
    "        action = self.forward(state).detach()\n",
    "        return action.cpu().numpy()[0]"
   ]
  },
  {
   "cell_type": "code",
   "execution_count": 57,
   "metadata": {},
   "outputs": [],
   "source": [
    "class Critic(nn.Module):\n",
    "    def __init__(self, num_input, num_hidden, num_action_space):\n",
    "        super(Critic, self).__init__()\n",
    "        \n",
    "        self.s0 = None\n",
    "        if iterable(num_input):\n",
    "            len_input = len(num_input)\n",
    "            if len_input == 2:\n",
    "                self.s0 = nn.LSTM(num_input[1], num_hidden)\n",
    "                # Taking leeway\n",
    "                #    Note: num_input is used in s1, so doing this...\n",
    "                num_input = num_hidden\n",
    "            if len_input == 1:\n",
    "                num_input = num_input[0]\n",
    "        \n",
    "        self.s1 = nn.Sequential(\n",
    "            nn.Linear(num_input + num_action_space, num_hidden),\n",
    "            nn.LayerNorm(num_hidden),\n",
    "            nn.ReLU(inplace=True))\n",
    "\n",
    "        self.s2 = nn.Sequential(\n",
    "            nn.Linear(num_hidden, num_hidden),\n",
    "            nn.LayerNorm(num_hidden),\n",
    "            nn.ReLU(inplace=True))\n",
    "        \n",
    "        self.value = nn.Linear(num_hidden, 1)\n",
    "        self.value.weight.data.mul_(0.1)\n",
    "        self.value.bias.data.mul_(0.1)\n",
    "    \n",
    "    def forward(self, state, action):\n",
    "        if self.s0:\n",
    "            x = self.s0(state)[0][:, -1, :]\n",
    "        else:\n",
    "            x = state\n",
    "        x = torch.cat((x, action), 1)\n",
    "        x = self.s1(x)\n",
    "        x = self.s2(x)\n",
    "        return self.value(x)"
   ]
  },
  {
   "cell_type": "code",
   "execution_count": 58,
   "metadata": {},
   "outputs": [],
   "source": [
    "class Update:\n",
    "    @classmethod\n",
    "    def soft_update(cls, source, target, tau):\n",
    "        for target_param, source_param in zip(target.parameters(), source.parameters()):\n",
    "            target_param.data.copy_(target_param.data * (1.0 - tau) \n",
    "                                    + source_param.data * tau)\n",
    "    @classmethod\n",
    "    def hard_update(cls, source, target):\n",
    "        target.load_state_dict(source.state_dict())"
   ]
  },
  {
   "cell_type": "code",
   "execution_count": 59,
   "metadata": {},
   "outputs": [],
   "source": [
    "class DDPG(nn.Module):\n",
    "    def __init__(self, num_input, num_hidden, num_action_space, gym_env, args):\n",
    "        super(DDPG, self).__init__()\n",
    "        self.args = args\n",
    "        \n",
    "        self.actor        = Actor(num_input, num_hidden, num_action_space)\n",
    "        self.actor_target = Actor(num_input, num_hidden, num_action_space)\n",
    "        Update.hard_update(self.actor, self.actor_target)\n",
    "\n",
    "        self.critic        = Critic(num_input, num_hidden, num_action_space)\n",
    "        self.critic_target = Critic(num_input, num_hidden, num_action_space)\n",
    "        Update.hard_update(self.critic, self.critic_target)\n",
    "        \n",
    "        self.optim_actor  = Adam(self.actor.parameters(), lr=args.actor_lr)\n",
    "        self.optim_critic = Adam(self.critic.parameters(), lr=args.critic_lr)\n",
    "        \n",
    "        # add options through args at some point\n",
    "        self.noise = OUNoise(gym_env.action_space)\n",
    "\n",
    "        self.value_loss_fn = nn.MSELoss()\n",
    "    \n",
    "    def select_action(self, state, t=0):\n",
    "        self.actor.eval()\n",
    "        # should detach from here...\n",
    "        action = self.actor.select_action(state)\n",
    "        action += self.get_noise(t)\n",
    "        self.actor.train()\n",
    "        return np.clip(action, -1.0, 1.0)\n",
    "    \n",
    "    def select_action_numpy(self, state, t=0):\n",
    "        return self.select_action(state, t)\n",
    "    \n",
    "    def reset_noise(self):\n",
    "        self.noise.reset()\n",
    "    \n",
    "    def get_noise(self, t):\n",
    "        return self.noise.get_noise(t)\n",
    "    \n",
    "    def get_policy_loss(self, state):\n",
    "        action = self.actor(state)\n",
    "        return -self.critic(state, action).mean()\n",
    "    \n",
    "    def get_value_loss(self, state, action, reward, next_state, done):\n",
    "        next_action = self.actor_target(next_state).detach()\n",
    "        target_value = self.critic_target(next_state, next_action).detach()\n",
    "        expected_value = (reward + (1.0 - done) \\\n",
    "                                   * target_value * self.args.gamma).cuda()\n",
    "\n",
    "        pred_value = self.critic(state, action)\n",
    "\n",
    "        value_loss = self.value_loss_fn(pred_value, expected_value)\n",
    "        return value_loss\n",
    "    \n",
    "    def forward(self, x):\n",
    "        raise NotImplementedError\n",
    "    \n",
    "    def soft_update(self, value_loss, policy_loss):\n",
    "        \n",
    "        self.optim_critic.zero_grad()\n",
    "        value_loss.backward()\n",
    "        self.optim_critic.step()\n",
    "\n",
    "        self.optim_actor.zero_grad()\n",
    "        policy_loss.backward()\n",
    "        self.optim_actor.step()\n",
    "\n",
    "        Update.soft_update(self.critic, self.critic_target, self.args.tau)\n",
    "        Update.soft_update(self.actor, self.actor_target, self.args.tau)\n",
    "        "
   ]
  },
  {
   "cell_type": "code",
   "execution_count": 60,
   "metadata": {},
   "outputs": [],
   "source": [
    "def plot(idx, rewards):\n",
    "    clear_output(True)\n",
    "    plt.figure(figsize=(20,5))\n",
    "    plt.subplot(131)\n",
    "    plt.title('frame {}, reward: {}'.format(idx, rewards[-1]))\n",
    "    plt.plot(rewards)\n",
    "    plt.show()"
   ]
  },
  {
   "cell_type": "code",
   "execution_count": 61,
   "metadata": {},
   "outputs": [],
   "source": [
    "# Wonder if I should wrap this into a class...\n",
    "def train_ddpg(ddpg_agent, replay_buffer, batch_size, num_iteration=0):\n",
    "\n",
    "    if len(replay_buffer) < batch_size * 10:\n",
    "        return\n",
    "    \n",
    "    state, action, reward, next_state, done = replay_buffer.sample(batch_size)\n",
    "    \n",
    "    state      = torch.FloatTensor(state).to(device)\n",
    "    action     = torch.FloatTensor(action).to(device)\n",
    "    reward     = torch.FloatTensor(reward).unsqueeze(1).to(device)\n",
    "    next_state = torch.FloatTensor(next_state).to(device)\n",
    "    done       = torch.FloatTensor(np.float32(done)).unsqueeze(1).to(device)\n",
    "    \n",
    "    value_loss  = ddpg_agent.get_value_loss(state, action, reward, next_state, done)\n",
    "    policy_loss = ddpg_agent.get_policy_loss(state)\n",
    "     \n",
    "    # This can't be the best way...\n",
    "    # Need to think about what's the best design...\n",
    "    ddpg_agent.soft_update(value_loss, policy_loss)"
   ]
  },
  {
   "cell_type": "code",
   "execution_count": 62,
   "metadata": {},
   "outputs": [],
   "source": [
    "import gym_exchange"
   ]
  },
  {
   "cell_type": "code",
   "execution_count": 63,
   "metadata": {},
   "outputs": [
    {
     "name": "stdout",
     "output_type": "stream",
     "text": [
      "\u001b[33mWARN: gym.spaces.Box autodetected dtype as <class 'numpy.float32'>. Please provide explicit dtype.\u001b[0m\n",
      "\u001b[33mWARN: gym.spaces.Box autodetected dtype as <class 'numpy.float32'>. Please provide explicit dtype.\u001b[0m\n"
     ]
    },
    {
     "name": "stderr",
     "output_type": "stream",
     "text": [
      "/home/wbaik/Code/library/gym/gym/__init__.py:22: UserWarning: DEPRECATION WARNING: to improve load times, gym no longer automatically loads gym.spaces. Please run \"import gym.spaces\" to load gym.spaces on your own. This warning will turn into an error in a future version of gym.\n",
      "  warnings.warn('DEPRECATION WARNING: to improve load times, gym no longer automatically loads gym.spaces. Please run \"import gym.spaces\" to load gym.spaces on your own. This warning will turn into an error in a future version of gym.')\n"
     ]
    }
   ],
   "source": [
    "# env = NormalizedActions(gym.make(\"game-stock-exchange-continuous-v0\"))\n",
    "env = NormalizedActions(gym.make(\"Pendulum-v0\"))\n",
    "# env = NormalizedActions(gym.make(\"CartPole-v1\")) # def:= env.action_space.n \n",
    "ou_noise = OUNoise(env.action_space)\n",
    "\n",
    "state_dim  = env.observation_space.shape\n",
    "action_dim = env.action_space.shape[0]\n",
    "hidden_dim = 256"
   ]
  },
  {
   "cell_type": "code",
   "execution_count": 76,
   "metadata": {},
   "outputs": [],
   "source": [
    "class Args:\n",
    "    def __init__(self):\n",
    "        self.actor_lr = 1e-3\n",
    "        self.critic_lr = 1e-3\n",
    "        self.gamma = 0.99\n",
    "        self.tau = 1e-2\n",
    "        \n",
    "args = Args()"
   ]
  },
  {
   "cell_type": "code",
   "execution_count": 77,
   "metadata": {},
   "outputs": [],
   "source": [
    "ddpg_agent = DDPG(state_dim, hidden_dim, action_dim, env, args).cuda()"
   ]
  },
  {
   "cell_type": "code",
   "execution_count": 71,
   "metadata": {},
   "outputs": [],
   "source": [
    "rm = ReplayBuffer(1000000)"
   ]
  },
  {
   "cell_type": "code",
   "execution_count": 78,
   "metadata": {
    "scrolled": false
   },
   "outputs": [],
   "source": [
    "def main():\n",
    "    BATCH_SIZE = 128\n",
    "    N_EPISODE = 120\n",
    "    MAX_STEP = 1000\n",
    "    rewards = []\n",
    "\n",
    "    for cur_iter in range(1, N_EPISODE+1):\n",
    "        state = env.reset()\n",
    "        ddpg_agent.reset_noise()\n",
    "        episode_reward = 0\n",
    "\n",
    "        for step in range(MAX_STEP):\n",
    "            action = ddpg_agent.select_action_numpy(state, step)\n",
    "            next_state, reward, done, _ = env.step(action)\n",
    "            rm.push(state, action, reward, next_state, done)\n",
    "\n",
    "            state = next_state\n",
    "            episode_reward += reward\n",
    "\n",
    "            train_ddpg(ddpg_agent, rm, BATCH_SIZE)\n",
    "            if cur_iter % 40 == 0:\n",
    "                plot(cur_iter, rewards)\n",
    "\n",
    "            if done:\n",
    "                print('\\rCurrent Episode No.{}, Episode reward: {}'.format(\n",
    "                    cur_iter, episode_reward), end='')\n",
    "                break\n",
    "\n",
    "        rewards.append(episode_reward)"
   ]
  },
  {
   "cell_type": "code",
   "execution_count": 79,
   "metadata": {
    "scrolled": false
   },
   "outputs": [
    {
     "data": {
      "image/png": "[encoded data removed]",
      "text/plain": [
       "<Figure size 1440x360 with 1 Axes>"
      ]
     },
     "metadata": {},
     "output_type": "display_data"
    },
    {
     "name": "stdout",
     "output_type": "stream",
     "text": [
      "\r",
      "Current Episode No.120, Episode reward: -631.364132775325"
     ]
    }
   ],
   "source": [
    "%load_ext line_profiler\n",
    "%lprun -f main main()"
   ]
  },
  {
   "cell_type": "code",
   "execution_count": null,
   "metadata": {},
   "outputs": [],
   "source": []
  },
  {
   "cell_type": "code",
   "execution_count": null,
   "metadata": {},
   "outputs": [],
   "source": []
  }
 ],
 "metadata": {
  "kernelspec": {
   "display_name": "Python [conda env:clone_tf]",
   "language": "python",
   "name": "conda-env-clone_tf-py"
  },
  "language_info": {
   "codemirror_mode": {
    "name": "ipython",
    "version": 3
   },
   "file_extension": ".py",
   "mimetype": "text/x-python",
   "name": "python",
   "nbconvert_exporter": "python",
   "pygments_lexer": "ipython3",
   "version": "3.6.6"
  }
 },
 "nbformat": 4,
 "nbformat_minor": 2
}
