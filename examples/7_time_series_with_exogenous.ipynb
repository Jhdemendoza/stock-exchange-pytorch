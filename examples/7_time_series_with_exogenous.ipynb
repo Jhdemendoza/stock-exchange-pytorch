{
 "cells": [
  {
   "cell_type": "code",
   "execution_count": 1,
   "metadata": {},
   "outputs": [],
   "source": [
    "import requests\n",
    "import pandas as pd\n",
    "import numpy as np\n",
    "import os\n",
    "os.chdir('..')"
   ]
  },
  {
   "cell_type": "code",
   "execution_count": 2,
   "metadata": {},
   "outputs": [],
   "source": [
    "import matplotlib.pyplot as plt\n",
    "import seaborn as sns\n",
    "%matplotlib inline"
   ]
  },
  {
   "cell_type": "code",
   "execution_count": 3,
   "metadata": {},
   "outputs": [],
   "source": [
    "cmgs = [item for item in os.listdir('data/daily_data/') if 'cmg' in item.split('_')]\n",
    "cmgs.sort()"
   ]
  },
  {
   "cell_type": "code",
   "execution_count": 4,
   "metadata": {},
   "outputs": [],
   "source": [
    "first_df = pd.read_csv('data/daily_data/{}'.format(cmgs[0]))\n",
    "for cmg in cmgs[1:]:\n",
    "    this_df = pd.read_csv('data/daily_data/{}'.format(cmg))\n",
    "    first_df = pd.concat([first_df, this_df])"
   ]
  },
  {
   "cell_type": "code",
   "execution_count": 5,
   "metadata": {},
   "outputs": [],
   "source": [
    "# cols = first_df.columns.tolist()\n",
    "# cols_to_drop = cols[:4] + ['label', 'changeOverTime', 'close', 'high', 'low', 'marketAverage',\n",
    "#                            'marketClose', 'marketOpen', 'volume', 'numberOfTrades', \n",
    "#                            'notional', 'open', 'marketChangeOverTime']"
   ]
  },
  {
   "cell_type": "code",
   "execution_count": 6,
   "metadata": {},
   "outputs": [],
   "source": [
    "# first_df.drop(cols_to_drop, axis=1, inplace=True)\n",
    "# # necessary\n",
    "# first_df.reset_index(drop=True, inplace=True)"
   ]
  },
  {
   "cell_type": "code",
   "execution_count": 7,
   "metadata": {},
   "outputs": [],
   "source": [
    "# idx_to_drop = first_df.index[first_df.marketNotional == 0.0]\n",
    "# first_df.drop(idx_to_drop, inplace=True)\n",
    "# first_df.reset_index(drop=True, inplace=True)\n",
    "# first_df.describe()"
   ]
  },
  {
   "cell_type": "code",
   "execution_count": 8,
   "metadata": {},
   "outputs": [],
   "source": [
    "# first_df.date = first_df.date.map(lambda x: datetime.datetime.strptime(str(x), '%Y%m%d'))\n",
    "# first_df['weekday'] = first_df.date.map(lambda x: str(x.weekday()))\n",
    "# first_df['month'] = first_df.date.map(lambda x: str(x.month))"
   ]
  },
  {
   "cell_type": "code",
   "execution_count": 9,
   "metadata": {},
   "outputs": [],
   "source": [
    "# first_df.minute = first_df.minute.map(lambda x: datetime.datetime.strptime(x, '%H:%M'))\n",
    "# first_df['hour'] = first_df.minute.map(lambda x: str(x.hour))"
   ]
  },
  {
   "cell_type": "code",
   "execution_count": 10,
   "metadata": {},
   "outputs": [],
   "source": [
    "import datetime\n",
    "def get_processed_minute_data(df):\n",
    "    cols = df.columns.tolist()\n",
    "    cols_to_drop = cols[:4] + ['label', 'changeOverTime', 'close', 'high', \n",
    "                               'low', 'marketAverage', 'marketClose', \n",
    "                               'marketOpen', 'volume', 'numberOfTrades', \n",
    "                               'notional', 'open', 'marketChangeOverTime']\n",
    "    df.drop(cols_to_drop, axis=1, inplace=True)\n",
    "    # necessary\n",
    "    df.reset_index(drop=True, inplace=True)\n",
    "    \n",
    "    idx_to_drop = df.index[df.marketNotional == 0.0]\n",
    "    df.drop(idx_to_drop, inplace=True)\n",
    "    df.reset_index(drop=True, inplace=True)\n",
    "    \n",
    "    df.date = df.date.map(lambda x: datetime.datetime.strptime(str(x), '%Y%m%d'))\n",
    "    df['weekday'] = df.date.map(lambda x: str(x.weekday()))\n",
    "    df['month']   = df.date.map(lambda x: str(x.month))\n",
    "    \n",
    "    df.minute = first_df.minute.map(lambda x: datetime.datetime.strptime(x, '%H:%M'))\n",
    "    df['hour'] = first_df.minute.map(lambda x: str(x.hour))\n",
    "    \n",
    "    return df\n",
    "\n",
    "first_df = get_processed_minute_data(first_df)"
   ]
  },
  {
   "cell_type": "code",
   "execution_count": 11,
   "metadata": {},
   "outputs": [],
   "source": [
    "def get_numeric_categoric(df):\n",
    "    numeric_cols, categorical_cols = [], []\n",
    "\n",
    "    for col in first_df:\n",
    "        if np.issubdtype(df[col].dtype, np.number):\n",
    "            numeric_cols += [col]\n",
    "        else:\n",
    "            categorical_cols += [col]\n",
    "    \n",
    "    return numeric_cols, categorical_cols"
   ]
  },
  {
   "cell_type": "code",
   "execution_count": 12,
   "metadata": {},
   "outputs": [
    {
     "data": {
      "text/plain": [
       "(['marketHigh',\n",
       "  'marketLow',\n",
       "  'marketNotional',\n",
       "  'marketNumberOfTrades',\n",
       "  'marketVolume'],\n",
       " ['date', 'minute', 'weekday', 'month', 'hour'])"
      ]
     },
     "execution_count": 12,
     "metadata": {},
     "output_type": "execute_result"
    }
   ],
   "source": [
    "numericl_cols, categorical_cols = get_numeric_categoric(first_df)\n",
    "numericl_cols, categorical_cols"
   ]
  },
  {
   "cell_type": "code",
   "execution_count": 13,
   "metadata": {},
   "outputs": [],
   "source": [
    "def delta_dataframe(df, numeric_columns):\n",
    "    '''\n",
    "    log numerical columns, then return deltas\n",
    "    '''\n",
    "    \n",
    "    added_columns = []\n",
    "    for shift in [3, 5, 10, 20]:\n",
    "        for col in numeric_columns:\n",
    "            new_col_name = col + '_' + str(shift)\n",
    "            df[new_col_name] = df[col].shift(shift)\n",
    "            added_columns += [new_col_name]\n",
    "\n",
    "    df[numeric_columns+added_columns] = df[numeric_columns+added_columns].apply(np.log)\n",
    "    \n",
    "    # for lookbacks\n",
    "    for new_col in added_columns:\n",
    "        original_col = new_col.split('_')[0]\n",
    "        df[new_col] = df[original_col] - df[new_col]\n",
    "    \n",
    "    # for today\n",
    "    # This line is necessary\n",
    "    temp = df[numeric_columns] - df[numeric_columns].shift(1)\n",
    "    df[numeric_columns] = temp\n",
    "    \n",
    "    assert (df.index == np.arange(len(first_df))).all()\n",
    "    df.drop(df.index[list(range(20))], axis=0, inplace=True)\n",
    "    df.reset_index(drop=True, inplace=True)\n",
    "    \n",
    "    return df"
   ]
  },
  {
   "cell_type": "code",
   "execution_count": 14,
   "metadata": {},
   "outputs": [
    {
     "data": {
      "text/html": [
       "<div>\n",
       "<style scoped>\n",
       "    .dataframe tbody tr th:only-of-type {\n",
       "        vertical-align: middle;\n",
       "    }\n",
       "\n",
       "    .dataframe tbody tr th {\n",
       "        vertical-align: top;\n",
       "    }\n",
       "\n",
       "    .dataframe thead th {\n",
       "        text-align: right;\n",
       "    }\n",
       "</style>\n",
       "<table border=\"1\" class=\"dataframe\">\n",
       "  <thead>\n",
       "    <tr style=\"text-align: right;\">\n",
       "      <th></th>\n",
       "      <th>marketHigh</th>\n",
       "      <th>marketLow</th>\n",
       "      <th>marketNotional</th>\n",
       "      <th>marketNumberOfTrades</th>\n",
       "      <th>marketVolume</th>\n",
       "      <th>marketHigh_3</th>\n",
       "      <th>marketLow_3</th>\n",
       "      <th>marketNotional_3</th>\n",
       "      <th>marketNumberOfTrades_3</th>\n",
       "      <th>marketVolume_3</th>\n",
       "      <th>...</th>\n",
       "      <th>marketHigh_10</th>\n",
       "      <th>marketLow_10</th>\n",
       "      <th>marketNotional_10</th>\n",
       "      <th>marketNumberOfTrades_10</th>\n",
       "      <th>marketVolume_10</th>\n",
       "      <th>marketHigh_20</th>\n",
       "      <th>marketLow_20</th>\n",
       "      <th>marketNotional_20</th>\n",
       "      <th>marketNumberOfTrades_20</th>\n",
       "      <th>marketVolume_20</th>\n",
       "    </tr>\n",
       "  </thead>\n",
       "  <tbody>\n",
       "    <tr>\n",
       "      <th>count</th>\n",
       "      <td>9636.000000</td>\n",
       "      <td>9636.000000</td>\n",
       "      <td>9636.000000</td>\n",
       "      <td>9636.000000</td>\n",
       "      <td>9636.000000</td>\n",
       "      <td>9636.000000</td>\n",
       "      <td>9636.000000</td>\n",
       "      <td>9636.000000</td>\n",
       "      <td>9636.000000</td>\n",
       "      <td>9636.000000</td>\n",
       "      <td>...</td>\n",
       "      <td>9636.000000</td>\n",
       "      <td>9636.000000</td>\n",
       "      <td>9636.000000</td>\n",
       "      <td>9636.000000</td>\n",
       "      <td>9636.000000</td>\n",
       "      <td>9636.000000</td>\n",
       "      <td>9636.000000</td>\n",
       "      <td>9636.000000</td>\n",
       "      <td>9636.000000</td>\n",
       "      <td>9636.000000</td>\n",
       "    </tr>\n",
       "    <tr>\n",
       "      <th>mean</th>\n",
       "      <td>0.000010</td>\n",
       "      <td>0.000009</td>\n",
       "      <td>0.000546</td>\n",
       "      <td>0.000509</td>\n",
       "      <td>0.000536</td>\n",
       "      <td>0.000029</td>\n",
       "      <td>0.000029</td>\n",
       "      <td>0.001056</td>\n",
       "      <td>0.000944</td>\n",
       "      <td>0.001027</td>\n",
       "      <td>...</td>\n",
       "      <td>0.000095</td>\n",
       "      <td>0.000096</td>\n",
       "      <td>0.002527</td>\n",
       "      <td>0.002288</td>\n",
       "      <td>0.002431</td>\n",
       "      <td>0.000192</td>\n",
       "      <td>0.000196</td>\n",
       "      <td>0.004639</td>\n",
       "      <td>0.003990</td>\n",
       "      <td>0.004445</td>\n",
       "    </tr>\n",
       "    <tr>\n",
       "      <th>std</th>\n",
       "      <td>0.001060</td>\n",
       "      <td>0.001136</td>\n",
       "      <td>1.875454</td>\n",
       "      <td>1.314247</td>\n",
       "      <td>1.875470</td>\n",
       "      <td>0.001815</td>\n",
       "      <td>0.001860</td>\n",
       "      <td>1.870390</td>\n",
       "      <td>1.299166</td>\n",
       "      <td>1.870408</td>\n",
       "      <td>...</td>\n",
       "      <td>0.003303</td>\n",
       "      <td>0.003336</td>\n",
       "      <td>1.917313</td>\n",
       "      <td>1.340305</td>\n",
       "      <td>1.917343</td>\n",
       "      <td>0.004753</td>\n",
       "      <td>0.004798</td>\n",
       "      <td>1.977734</td>\n",
       "      <td>1.375164</td>\n",
       "      <td>1.977768</td>\n",
       "    </tr>\n",
       "    <tr>\n",
       "      <th>min</th>\n",
       "      <td>-0.009287</td>\n",
       "      <td>-0.016011</td>\n",
       "      <td>-9.737805</td>\n",
       "      <td>-5.780744</td>\n",
       "      <td>-9.737905</td>\n",
       "      <td>-0.014290</td>\n",
       "      <td>-0.018523</td>\n",
       "      <td>-8.453899</td>\n",
       "      <td>-5.641907</td>\n",
       "      <td>-8.454253</td>\n",
       "      <td>...</td>\n",
       "      <td>-0.020738</td>\n",
       "      <td>-0.021170</td>\n",
       "      <td>-8.408788</td>\n",
       "      <td>-4.974432</td>\n",
       "      <td>-8.419801</td>\n",
       "      <td>-0.027329</td>\n",
       "      <td>-0.028410</td>\n",
       "      <td>-9.142410</td>\n",
       "      <td>-5.068904</td>\n",
       "      <td>-9.132487</td>\n",
       "    </tr>\n",
       "    <tr>\n",
       "      <th>25%</th>\n",
       "      <td>-0.000461</td>\n",
       "      <td>-0.000424</td>\n",
       "      <td>-1.028174</td>\n",
       "      <td>-0.840009</td>\n",
       "      <td>-1.028319</td>\n",
       "      <td>-0.000893</td>\n",
       "      <td>-0.000854</td>\n",
       "      <td>-0.993720</td>\n",
       "      <td>-0.810930</td>\n",
       "      <td>-0.993972</td>\n",
       "      <td>...</td>\n",
       "      <td>-0.001731</td>\n",
       "      <td>-0.001652</td>\n",
       "      <td>-1.040293</td>\n",
       "      <td>-0.847298</td>\n",
       "      <td>-1.040839</td>\n",
       "      <td>-0.002442</td>\n",
       "      <td>-0.002373</td>\n",
       "      <td>-1.086983</td>\n",
       "      <td>-0.875469</td>\n",
       "      <td>-1.087573</td>\n",
       "    </tr>\n",
       "    <tr>\n",
       "      <th>50%</th>\n",
       "      <td>-0.000006</td>\n",
       "      <td>0.000021</td>\n",
       "      <td>-0.019464</td>\n",
       "      <td>0.000000</td>\n",
       "      <td>-0.019489</td>\n",
       "      <td>-0.000015</td>\n",
       "      <td>0.000042</td>\n",
       "      <td>0.007532</td>\n",
       "      <td>0.000000</td>\n",
       "      <td>0.006793</td>\n",
       "      <td>...</td>\n",
       "      <td>-0.000043</td>\n",
       "      <td>0.000011</td>\n",
       "      <td>0.021727</td>\n",
       "      <td>0.000000</td>\n",
       "      <td>0.021350</td>\n",
       "      <td>0.000069</td>\n",
       "      <td>0.000149</td>\n",
       "      <td>0.033382</td>\n",
       "      <td>0.000000</td>\n",
       "      <td>0.036022</td>\n",
       "    </tr>\n",
       "    <tr>\n",
       "      <th>75%</th>\n",
       "      <td>0.000435</td>\n",
       "      <td>0.000475</td>\n",
       "      <td>0.990990</td>\n",
       "      <td>0.810930</td>\n",
       "      <td>0.991232</td>\n",
       "      <td>0.000850</td>\n",
       "      <td>0.000885</td>\n",
       "      <td>1.005874</td>\n",
       "      <td>0.810930</td>\n",
       "      <td>1.006254</td>\n",
       "      <td>...</td>\n",
       "      <td>0.001680</td>\n",
       "      <td>0.001756</td>\n",
       "      <td>1.063547</td>\n",
       "      <td>0.869038</td>\n",
       "      <td>1.062480</td>\n",
       "      <td>0.002584</td>\n",
       "      <td>0.002703</td>\n",
       "      <td>1.116235</td>\n",
       "      <td>0.916291</td>\n",
       "      <td>1.115391</td>\n",
       "    </tr>\n",
       "    <tr>\n",
       "      <th>max</th>\n",
       "      <td>0.020955</td>\n",
       "      <td>0.021290</td>\n",
       "      <td>8.791507</td>\n",
       "      <td>4.532599</td>\n",
       "      <td>8.787983</td>\n",
       "      <td>0.024005</td>\n",
       "      <td>0.017813</td>\n",
       "      <td>8.805578</td>\n",
       "      <td>4.488636</td>\n",
       "      <td>8.806124</td>\n",
       "      <td>...</td>\n",
       "      <td>0.023029</td>\n",
       "      <td>0.021556</td>\n",
       "      <td>8.543134</td>\n",
       "      <td>4.795791</td>\n",
       "      <td>8.546364</td>\n",
       "      <td>0.031003</td>\n",
       "      <td>0.032480</td>\n",
       "      <td>8.377414</td>\n",
       "      <td>4.905275</td>\n",
       "      <td>8.367532</td>\n",
       "    </tr>\n",
       "  </tbody>\n",
       "</table>\n",
       "<p>8 rows × 25 columns</p>\n",
       "</div>"
      ],
      "text/plain": [
       "        marketHigh    marketLow  marketNotional  marketNumberOfTrades  \\\n",
       "count  9636.000000  9636.000000     9636.000000           9636.000000   \n",
       "mean      0.000010     0.000009        0.000546              0.000509   \n",
       "std       0.001060     0.001136        1.875454              1.314247   \n",
       "min      -0.009287    -0.016011       -9.737805             -5.780744   \n",
       "25%      -0.000461    -0.000424       -1.028174             -0.840009   \n",
       "50%      -0.000006     0.000021       -0.019464              0.000000   \n",
       "75%       0.000435     0.000475        0.990990              0.810930   \n",
       "max       0.020955     0.021290        8.791507              4.532599   \n",
       "\n",
       "       marketVolume  marketHigh_3  marketLow_3  marketNotional_3  \\\n",
       "count   9636.000000   9636.000000  9636.000000       9636.000000   \n",
       "mean       0.000536      0.000029     0.000029          0.001056   \n",
       "std        1.875470      0.001815     0.001860          1.870390   \n",
       "min       -9.737905     -0.014290    -0.018523         -8.453899   \n",
       "25%       -1.028319     -0.000893    -0.000854         -0.993720   \n",
       "50%       -0.019489     -0.000015     0.000042          0.007532   \n",
       "75%        0.991232      0.000850     0.000885          1.005874   \n",
       "max        8.787983      0.024005     0.017813          8.805578   \n",
       "\n",
       "       marketNumberOfTrades_3  marketVolume_3       ...         marketHigh_10  \\\n",
       "count             9636.000000     9636.000000       ...           9636.000000   \n",
       "mean                 0.000944        0.001027       ...              0.000095   \n",
       "std                  1.299166        1.870408       ...              0.003303   \n",
       "min                 -5.641907       -8.454253       ...             -0.020738   \n",
       "25%                 -0.810930       -0.993972       ...             -0.001731   \n",
       "50%                  0.000000        0.006793       ...             -0.000043   \n",
       "75%                  0.810930        1.006254       ...              0.001680   \n",
       "max                  4.488636        8.806124       ...              0.023029   \n",
       "\n",
       "       marketLow_10  marketNotional_10  marketNumberOfTrades_10  \\\n",
       "count   9636.000000        9636.000000              9636.000000   \n",
       "mean       0.000096           0.002527                 0.002288   \n",
       "std        0.003336           1.917313                 1.340305   \n",
       "min       -0.021170          -8.408788                -4.974432   \n",
       "25%       -0.001652          -1.040293                -0.847298   \n",
       "50%        0.000011           0.021727                 0.000000   \n",
       "75%        0.001756           1.063547                 0.869038   \n",
       "max        0.021556           8.543134                 4.795791   \n",
       "\n",
       "       marketVolume_10  marketHigh_20  marketLow_20  marketNotional_20  \\\n",
       "count      9636.000000    9636.000000   9636.000000        9636.000000   \n",
       "mean          0.002431       0.000192      0.000196           0.004639   \n",
       "std           1.917343       0.004753      0.004798           1.977734   \n",
       "min          -8.419801      -0.027329     -0.028410          -9.142410   \n",
       "25%          -1.040839      -0.002442     -0.002373          -1.086983   \n",
       "50%           0.021350       0.000069      0.000149           0.033382   \n",
       "75%           1.062480       0.002584      0.002703           1.116235   \n",
       "max           8.546364       0.031003      0.032480           8.377414   \n",
       "\n",
       "       marketNumberOfTrades_20  marketVolume_20  \n",
       "count              9636.000000      9636.000000  \n",
       "mean                  0.003990         0.004445  \n",
       "std                   1.375164         1.977768  \n",
       "min                  -5.068904        -9.132487  \n",
       "25%                  -0.875469        -1.087573  \n",
       "50%                   0.000000         0.036022  \n",
       "75%                   0.916291         1.115391  \n",
       "max                   4.905275         8.367532  \n",
       "\n",
       "[8 rows x 25 columns]"
      ]
     },
     "execution_count": 14,
     "metadata": {},
     "output_type": "execute_result"
    }
   ],
   "source": [
    "first_df = delta_dataframe(first_df, numericl_cols)\n",
    "first_df.describe()"
   ]
  },
  {
   "cell_type": "code",
   "execution_count": 15,
   "metadata": {},
   "outputs": [
    {
     "data": {
      "text/plain": [
       "['date', 'minute', 'weekday', 'month', 'hour']"
      ]
     },
     "execution_count": 15,
     "metadata": {},
     "output_type": "execute_result"
    }
   ],
   "source": [
    "categorical_cols"
   ]
  },
  {
   "cell_type": "code",
   "execution_count": 16,
   "metadata": {},
   "outputs": [],
   "source": [
    "numericl_cols, categorical_cols = get_numeric_categoric(first_df)"
   ]
  },
  {
   "cell_type": "code",
   "execution_count": 17,
   "metadata": {},
   "outputs": [
    {
     "data": {
      "text/plain": [
       "['date', 'weekday', 'month', 'hour']"
      ]
     },
     "execution_count": 17,
     "metadata": {},
     "output_type": "execute_result"
    }
   ],
   "source": [
    "categorical_cols.remove('minute')\n",
    "categorical_cols"
   ]
  },
  {
   "cell_type": "code",
   "execution_count": 224,
   "metadata": {},
   "outputs": [],
   "source": [
    "first_df[categorical_cols] = first_df[categorical_cols].applymap(lambda x: int(x))"
   ]
  },
  {
   "cell_type": "code",
   "execution_count": 225,
   "metadata": {},
   "outputs": [],
   "source": [
    "label = first_df[['marketHigh', 'marketLow']]    \n",
    "label_10, label_5 = label.shift(-10), label.shift(-5)\n",
    "\n",
    "idx_to_del = np.arange(len(label_10)-10, len(label_10))\n",
    "label_10.drop(idx_to_del, inplace=True)\n",
    "label_5.drop(idx_to_del, inplace=True)\n",
    "first_df.drop(idx_to_del, inplace=True)\n"
   ]
  },
  {
   "cell_type": "code",
   "execution_count": 226,
   "metadata": {},
   "outputs": [],
   "source": [
    "import tensorflow as tf\n",
    "import tensorflow.contrib.timeseries as ts\n",
    "import multiprocessing\n",
    "import pandas as pd\n",
    "import numpy as np\n",
    "import shutil\n",
    "from datetime import datetime\n",
    "import matplotlib.pyplot as plt"
   ]
  },
  {
   "cell_type": "code",
   "execution_count": 227,
   "metadata": {},
   "outputs": [
    {
     "data": {
      "text/plain": [
       "date                                int64\n",
       "marketHigh                        float64\n",
       "marketLow                         float64\n",
       "marketNotional                    float64\n",
       "marketNumberOfTrades              float64\n",
       "marketVolume                      float64\n",
       "minute                     datetime64[ns]\n",
       "weekday                             int64\n",
       "month                               int64\n",
       "hour                                int64\n",
       "marketHigh_3                      float64\n",
       "marketLow_3                       float64\n",
       "marketNotional_3                  float64\n",
       "marketNumberOfTrades_3            float64\n",
       "marketVolume_3                    float64\n",
       "marketHigh_5                      float64\n",
       "marketLow_5                       float64\n",
       "marketNotional_5                  float64\n",
       "marketNumberOfTrades_5            float64\n",
       "marketVolume_5                    float64\n",
       "marketHigh_10                     float64\n",
       "marketLow_10                      float64\n",
       "marketNotional_10                 float64\n",
       "marketNumberOfTrades_10           float64\n",
       "marketVolume_10                   float64\n",
       "marketHigh_20                     float64\n",
       "marketLow_20                      float64\n",
       "marketNotional_20                 float64\n",
       "marketNumberOfTrades_20           float64\n",
       "marketVolume_20                   float64\n",
       "dtype: object"
      ]
     },
     "execution_count": 227,
     "metadata": {},
     "output_type": "execute_result"
    }
   ],
   "source": [
    "first_df.dtypes"
   ]
  },
  {
   "cell_type": "code",
   "execution_count": 228,
   "metadata": {},
   "outputs": [],
   "source": [
    "first_df.date = np.arange(len(first_df))"
   ]
  },
  {
   "cell_type": "code",
   "execution_count": 229,
   "metadata": {},
   "outputs": [],
   "source": [
    "unique_list = {}\n",
    "for item in categorical_cols[1:]:\n",
    "    unique_list[item] = first_df[item].unique().tolist()"
   ]
  },
  {
   "cell_type": "code",
   "execution_count": 230,
   "metadata": {},
   "outputs": [
    {
     "data": {
      "text/plain": [
       "{'weekday': [0, 1, 2, 3, 4],\n",
       " 'month': [10, 11],\n",
       " 'hour': [9, 10, 11, 12, 13, 14, 15]}"
      ]
     },
     "execution_count": 230,
     "metadata": {},
     "output_type": "execute_result"
    }
   ],
   "source": [
    "unique_list"
   ]
  },
  {
   "cell_type": "code",
   "execution_count": 231,
   "metadata": {},
   "outputs": [],
   "source": [
    "import tensorflow.feature_column as fc"
   ]
  },
  {
   "cell_type": "code",
   "execution_count": 232,
   "metadata": {},
   "outputs": [
    {
     "data": {
      "text/plain": [
       "{'weekday': _VocabularyListCategoricalColumn(key='weekday', vocabulary_list=(0, 1, 2, 3, 4), dtype=tf.int64, default_value=-1, num_oov_buckets=0),\n",
       " 'month': _VocabularyListCategoricalColumn(key='month', vocabulary_list=(10, 11), dtype=tf.int64, default_value=-1, num_oov_buckets=0),\n",
       " 'hour': _VocabularyListCategoricalColumn(key='hour', vocabulary_list=(9, 10, 11, 12, 13, 14, 15), dtype=tf.int64, default_value=-1, num_oov_buckets=0)}"
      ]
     },
     "execution_count": 232,
     "metadata": {},
     "output_type": "execute_result"
    }
   ],
   "source": [
    "category_dict = {item: fc.categorical_column_with_vocabulary_list(\n",
    "                        item, unique_list[item]) \n",
    "                for item in categorical_cols[1:]}\n",
    "category_dict"
   ]
  },
  {
   "cell_type": "code",
   "execution_count": 233,
   "metadata": {},
   "outputs": [
    {
     "data": {
      "text/plain": [
       "{'weekday': _EmbeddingColumn(categorical_column=_VocabularyListCategoricalColumn(key='weekday', vocabulary_list=(0, 1, 2, 3, 4), dtype=tf.int64, default_value=-1, num_oov_buckets=0), dimension=2, combiner='mean', layer_creator=<function embedding_column.<locals>._creator at 0x7f8dab77f6a8>, ckpt_to_load_from=None, tensor_name_in_ckpt=None, max_norm=None, trainable=True),\n",
       " 'month': _EmbeddingColumn(categorical_column=_VocabularyListCategoricalColumn(key='month', vocabulary_list=(10, 11), dtype=tf.int64, default_value=-1, num_oov_buckets=0), dimension=2, combiner='mean', layer_creator=<function embedding_column.<locals>._creator at 0x7f8dab77f8c8>, ckpt_to_load_from=None, tensor_name_in_ckpt=None, max_norm=None, trainable=True),\n",
       " 'hour': _EmbeddingColumn(categorical_column=_VocabularyListCategoricalColumn(key='hour', vocabulary_list=(9, 10, 11, 12, 13, 14, 15), dtype=tf.int64, default_value=-1, num_oov_buckets=0), dimension=2, combiner='mean', layer_creator=<function embedding_column.<locals>._creator at 0x7f8dab77fae8>, ckpt_to_load_from=None, tensor_name_in_ckpt=None, max_norm=None, trainable=True)}"
      ]
     },
     "execution_count": 233,
     "metadata": {},
     "output_type": "execute_result"
    }
   ],
   "source": [
    "embedding_categories = {\n",
    "    item: fc.embedding_column(category_dict[item], 2)\n",
    "    for item in category_dict\n",
    "}\n",
    "embedding_categories"
   ]
  },
  {
   "cell_type": "code",
   "execution_count": null,
   "metadata": {},
   "outputs": [],
   "source": []
  },
  {
   "cell_type": "code",
   "execution_count": 234,
   "metadata": {},
   "outputs": [],
   "source": [
    "# HEADER = first_df.columns.tolist()\n",
    "TIME_INDEX_FEATURE_NAME = 'date'\n",
    "VALUE_FEATURE_NAMES = numericl_cols\n",
    "CAT_FEATURE_NAMES = categorical_cols[1:]"
   ]
  },
  {
   "cell_type": "code",
   "execution_count": 235,
   "metadata": {},
   "outputs": [],
   "source": [
    "def generate_input_fn(dataframe, mode, \n",
    "                      header_lines=1, batch_size=None, \n",
    "                      windows_size=None, tail_count=None):\n",
    "    \n",
    "    if tail_count is not None:\n",
    "        dataframe = dataframe.tail(tail_count)\n",
    "    \n",
    "    print(\"Dataset Size: {}\".format(len(dataframe)))\n",
    "    print(\"\")\n",
    "    \n",
    "    data = {\n",
    "        ts.TrainEvalFeatures.TIMES: \n",
    "                    dataframe[TIME_INDEX_FEATURE_NAME],\n",
    "        ts.TrainEvalFeatures.VALUES: \n",
    "                    dataframe[VALUE_FEATURE_NAMES+CAT_FEATURE_NAMES],\n",
    "        'weekday': dataframe[['weekday']],\n",
    "        'month':   dataframe[['month']],\n",
    "        'hour' :   dataframe[['hour']],\n",
    "    }\n",
    "    \n",
    "    reader = ts.NumpyReader(data)\n",
    "    \n",
    "    if mode == tf.estimator.ModeKeys.TRAIN:\n",
    "        input_fn = tf.contrib.timeseries.RandomWindowInputFn(\n",
    "            reader, \n",
    "            batch_size=batch_size, \n",
    "            window_size=windows_size,\n",
    "        )\n",
    "        \n",
    "    elif mode == tf.estimator.ModeKeys.EVAL:\n",
    "        input_fn = tf.contrib.timeseries.WholeDatasetInputFn(reader)\n",
    "    \n",
    "    return input_fn"
   ]
  },
  {
   "cell_type": "code",
   "execution_count": 236,
   "metadata": {},
   "outputs": [],
   "source": [
    "embed_list = list(embedding_categories.values())"
   ]
  },
  {
   "cell_type": "code",
   "execution_count": 237,
   "metadata": {},
   "outputs": [],
   "source": [
    "from tensorflow.contrib.timeseries.python.timeseries import estimators as ts_estimators\n",
    "from tensorflow.contrib.timeseries.examples.lstm import _LSTMModel"
   ]
  },
  {
   "cell_type": "code",
   "execution_count": 238,
   "metadata": {},
   "outputs": [],
   "source": [
    "def create_lstm_estimator(run_config, hparams):\n",
    "    estimator= ts_estimators.TimeSeriesRegressor(\n",
    "        model=_LSTMModel(num_units=hparams.num_units, \n",
    "                         num_features=hparams.num_features, \n",
    "                         exogenous_feature_columns=hparams.exogenous_feature_columns), \n",
    "        optimizer = tf.train.AdagradOptimizer(learning_rate=hparams.learning_rate),\n",
    "        config=run_config,)\n",
    "    return estimator"
   ]
  },
  {
   "cell_type": "code",
   "execution_count": 239,
   "metadata": {},
   "outputs": [],
   "source": [
    "def create_estimator(run_config, hparams):\n",
    "\n",
    "    estimator = ts.ARRegressor(\n",
    "        periodicities= hparams.periodicities, \n",
    "        input_window_size= hparams.input_window_size, \n",
    "        output_window_size= hparams.output_window_size,\n",
    "        num_features=len(VALUE_FEATURE_NAMES+CAT_FEATURE_NAMES),\n",
    "        exogenous_feature_columns=embed_list,\n",
    "        loss=hparams.loss,\n",
    "        hidden_layer_sizes = hparams.hidden_units,\n",
    "        optimizer = tf.train.AdagradOptimizer(learning_rate=hparams.learning_rate),\n",
    "        config=run_config\n",
    "    )\n",
    "    \n",
    "    print(\"\")\n",
    "    print(\"Estimator Type: {}\".format(type(estimator)))\n",
    "    print(\"\")\n",
    "\n",
    "    return estimator"
   ]
  },
  {
   "cell_type": "code",
   "execution_count": 260,
   "metadata": {},
   "outputs": [],
   "source": [
    "hparams  = tf.contrib.training.HParams(\n",
    "    num_units=64,\n",
    "    num_features=len(VALUE_FEATURE_NAMES+CAT_FEATURE_NAMES),\n",
    "    exogenous_feature_columns=embed_list,\n",
    "    \n",
    "    training_steps = 10000,\n",
    "    periodicities = [10],\n",
    "    input_window_size = 32,\n",
    "    output_window_size=5,\n",
    "    batch_size = 16,\n",
    "    loss = tf.contrib.timeseries.ARModel.NORMAL_LIKELIHOOD_LOSS, # NORMAL_LIKELIHOOD_LOSS | SQUARED_LOSS\n",
    "    hidden_units = [32,32,16],\n",
    "    learning_rate = 1e-3,\n",
    ")"
   ]
  },
  {
   "cell_type": "code",
   "execution_count": 261,
   "metadata": {},
   "outputs": [
    {
     "name": "stdout",
     "output_type": "stream",
     "text": [
      "Model directory: trained_models/ts-model-03\n",
      "Hyper-parameters: [('batch_size', 16), ('exogenous_feature_columns', [_EmbeddingColumn(categorical_column=_VocabularyListCategoricalColumn(key='weekday', vocabulary_list=(0, 1, 2, 3, 4), dtype=tf.int64, default_value=-1, num_oov_buckets=0), dimension=2, combiner='mean', layer_creator=<function embedding_column.<locals>._creator at 0x7f8dab77f6a8>, ckpt_to_load_from=None, tensor_name_in_ckpt=None, max_norm=None, trainable=True), _EmbeddingColumn(categorical_column=_VocabularyListCategoricalColumn(key='month', vocabulary_list=(10, 11), dtype=tf.int64, default_value=-1, num_oov_buckets=0), dimension=2, combiner='mean', layer_creator=<function embedding_column.<locals>._creator at 0x7f8dab77f8c8>, ckpt_to_load_from=None, tensor_name_in_ckpt=None, max_norm=None, trainable=True), _EmbeddingColumn(categorical_column=_VocabularyListCategoricalColumn(key='hour', vocabulary_list=(9, 10, 11, 12, 13, 14, 15), dtype=tf.int64, default_value=-1, num_oov_buckets=0), dimension=2, combiner='mean', layer_creator=<function embedding_column.<locals>._creator at 0x7f8dab77fae8>, ckpt_to_load_from=None, tensor_name_in_ckpt=None, max_norm=None, trainable=True)]), ('hidden_units', [32, 32, 16]), ('input_window_size', 32), ('learning_rate', 0.001), ('loss', 'normal_likelihood_loss'), ('num_features', 28), ('num_units', 64), ('output_window_size', 5), ('periodicities', [10]), ('training_steps', 10000)]\n",
      "\n",
      "Dataset Size: 9616\n",
      "\n"
     ]
    }
   ],
   "source": [
    "CHECKPOINT_STEPS=1000\n",
    "MODEL_NAME = 'ts-model-03'\n",
    "\n",
    "model_dir = 'trained_models/{}'.format(MODEL_NAME)\n",
    "\n",
    "run_config = tf.estimator.RunConfig().replace(\n",
    "    save_checkpoints_steps=CHECKPOINT_STEPS,\n",
    "    tf_random_seed=19830610,\n",
    "    model_dir=model_dir,\n",
    ")\n",
    "                                             \n",
    "print(\"Model directory: {}\".format(run_config.model_dir))\n",
    "print(\"Hyper-parameters: {}\".format(hparams))\n",
    "print(\"\")\n",
    "\n",
    "train_input_fn = generate_input_fn(\n",
    "    dataframe=first_df,\n",
    "    mode = tf.estimator.ModeKeys.TRAIN,\n",
    "    batch_size=hparams.batch_size,\n",
    "    windows_size = hparams.input_window_size + hparams.output_window_size\n",
    ")"
   ]
  },
  {
   "cell_type": "code",
   "execution_count": 262,
   "metadata": {},
   "outputs": [],
   "source": [
    "# estimator = create_estimator(run_config, hparams)\n",
    "estimator = create_lstm_estimator(run_config, hparams)"
   ]
  },
  {
   "cell_type": "code",
   "execution_count": 263,
   "metadata": {},
   "outputs": [
    {
     "name": "stdout",
     "output_type": "stream",
     "text": [
      "\n",
      "Estimator Type: <class 'tensorflow.contrib.timeseries.python.timeseries.estimators.ARRegressor'>\n",
      "\n"
     ]
    }
   ],
   "source": [
    "estimator = create_estimator(run_config, hparams)"
   ]
  },
  {
   "cell_type": "code",
   "execution_count": 264,
   "metadata": {
    "scrolled": false
   },
   "outputs": [
    {
     "name": "stdout",
     "output_type": "stream",
     "text": [
      "Estimator training started at 06:46:53\n",
      ".......................................\n",
      "INFO:tensorflow:Calling model_fn.\n",
      "INFO:tensorflow:Done calling model_fn.\n",
      "INFO:tensorflow:Create CheckpointSaverHook.\n",
      "INFO:tensorflow:Graph was finalized.\n",
      "INFO:tensorflow:Restoring parameters from trained_models/ts-model-03/model.ckpt-23000\n",
      "INFO:tensorflow:Running local_init_op.\n",
      "INFO:tensorflow:Done running local_init_op.\n",
      "INFO:tensorflow:Saving checkpoints for 23000 into trained_models/ts-model-03/model.ckpt.\n",
      "INFO:tensorflow:loss = 1.3750893, step = 23000\n",
      "INFO:tensorflow:global_step/sec: 81.1752\n",
      "INFO:tensorflow:loss = 1.3986788, step = 23100 (1.233 sec)\n",
      "INFO:tensorflow:global_step/sec: 88.5756\n",
      "INFO:tensorflow:loss = 1.375542, step = 23201 (1.129 sec)\n",
      "INFO:tensorflow:global_step/sec: 93.3139\n",
      "INFO:tensorflow:loss = 1.459896, step = 23300 (1.071 sec)\n",
      "INFO:tensorflow:global_step/sec: 82.9361\n",
      "INFO:tensorflow:loss = 1.2501048, step = 23400 (1.207 sec)\n",
      "INFO:tensorflow:global_step/sec: 105.734\n",
      "INFO:tensorflow:loss = 1.3249046, step = 23500 (0.946 sec)\n",
      "INFO:tensorflow:global_step/sec: 106.001\n",
      "INFO:tensorflow:loss = 1.3308761, step = 23600 (0.943 sec)\n",
      "INFO:tensorflow:global_step/sec: 111.66\n",
      "INFO:tensorflow:loss = 1.3092117, step = 23701 (0.894 sec)\n",
      "INFO:tensorflow:global_step/sec: 109.025\n",
      "INFO:tensorflow:loss = 1.376181, step = 23800 (0.917 sec)\n",
      "INFO:tensorflow:global_step/sec: 102.793\n",
      "INFO:tensorflow:loss = 1.4958401, step = 23900 (0.978 sec)\n",
      "INFO:tensorflow:Saving checkpoints for 24000 into trained_models/ts-model-03/model.ckpt.\n",
      "INFO:tensorflow:global_step/sec: 95.6453\n",
      "INFO:tensorflow:loss = 1.5172222, step = 24000 (1.041 sec)\n",
      "INFO:tensorflow:global_step/sec: 107.208\n",
      "INFO:tensorflow:loss = 1.394863, step = 24100 (0.933 sec)\n",
      "INFO:tensorflow:global_step/sec: 141.892\n",
      "INFO:tensorflow:loss = 1.4532887, step = 24200 (0.703 sec)\n",
      "INFO:tensorflow:global_step/sec: 146.353\n",
      "INFO:tensorflow:loss = 1.3583179, step = 24300 (0.683 sec)\n",
      "INFO:tensorflow:global_step/sec: 149.302\n",
      "INFO:tensorflow:loss = 1.3843925, step = 24400 (0.670 sec)\n",
      "INFO:tensorflow:global_step/sec: 142.625\n",
      "INFO:tensorflow:loss = 1.4455272, step = 24500 (0.701 sec)\n",
      "INFO:tensorflow:global_step/sec: 142.585\n",
      "INFO:tensorflow:loss = 1.5970631, step = 24600 (0.702 sec)\n",
      "INFO:tensorflow:global_step/sec: 144.047\n",
      "INFO:tensorflow:loss = 1.3360759, step = 24700 (0.695 sec)\n",
      "INFO:tensorflow:global_step/sec: 142.673\n",
      "INFO:tensorflow:loss = 1.5488422, step = 24800 (0.700 sec)\n",
      "INFO:tensorflow:global_step/sec: 148.932\n",
      "INFO:tensorflow:loss = 1.4366082, step = 24900 (0.671 sec)\n",
      "INFO:tensorflow:Saving checkpoints for 25000 into trained_models/ts-model-03/model.ckpt.\n",
      "INFO:tensorflow:global_step/sec: 129.058\n",
      "INFO:tensorflow:loss = 1.6256477, step = 25000 (0.778 sec)\n",
      "INFO:tensorflow:global_step/sec: 147.444\n",
      "INFO:tensorflow:loss = 1.779133, step = 25100 (0.675 sec)\n",
      "INFO:tensorflow:global_step/sec: 143.186\n",
      "INFO:tensorflow:loss = 1.3246074, step = 25200 (0.701 sec)\n",
      "INFO:tensorflow:global_step/sec: 137.128\n",
      "INFO:tensorflow:loss = 1.3497733, step = 25300 (0.727 sec)\n",
      "INFO:tensorflow:global_step/sec: 141.537\n",
      "INFO:tensorflow:loss = 1.41642, step = 25400 (0.707 sec)\n",
      "INFO:tensorflow:global_step/sec: 141.446\n",
      "INFO:tensorflow:loss = 1.3626426, step = 25500 (0.707 sec)\n",
      "INFO:tensorflow:global_step/sec: 143.326\n",
      "INFO:tensorflow:loss = 1.3090743, step = 25600 (0.698 sec)\n",
      "INFO:tensorflow:global_step/sec: 134.336\n",
      "INFO:tensorflow:loss = 1.323175, step = 25700 (0.744 sec)\n",
      "INFO:tensorflow:global_step/sec: 131.911\n",
      "INFO:tensorflow:loss = 1.5325495, step = 25800 (0.759 sec)\n",
      "INFO:tensorflow:global_step/sec: 143.347\n",
      "INFO:tensorflow:loss = 1.55271, step = 25900 (0.698 sec)\n",
      "INFO:tensorflow:Saving checkpoints for 26000 into trained_models/ts-model-03/model.ckpt.\n",
      "INFO:tensorflow:global_step/sec: 129.906\n",
      "INFO:tensorflow:loss = 1.4618437, step = 26000 (0.768 sec)\n",
      "INFO:tensorflow:global_step/sec: 137.104\n",
      "INFO:tensorflow:loss = 1.4173957, step = 26100 (0.730 sec)\n",
      "INFO:tensorflow:global_step/sec: 138.571\n",
      "INFO:tensorflow:loss = 1.384161, step = 26200 (0.722 sec)\n",
      "INFO:tensorflow:global_step/sec: 130.412\n",
      "INFO:tensorflow:loss = 1.4164335, step = 26300 (0.767 sec)\n",
      "INFO:tensorflow:global_step/sec: 135.628\n",
      "INFO:tensorflow:loss = 1.31522, step = 26400 (0.737 sec)\n",
      "INFO:tensorflow:global_step/sec: 132.207\n",
      "INFO:tensorflow:loss = 1.5015707, step = 26500 (0.757 sec)\n",
      "INFO:tensorflow:global_step/sec: 140.158\n",
      "INFO:tensorflow:loss = 1.401935, step = 26600 (0.714 sec)\n",
      "INFO:tensorflow:global_step/sec: 138.311\n",
      "INFO:tensorflow:loss = 1.4417331, step = 26700 (0.722 sec)\n",
      "INFO:tensorflow:global_step/sec: 137.143\n",
      "INFO:tensorflow:loss = 1.2342974, step = 26800 (0.729 sec)\n",
      "INFO:tensorflow:global_step/sec: 134.313\n",
      "INFO:tensorflow:loss = 1.2466272, step = 26900 (0.747 sec)\n",
      "INFO:tensorflow:Saving checkpoints for 27000 into trained_models/ts-model-03/model.ckpt.\n",
      "INFO:tensorflow:global_step/sec: 118.483\n",
      "INFO:tensorflow:loss = 1.4201452, step = 27000 (0.843 sec)\n",
      "INFO:tensorflow:global_step/sec: 133.279\n",
      "INFO:tensorflow:loss = 1.2825481, step = 27100 (0.749 sec)\n",
      "INFO:tensorflow:global_step/sec: 129.533\n",
      "INFO:tensorflow:loss = 1.4191595, step = 27200 (0.773 sec)\n",
      "INFO:tensorflow:global_step/sec: 132.605\n",
      "INFO:tensorflow:loss = 1.274622, step = 27300 (0.755 sec)\n",
      "INFO:tensorflow:global_step/sec: 137.399\n",
      "INFO:tensorflow:loss = 1.4623984, step = 27400 (0.726 sec)\n",
      "INFO:tensorflow:global_step/sec: 127.502\n",
      "INFO:tensorflow:loss = 1.2969466, step = 27500 (0.786 sec)\n",
      "INFO:tensorflow:global_step/sec: 128.934\n",
      "INFO:tensorflow:loss = 1.3728199, step = 27600 (0.774 sec)\n",
      "INFO:tensorflow:global_step/sec: 135.034\n",
      "INFO:tensorflow:loss = 1.4860572, step = 27700 (0.742 sec)\n",
      "INFO:tensorflow:global_step/sec: 131.107\n",
      "INFO:tensorflow:loss = 1.4758804, step = 27800 (0.762 sec)\n",
      "INFO:tensorflow:global_step/sec: 131.092\n",
      "INFO:tensorflow:loss = 1.3540697, step = 27900 (0.764 sec)\n",
      "INFO:tensorflow:Saving checkpoints for 28000 into trained_models/ts-model-03/model.ckpt.\n",
      "INFO:tensorflow:global_step/sec: 119.396\n",
      "INFO:tensorflow:loss = 1.3516817, step = 28000 (0.838 sec)\n",
      "INFO:tensorflow:global_step/sec: 133.698\n",
      "INFO:tensorflow:loss = 1.7149093, step = 28100 (0.746 sec)\n",
      "INFO:tensorflow:global_step/sec: 126.259\n",
      "INFO:tensorflow:loss = 1.3938447, step = 28200 (0.798 sec)\n",
      "INFO:tensorflow:global_step/sec: 124.505\n",
      "INFO:tensorflow:loss = 1.501812, step = 28300 (0.796 sec)\n",
      "INFO:tensorflow:global_step/sec: 130.265\n",
      "INFO:tensorflow:loss = 1.3609943, step = 28400 (0.769 sec)\n",
      "INFO:tensorflow:global_step/sec: 131.133\n",
      "INFO:tensorflow:loss = 1.3417155, step = 28500 (0.761 sec)\n",
      "INFO:tensorflow:global_step/sec: 126.881\n",
      "INFO:tensorflow:loss = 1.3526174, step = 28600 (0.790 sec)\n",
      "INFO:tensorflow:global_step/sec: 130.871\n",
      "INFO:tensorflow:loss = 1.3682623, step = 28700 (0.764 sec)\n",
      "INFO:tensorflow:global_step/sec: 132.212\n",
      "INFO:tensorflow:loss = 1.3865992, step = 28800 (0.757 sec)\n",
      "INFO:tensorflow:global_step/sec: 121.642\n",
      "INFO:tensorflow:loss = 1.3748062, step = 28900 (0.821 sec)\n",
      "INFO:tensorflow:Saving checkpoints for 29000 into trained_models/ts-model-03/model.ckpt.\n",
      "INFO:tensorflow:global_step/sec: 99.9289\n",
      "INFO:tensorflow:loss = 1.397055, step = 29000 (1.001 sec)\n",
      "INFO:tensorflow:global_step/sec: 133.033\n",
      "INFO:tensorflow:loss = 1.4145687, step = 29100 (0.752 sec)\n",
      "INFO:tensorflow:global_step/sec: 118.79\n",
      "INFO:tensorflow:loss = 1.3495377, step = 29200 (0.842 sec)\n",
      "INFO:tensorflow:global_step/sec: 117.465\n",
      "INFO:tensorflow:loss = 1.4330361, step = 29300 (0.852 sec)\n",
      "INFO:tensorflow:global_step/sec: 127.003\n",
      "INFO:tensorflow:loss = 1.3214262, step = 29400 (0.787 sec)\n",
      "INFO:tensorflow:global_step/sec: 119.288\n",
      "INFO:tensorflow:loss = 1.3519154, step = 29500 (0.839 sec)\n",
      "INFO:tensorflow:global_step/sec: 123.369\n",
      "INFO:tensorflow:loss = 1.3231621, step = 29600 (0.820 sec)\n",
      "INFO:tensorflow:global_step/sec: 119.309\n",
      "INFO:tensorflow:loss = 1.4528213, step = 29700 (0.827 sec)\n",
      "INFO:tensorflow:global_step/sec: 126.488\n",
      "INFO:tensorflow:loss = 1.4355792, step = 29800 (0.791 sec)\n",
      "INFO:tensorflow:global_step/sec: 128.282\n",
      "INFO:tensorflow:loss = 1.642284, step = 29900 (0.781 sec)\n",
      "INFO:tensorflow:Saving checkpoints for 30000 into trained_models/ts-model-03/model.ckpt.\n",
      "INFO:tensorflow:global_step/sec: 115.736\n",
      "INFO:tensorflow:loss = 1.4164543, step = 30000 (0.864 sec)\n",
      "INFO:tensorflow:global_step/sec: 130.335\n",
      "INFO:tensorflow:loss = 1.3485725, step = 30100 (0.767 sec)\n"
     ]
    },
    {
     "name": "stdout",
     "output_type": "stream",
     "text": [
      "INFO:tensorflow:global_step/sec: 131.102\n",
      "INFO:tensorflow:loss = 1.4102752, step = 30200 (0.763 sec)\n",
      "INFO:tensorflow:global_step/sec: 128.29\n",
      "INFO:tensorflow:loss = 1.4420382, step = 30300 (0.778 sec)\n",
      "INFO:tensorflow:global_step/sec: 126.159\n",
      "INFO:tensorflow:loss = 1.3446218, step = 30400 (0.794 sec)\n",
      "INFO:tensorflow:global_step/sec: 132.421\n",
      "INFO:tensorflow:loss = 1.2643112, step = 30500 (0.755 sec)\n",
      "INFO:tensorflow:global_step/sec: 121.561\n",
      "INFO:tensorflow:loss = 1.394161, step = 30600 (0.823 sec)\n",
      "INFO:tensorflow:global_step/sec: 125.013\n",
      "INFO:tensorflow:loss = 1.3653389, step = 30700 (0.799 sec)\n",
      "INFO:tensorflow:global_step/sec: 123.635\n",
      "INFO:tensorflow:loss = 1.3679787, step = 30800 (0.810 sec)\n",
      "INFO:tensorflow:global_step/sec: 121.932\n",
      "INFO:tensorflow:loss = 1.4225067, step = 30900 (0.830 sec)\n",
      "INFO:tensorflow:Saving checkpoints for 31000 into trained_models/ts-model-03/model.ckpt.\n",
      "INFO:tensorflow:global_step/sec: 108.712\n",
      "INFO:tensorflow:loss = 1.6557516, step = 31000 (0.909 sec)\n",
      "INFO:tensorflow:global_step/sec: 125.478\n",
      "INFO:tensorflow:loss = 1.3711761, step = 31100 (0.798 sec)\n",
      "INFO:tensorflow:global_step/sec: 130.12\n",
      "INFO:tensorflow:loss = 1.328356, step = 31200 (0.768 sec)\n",
      "INFO:tensorflow:global_step/sec: 130.22\n",
      "INFO:tensorflow:loss = 1.2766905, step = 31300 (0.769 sec)\n",
      "INFO:tensorflow:global_step/sec: 126.567\n",
      "INFO:tensorflow:loss = 1.41568, step = 31400 (0.788 sec)\n",
      "INFO:tensorflow:global_step/sec: 117.641\n",
      "INFO:tensorflow:loss = 1.3618846, step = 31500 (0.850 sec)\n",
      "INFO:tensorflow:global_step/sec: 126.887\n",
      "INFO:tensorflow:loss = 1.325739, step = 31600 (0.788 sec)\n",
      "INFO:tensorflow:global_step/sec: 123.618\n",
      "INFO:tensorflow:loss = 1.372338, step = 31700 (0.809 sec)\n",
      "INFO:tensorflow:global_step/sec: 124.826\n",
      "INFO:tensorflow:loss = 1.3899074, step = 31800 (0.801 sec)\n",
      "INFO:tensorflow:global_step/sec: 122\n",
      "INFO:tensorflow:loss = 1.7068505, step = 31900 (0.820 sec)\n",
      "INFO:tensorflow:Saving checkpoints for 32000 into trained_models/ts-model-03/model.ckpt.\n",
      "INFO:tensorflow:global_step/sec: 111.683\n",
      "INFO:tensorflow:loss = 1.6013428, step = 32000 (0.895 sec)\n",
      "INFO:tensorflow:global_step/sec: 126.366\n",
      "INFO:tensorflow:loss = 1.3695773, step = 32100 (0.792 sec)\n",
      "INFO:tensorflow:global_step/sec: 123.828\n",
      "INFO:tensorflow:loss = 1.5299194, step = 32200 (0.806 sec)\n",
      "INFO:tensorflow:global_step/sec: 123.986\n",
      "INFO:tensorflow:loss = 1.3873067, step = 32300 (0.813 sec)\n",
      "INFO:tensorflow:global_step/sec: 122.322\n",
      "INFO:tensorflow:loss = 1.5518982, step = 32400 (0.811 sec)\n",
      "INFO:tensorflow:global_step/sec: 118.06\n",
      "INFO:tensorflow:loss = 1.3817425, step = 32500 (0.852 sec)\n",
      "INFO:tensorflow:global_step/sec: 122.746\n",
      "INFO:tensorflow:loss = 1.3983852, step = 32600 (0.810 sec)\n",
      "INFO:tensorflow:global_step/sec: 123.485\n",
      "INFO:tensorflow:loss = 1.3921816, step = 32700 (0.810 sec)\n",
      "INFO:tensorflow:global_step/sec: 129.707\n",
      "INFO:tensorflow:loss = 1.4949121, step = 32800 (0.770 sec)\n",
      "INFO:tensorflow:global_step/sec: 120.31\n",
      "INFO:tensorflow:loss = 1.4349012, step = 32900 (0.831 sec)\n",
      "INFO:tensorflow:Saving checkpoints for 33000 into trained_models/ts-model-03/model.ckpt.\n",
      "INFO:tensorflow:Loss for final step: 1.3385642.\n",
      ".......................................\n",
      "Estimator training finished at 06:48:17\n",
      "\n",
      "Estimator training elapsed time: 84.484291 seconds\n"
     ]
    }
   ],
   "source": [
    "tf.logging.set_verbosity(tf.logging.INFO)\n",
    "\n",
    "time_start = datetime.utcnow() \n",
    "print(\"Estimator training started at {}\".format(time_start.strftime(\"%H:%M:%S\")))\n",
    "print(\".......................................\")\n",
    "\n",
    "estimator.train(input_fn=train_input_fn, steps=hparams.training_steps)\n",
    "\n",
    "time_end = datetime.utcnow() \n",
    "print(\".......................................\")\n",
    "print(\"Estimator training finished at {}\".format(time_end.strftime(\"%H:%M:%S\")))\n",
    "print(\"\")\n",
    "time_elapsed = time_end - time_start\n",
    "print(\"Estimator training elapsed time: {} seconds\".format(time_elapsed.total_seconds()))"
   ]
  },
  {
   "cell_type": "code",
   "execution_count": 266,
   "metadata": {},
   "outputs": [
    {
     "name": "stdout",
     "output_type": "stream",
     "text": [
      "Estimator training started at 06:48:33\n",
      ".......................................\n",
      "INFO:tensorflow:Calling model_fn.\n",
      "INFO:tensorflow:Done calling model_fn.\n",
      "INFO:tensorflow:Create CheckpointSaverHook.\n",
      "INFO:tensorflow:Graph was finalized.\n",
      "INFO:tensorflow:Restoring parameters from trained_models/ts-model-03/model.ckpt-33000\n",
      "INFO:tensorflow:Running local_init_op.\n",
      "INFO:tensorflow:Done running local_init_op.\n",
      "INFO:tensorflow:Saving checkpoints for 33000 into trained_models/ts-model-03/model.ckpt.\n",
      "INFO:tensorflow:loss = 1.279439, step = 33000\n",
      "INFO:tensorflow:global_step/sec: 83.9716\n",
      "INFO:tensorflow:loss = 1.3715069, step = 33100 (1.192 sec)\n",
      "INFO:tensorflow:global_step/sec: 89.7549\n",
      "INFO:tensorflow:loss = 1.4180506, step = 33200 (1.115 sec)\n",
      "INFO:tensorflow:global_step/sec: 89.7818\n",
      "INFO:tensorflow:loss = 1.3961055, step = 33300 (1.125 sec)\n",
      "INFO:tensorflow:global_step/sec: 74.4555\n",
      "INFO:tensorflow:loss = 1.4792117, step = 33400 (1.332 sec)\n"
     ]
    },
    {
     "ename": "KeyboardInterrupt",
     "evalue": "",
     "output_type": "error",
     "traceback": [
      "\u001b[0;31m---------------------------------------------------------------------------\u001b[0m",
      "\u001b[0;31mKeyboardInterrupt\u001b[0m                         Traceback (most recent call last)",
      "\u001b[0;32m<ipython-input-266-51dbc36a9a2c>\u001b[0m in \u001b[0;36m<module>\u001b[0;34m()\u001b[0m\n\u001b[1;32m      5\u001b[0m \u001b[0mprint\u001b[0m\u001b[0;34m(\u001b[0m\u001b[0;34m\".......................................\"\u001b[0m\u001b[0;34m)\u001b[0m\u001b[0;34m\u001b[0m\u001b[0m\n\u001b[1;32m      6\u001b[0m \u001b[0;34m\u001b[0m\u001b[0m\n\u001b[0;32m----> 7\u001b[0;31m \u001b[0mestimator\u001b[0m\u001b[0;34m.\u001b[0m\u001b[0mtrain\u001b[0m\u001b[0;34m(\u001b[0m\u001b[0minput_fn\u001b[0m\u001b[0;34m=\u001b[0m\u001b[0mtrain_input_fn\u001b[0m\u001b[0;34m,\u001b[0m \u001b[0msteps\u001b[0m\u001b[0;34m=\u001b[0m\u001b[0mhparams\u001b[0m\u001b[0;34m.\u001b[0m\u001b[0mtraining_steps\u001b[0m\u001b[0;34m)\u001b[0m\u001b[0;34m\u001b[0m\u001b[0m\n\u001b[0m\u001b[1;32m      8\u001b[0m \u001b[0;34m\u001b[0m\u001b[0m\n\u001b[1;32m      9\u001b[0m \u001b[0mtime_end\u001b[0m \u001b[0;34m=\u001b[0m \u001b[0mdatetime\u001b[0m\u001b[0;34m.\u001b[0m\u001b[0mutcnow\u001b[0m\u001b[0;34m(\u001b[0m\u001b[0;34m)\u001b[0m\u001b[0;34m\u001b[0m\u001b[0m\n",
      "\u001b[0;32m~/.conda/envs/tf/lib/python3.6/site-packages/tensorflow/python/estimator/estimator.py\u001b[0m in \u001b[0;36mtrain\u001b[0;34m(self, input_fn, hooks, steps, max_steps, saving_listeners)\u001b[0m\n\u001b[1;32m    364\u001b[0m \u001b[0;34m\u001b[0m\u001b[0m\n\u001b[1;32m    365\u001b[0m       \u001b[0msaving_listeners\u001b[0m \u001b[0;34m=\u001b[0m \u001b[0m_check_listeners_type\u001b[0m\u001b[0;34m(\u001b[0m\u001b[0msaving_listeners\u001b[0m\u001b[0;34m)\u001b[0m\u001b[0;34m\u001b[0m\u001b[0m\n\u001b[0;32m--> 366\u001b[0;31m       \u001b[0mloss\u001b[0m \u001b[0;34m=\u001b[0m \u001b[0mself\u001b[0m\u001b[0;34m.\u001b[0m\u001b[0m_train_model\u001b[0m\u001b[0;34m(\u001b[0m\u001b[0minput_fn\u001b[0m\u001b[0;34m,\u001b[0m \u001b[0mhooks\u001b[0m\u001b[0;34m,\u001b[0m \u001b[0msaving_listeners\u001b[0m\u001b[0;34m)\u001b[0m\u001b[0;34m\u001b[0m\u001b[0m\n\u001b[0m\u001b[1;32m    367\u001b[0m       \u001b[0mlogging\u001b[0m\u001b[0;34m.\u001b[0m\u001b[0minfo\u001b[0m\u001b[0;34m(\u001b[0m\u001b[0;34m'Loss for final step: %s.'\u001b[0m\u001b[0;34m,\u001b[0m \u001b[0mloss\u001b[0m\u001b[0;34m)\u001b[0m\u001b[0;34m\u001b[0m\u001b[0m\n\u001b[1;32m    368\u001b[0m       \u001b[0;32mreturn\u001b[0m \u001b[0mself\u001b[0m\u001b[0;34m\u001b[0m\u001b[0m\n",
      "\u001b[0;32m~/.conda/envs/tf/lib/python3.6/site-packages/tensorflow/python/estimator/estimator.py\u001b[0m in \u001b[0;36m_train_model\u001b[0;34m(self, input_fn, hooks, saving_listeners)\u001b[0m\n\u001b[1;32m   1117\u001b[0m       \u001b[0;32mreturn\u001b[0m \u001b[0mself\u001b[0m\u001b[0;34m.\u001b[0m\u001b[0m_train_model_distributed\u001b[0m\u001b[0;34m(\u001b[0m\u001b[0minput_fn\u001b[0m\u001b[0;34m,\u001b[0m \u001b[0mhooks\u001b[0m\u001b[0;34m,\u001b[0m \u001b[0msaving_listeners\u001b[0m\u001b[0;34m)\u001b[0m\u001b[0;34m\u001b[0m\u001b[0m\n\u001b[1;32m   1118\u001b[0m     \u001b[0;32melse\u001b[0m\u001b[0;34m:\u001b[0m\u001b[0;34m\u001b[0m\u001b[0m\n\u001b[0;32m-> 1119\u001b[0;31m       \u001b[0;32mreturn\u001b[0m \u001b[0mself\u001b[0m\u001b[0;34m.\u001b[0m\u001b[0m_train_model_default\u001b[0m\u001b[0;34m(\u001b[0m\u001b[0minput_fn\u001b[0m\u001b[0;34m,\u001b[0m \u001b[0mhooks\u001b[0m\u001b[0;34m,\u001b[0m \u001b[0msaving_listeners\u001b[0m\u001b[0;34m)\u001b[0m\u001b[0;34m\u001b[0m\u001b[0m\n\u001b[0m\u001b[1;32m   1120\u001b[0m \u001b[0;34m\u001b[0m\u001b[0m\n\u001b[1;32m   1121\u001b[0m   \u001b[0;32mdef\u001b[0m \u001b[0m_train_model_default\u001b[0m\u001b[0;34m(\u001b[0m\u001b[0mself\u001b[0m\u001b[0;34m,\u001b[0m \u001b[0minput_fn\u001b[0m\u001b[0;34m,\u001b[0m \u001b[0mhooks\u001b[0m\u001b[0;34m,\u001b[0m \u001b[0msaving_listeners\u001b[0m\u001b[0;34m)\u001b[0m\u001b[0;34m:\u001b[0m\u001b[0;34m\u001b[0m\u001b[0m\n",
      "\u001b[0;32m~/.conda/envs/tf/lib/python3.6/site-packages/tensorflow/python/estimator/estimator.py\u001b[0m in \u001b[0;36m_train_model_default\u001b[0;34m(self, input_fn, hooks, saving_listeners)\u001b[0m\n\u001b[1;32m   1133\u001b[0m       return self._train_with_estimator_spec(estimator_spec, worker_hooks,\n\u001b[1;32m   1134\u001b[0m                                              \u001b[0mhooks\u001b[0m\u001b[0;34m,\u001b[0m \u001b[0mglobal_step_tensor\u001b[0m\u001b[0;34m,\u001b[0m\u001b[0;34m\u001b[0m\u001b[0m\n\u001b[0;32m-> 1135\u001b[0;31m                                              saving_listeners)\n\u001b[0m\u001b[1;32m   1136\u001b[0m \u001b[0;34m\u001b[0m\u001b[0m\n\u001b[1;32m   1137\u001b[0m   \u001b[0;32mdef\u001b[0m \u001b[0m_train_model_distributed\u001b[0m\u001b[0;34m(\u001b[0m\u001b[0mself\u001b[0m\u001b[0;34m,\u001b[0m \u001b[0minput_fn\u001b[0m\u001b[0;34m,\u001b[0m \u001b[0mhooks\u001b[0m\u001b[0;34m,\u001b[0m \u001b[0msaving_listeners\u001b[0m\u001b[0;34m)\u001b[0m\u001b[0;34m:\u001b[0m\u001b[0;34m\u001b[0m\u001b[0m\n",
      "\u001b[0;32m~/.conda/envs/tf/lib/python3.6/site-packages/tensorflow/python/estimator/estimator.py\u001b[0m in \u001b[0;36m_train_with_estimator_spec\u001b[0;34m(self, estimator_spec, worker_hooks, hooks, global_step_tensor, saving_listeners)\u001b[0m\n\u001b[1;32m   1334\u001b[0m       \u001b[0mloss\u001b[0m \u001b[0;34m=\u001b[0m \u001b[0;32mNone\u001b[0m\u001b[0;34m\u001b[0m\u001b[0m\n\u001b[1;32m   1335\u001b[0m       \u001b[0;32mwhile\u001b[0m \u001b[0;32mnot\u001b[0m \u001b[0mmon_sess\u001b[0m\u001b[0;34m.\u001b[0m\u001b[0mshould_stop\u001b[0m\u001b[0;34m(\u001b[0m\u001b[0;34m)\u001b[0m\u001b[0;34m:\u001b[0m\u001b[0;34m\u001b[0m\u001b[0m\n\u001b[0;32m-> 1336\u001b[0;31m         \u001b[0m_\u001b[0m\u001b[0;34m,\u001b[0m \u001b[0mloss\u001b[0m \u001b[0;34m=\u001b[0m \u001b[0mmon_sess\u001b[0m\u001b[0;34m.\u001b[0m\u001b[0mrun\u001b[0m\u001b[0;34m(\u001b[0m\u001b[0;34m[\u001b[0m\u001b[0mestimator_spec\u001b[0m\u001b[0;34m.\u001b[0m\u001b[0mtrain_op\u001b[0m\u001b[0;34m,\u001b[0m \u001b[0mestimator_spec\u001b[0m\u001b[0;34m.\u001b[0m\u001b[0mloss\u001b[0m\u001b[0;34m]\u001b[0m\u001b[0;34m)\u001b[0m\u001b[0;34m\u001b[0m\u001b[0m\n\u001b[0m\u001b[1;32m   1337\u001b[0m     \u001b[0;32mreturn\u001b[0m \u001b[0mloss\u001b[0m\u001b[0;34m\u001b[0m\u001b[0m\n\u001b[1;32m   1338\u001b[0m \u001b[0;34m\u001b[0m\u001b[0m\n",
      "\u001b[0;32m~/.conda/envs/tf/lib/python3.6/site-packages/tensorflow/python/training/monitored_session.py\u001b[0m in \u001b[0;36mrun\u001b[0;34m(self, fetches, feed_dict, options, run_metadata)\u001b[0m\n\u001b[1;32m    575\u001b[0m                           \u001b[0mfeed_dict\u001b[0m\u001b[0;34m=\u001b[0m\u001b[0mfeed_dict\u001b[0m\u001b[0;34m,\u001b[0m\u001b[0;34m\u001b[0m\u001b[0m\n\u001b[1;32m    576\u001b[0m                           \u001b[0moptions\u001b[0m\u001b[0;34m=\u001b[0m\u001b[0moptions\u001b[0m\u001b[0;34m,\u001b[0m\u001b[0;34m\u001b[0m\u001b[0m\n\u001b[0;32m--> 577\u001b[0;31m                           run_metadata=run_metadata)\n\u001b[0m\u001b[1;32m    578\u001b[0m \u001b[0;34m\u001b[0m\u001b[0m\n\u001b[1;32m    579\u001b[0m   \u001b[0;32mdef\u001b[0m \u001b[0mrun_step_fn\u001b[0m\u001b[0;34m(\u001b[0m\u001b[0mself\u001b[0m\u001b[0;34m,\u001b[0m \u001b[0mstep_fn\u001b[0m\u001b[0;34m)\u001b[0m\u001b[0;34m:\u001b[0m\u001b[0;34m\u001b[0m\u001b[0m\n",
      "\u001b[0;32m~/.conda/envs/tf/lib/python3.6/site-packages/tensorflow/python/training/monitored_session.py\u001b[0m in \u001b[0;36mrun\u001b[0;34m(self, fetches, feed_dict, options, run_metadata)\u001b[0m\n\u001b[1;32m   1051\u001b[0m                               \u001b[0mfeed_dict\u001b[0m\u001b[0;34m=\u001b[0m\u001b[0mfeed_dict\u001b[0m\u001b[0;34m,\u001b[0m\u001b[0;34m\u001b[0m\u001b[0m\n\u001b[1;32m   1052\u001b[0m                               \u001b[0moptions\u001b[0m\u001b[0;34m=\u001b[0m\u001b[0moptions\u001b[0m\u001b[0;34m,\u001b[0m\u001b[0;34m\u001b[0m\u001b[0m\n\u001b[0;32m-> 1053\u001b[0;31m                               run_metadata=run_metadata)\n\u001b[0m\u001b[1;32m   1054\u001b[0m       \u001b[0;32mexcept\u001b[0m \u001b[0m_PREEMPTION_ERRORS\u001b[0m \u001b[0;32mas\u001b[0m \u001b[0me\u001b[0m\u001b[0;34m:\u001b[0m\u001b[0;34m\u001b[0m\u001b[0m\n\u001b[1;32m   1055\u001b[0m         logging.info('An error was raised. This may be due to a preemption in '\n",
      "\u001b[0;32m~/.conda/envs/tf/lib/python3.6/site-packages/tensorflow/python/training/monitored_session.py\u001b[0m in \u001b[0;36mrun\u001b[0;34m(self, *args, **kwargs)\u001b[0m\n\u001b[1;32m   1127\u001b[0m   \u001b[0;32mdef\u001b[0m \u001b[0mrun\u001b[0m\u001b[0;34m(\u001b[0m\u001b[0mself\u001b[0m\u001b[0;34m,\u001b[0m \u001b[0;34m*\u001b[0m\u001b[0margs\u001b[0m\u001b[0;34m,\u001b[0m \u001b[0;34m**\u001b[0m\u001b[0mkwargs\u001b[0m\u001b[0;34m)\u001b[0m\u001b[0;34m:\u001b[0m\u001b[0;34m\u001b[0m\u001b[0m\n\u001b[1;32m   1128\u001b[0m     \u001b[0;32mtry\u001b[0m\u001b[0;34m:\u001b[0m\u001b[0;34m\u001b[0m\u001b[0m\n\u001b[0;32m-> 1129\u001b[0;31m       \u001b[0;32mreturn\u001b[0m \u001b[0mself\u001b[0m\u001b[0;34m.\u001b[0m\u001b[0m_sess\u001b[0m\u001b[0;34m.\u001b[0m\u001b[0mrun\u001b[0m\u001b[0;34m(\u001b[0m\u001b[0;34m*\u001b[0m\u001b[0margs\u001b[0m\u001b[0;34m,\u001b[0m \u001b[0;34m**\u001b[0m\u001b[0mkwargs\u001b[0m\u001b[0;34m)\u001b[0m\u001b[0;34m\u001b[0m\u001b[0m\n\u001b[0m\u001b[1;32m   1130\u001b[0m     \u001b[0;32mexcept\u001b[0m \u001b[0m_PREEMPTION_ERRORS\u001b[0m\u001b[0;34m:\u001b[0m\u001b[0;34m\u001b[0m\u001b[0m\n\u001b[1;32m   1131\u001b[0m       \u001b[0;32mraise\u001b[0m\u001b[0;34m\u001b[0m\u001b[0m\n",
      "\u001b[0;32m~/.conda/envs/tf/lib/python3.6/site-packages/tensorflow/python/training/monitored_session.py\u001b[0m in \u001b[0;36mrun\u001b[0;34m(self, fetches, feed_dict, options, run_metadata)\u001b[0m\n\u001b[1;32m   1199\u001b[0m                                   \u001b[0mfeed_dict\u001b[0m\u001b[0;34m=\u001b[0m\u001b[0mfeed_dict\u001b[0m\u001b[0;34m,\u001b[0m\u001b[0;34m\u001b[0m\u001b[0m\n\u001b[1;32m   1200\u001b[0m                                   \u001b[0moptions\u001b[0m\u001b[0;34m=\u001b[0m\u001b[0moptions\u001b[0m\u001b[0;34m,\u001b[0m\u001b[0;34m\u001b[0m\u001b[0m\n\u001b[0;32m-> 1201\u001b[0;31m                                   run_metadata=run_metadata)\n\u001b[0m\u001b[1;32m   1202\u001b[0m \u001b[0;34m\u001b[0m\u001b[0m\n\u001b[1;32m   1203\u001b[0m     \u001b[0;32mfor\u001b[0m \u001b[0mhook\u001b[0m \u001b[0;32min\u001b[0m \u001b[0mself\u001b[0m\u001b[0;34m.\u001b[0m\u001b[0m_hooks\u001b[0m\u001b[0;34m:\u001b[0m\u001b[0;34m\u001b[0m\u001b[0m\n",
      "\u001b[0;32m~/.conda/envs/tf/lib/python3.6/site-packages/tensorflow/python/training/monitored_session.py\u001b[0m in \u001b[0;36mrun\u001b[0;34m(self, *args, **kwargs)\u001b[0m\n\u001b[1;32m    979\u001b[0m \u001b[0;34m\u001b[0m\u001b[0m\n\u001b[1;32m    980\u001b[0m   \u001b[0;32mdef\u001b[0m \u001b[0mrun\u001b[0m\u001b[0;34m(\u001b[0m\u001b[0mself\u001b[0m\u001b[0;34m,\u001b[0m \u001b[0;34m*\u001b[0m\u001b[0margs\u001b[0m\u001b[0;34m,\u001b[0m \u001b[0;34m**\u001b[0m\u001b[0mkwargs\u001b[0m\u001b[0;34m)\u001b[0m\u001b[0;34m:\u001b[0m\u001b[0;34m\u001b[0m\u001b[0m\n\u001b[0;32m--> 981\u001b[0;31m     \u001b[0;32mreturn\u001b[0m \u001b[0mself\u001b[0m\u001b[0;34m.\u001b[0m\u001b[0m_sess\u001b[0m\u001b[0;34m.\u001b[0m\u001b[0mrun\u001b[0m\u001b[0;34m(\u001b[0m\u001b[0;34m*\u001b[0m\u001b[0margs\u001b[0m\u001b[0;34m,\u001b[0m \u001b[0;34m**\u001b[0m\u001b[0mkwargs\u001b[0m\u001b[0;34m)\u001b[0m\u001b[0;34m\u001b[0m\u001b[0m\n\u001b[0m\u001b[1;32m    982\u001b[0m \u001b[0;34m\u001b[0m\u001b[0m\n\u001b[1;32m    983\u001b[0m   \u001b[0;32mdef\u001b[0m \u001b[0mrun_step_fn\u001b[0m\u001b[0;34m(\u001b[0m\u001b[0mself\u001b[0m\u001b[0;34m,\u001b[0m \u001b[0mstep_fn\u001b[0m\u001b[0;34m,\u001b[0m \u001b[0mraw_session\u001b[0m\u001b[0;34m,\u001b[0m \u001b[0mrun_with_hooks\u001b[0m\u001b[0;34m)\u001b[0m\u001b[0;34m:\u001b[0m\u001b[0;34m\u001b[0m\u001b[0m\n",
      "\u001b[0;32m~/.conda/envs/tf/lib/python3.6/site-packages/tensorflow/python/client/session.py\u001b[0m in \u001b[0;36mrun\u001b[0;34m(self, fetches, feed_dict, options, run_metadata)\u001b[0m\n\u001b[1;32m    898\u001b[0m     \u001b[0;32mtry\u001b[0m\u001b[0;34m:\u001b[0m\u001b[0;34m\u001b[0m\u001b[0m\n\u001b[1;32m    899\u001b[0m       result = self._run(None, fetches, feed_dict, options_ptr,\n\u001b[0;32m--> 900\u001b[0;31m                          run_metadata_ptr)\n\u001b[0m\u001b[1;32m    901\u001b[0m       \u001b[0;32mif\u001b[0m \u001b[0mrun_metadata\u001b[0m\u001b[0;34m:\u001b[0m\u001b[0;34m\u001b[0m\u001b[0m\n\u001b[1;32m    902\u001b[0m         \u001b[0mproto_data\u001b[0m \u001b[0;34m=\u001b[0m \u001b[0mtf_session\u001b[0m\u001b[0;34m.\u001b[0m\u001b[0mTF_GetBuffer\u001b[0m\u001b[0;34m(\u001b[0m\u001b[0mrun_metadata_ptr\u001b[0m\u001b[0;34m)\u001b[0m\u001b[0;34m\u001b[0m\u001b[0m\n",
      "\u001b[0;32m~/.conda/envs/tf/lib/python3.6/site-packages/tensorflow/python/client/session.py\u001b[0m in \u001b[0;36m_run\u001b[0;34m(self, handle, fetches, feed_dict, options, run_metadata)\u001b[0m\n\u001b[1;32m   1133\u001b[0m     \u001b[0;32mif\u001b[0m \u001b[0mfinal_fetches\u001b[0m \u001b[0;32mor\u001b[0m \u001b[0mfinal_targets\u001b[0m \u001b[0;32mor\u001b[0m \u001b[0;34m(\u001b[0m\u001b[0mhandle\u001b[0m \u001b[0;32mand\u001b[0m \u001b[0mfeed_dict_tensor\u001b[0m\u001b[0;34m)\u001b[0m\u001b[0;34m:\u001b[0m\u001b[0;34m\u001b[0m\u001b[0m\n\u001b[1;32m   1134\u001b[0m       results = self._do_run(handle, final_targets, final_fetches,\n\u001b[0;32m-> 1135\u001b[0;31m                              feed_dict_tensor, options, run_metadata)\n\u001b[0m\u001b[1;32m   1136\u001b[0m     \u001b[0;32melse\u001b[0m\u001b[0;34m:\u001b[0m\u001b[0;34m\u001b[0m\u001b[0m\n\u001b[1;32m   1137\u001b[0m       \u001b[0mresults\u001b[0m \u001b[0;34m=\u001b[0m \u001b[0;34m[\u001b[0m\u001b[0;34m]\u001b[0m\u001b[0;34m\u001b[0m\u001b[0m\n",
      "\u001b[0;32m~/.conda/envs/tf/lib/python3.6/site-packages/tensorflow/python/client/session.py\u001b[0m in \u001b[0;36m_do_run\u001b[0;34m(self, handle, target_list, fetch_list, feed_dict, options, run_metadata)\u001b[0m\n\u001b[1;32m   1314\u001b[0m     \u001b[0;32mif\u001b[0m \u001b[0mhandle\u001b[0m \u001b[0;32mis\u001b[0m \u001b[0;32mNone\u001b[0m\u001b[0;34m:\u001b[0m\u001b[0;34m\u001b[0m\u001b[0m\n\u001b[1;32m   1315\u001b[0m       return self._do_call(_run_fn, feeds, fetches, targets, options,\n\u001b[0;32m-> 1316\u001b[0;31m                            run_metadata)\n\u001b[0m\u001b[1;32m   1317\u001b[0m     \u001b[0;32melse\u001b[0m\u001b[0;34m:\u001b[0m\u001b[0;34m\u001b[0m\u001b[0m\n\u001b[1;32m   1318\u001b[0m       \u001b[0;32mreturn\u001b[0m \u001b[0mself\u001b[0m\u001b[0;34m.\u001b[0m\u001b[0m_do_call\u001b[0m\u001b[0;34m(\u001b[0m\u001b[0m_prun_fn\u001b[0m\u001b[0;34m,\u001b[0m \u001b[0mhandle\u001b[0m\u001b[0;34m,\u001b[0m \u001b[0mfeeds\u001b[0m\u001b[0;34m,\u001b[0m \u001b[0mfetches\u001b[0m\u001b[0;34m)\u001b[0m\u001b[0;34m\u001b[0m\u001b[0m\n",
      "\u001b[0;32m~/.conda/envs/tf/lib/python3.6/site-packages/tensorflow/python/client/session.py\u001b[0m in \u001b[0;36m_do_call\u001b[0;34m(self, fn, *args)\u001b[0m\n\u001b[1;32m   1320\u001b[0m   \u001b[0;32mdef\u001b[0m \u001b[0m_do_call\u001b[0m\u001b[0;34m(\u001b[0m\u001b[0mself\u001b[0m\u001b[0;34m,\u001b[0m \u001b[0mfn\u001b[0m\u001b[0;34m,\u001b[0m \u001b[0;34m*\u001b[0m\u001b[0margs\u001b[0m\u001b[0;34m)\u001b[0m\u001b[0;34m:\u001b[0m\u001b[0;34m\u001b[0m\u001b[0m\n\u001b[1;32m   1321\u001b[0m     \u001b[0;32mtry\u001b[0m\u001b[0;34m:\u001b[0m\u001b[0;34m\u001b[0m\u001b[0m\n\u001b[0;32m-> 1322\u001b[0;31m       \u001b[0;32mreturn\u001b[0m \u001b[0mfn\u001b[0m\u001b[0;34m(\u001b[0m\u001b[0;34m*\u001b[0m\u001b[0margs\u001b[0m\u001b[0;34m)\u001b[0m\u001b[0;34m\u001b[0m\u001b[0m\n\u001b[0m\u001b[1;32m   1323\u001b[0m     \u001b[0;32mexcept\u001b[0m \u001b[0merrors\u001b[0m\u001b[0;34m.\u001b[0m\u001b[0mOpError\u001b[0m \u001b[0;32mas\u001b[0m \u001b[0me\u001b[0m\u001b[0;34m:\u001b[0m\u001b[0;34m\u001b[0m\u001b[0m\n\u001b[1;32m   1324\u001b[0m       \u001b[0mmessage\u001b[0m \u001b[0;34m=\u001b[0m \u001b[0mcompat\u001b[0m\u001b[0;34m.\u001b[0m\u001b[0mas_text\u001b[0m\u001b[0;34m(\u001b[0m\u001b[0me\u001b[0m\u001b[0;34m.\u001b[0m\u001b[0mmessage\u001b[0m\u001b[0;34m)\u001b[0m\u001b[0;34m\u001b[0m\u001b[0m\n",
      "\u001b[0;32m~/.conda/envs/tf/lib/python3.6/site-packages/tensorflow/python/client/session.py\u001b[0m in \u001b[0;36m_run_fn\u001b[0;34m(feed_dict, fetch_list, target_list, options, run_metadata)\u001b[0m\n\u001b[1;32m   1305\u001b[0m       \u001b[0mself\u001b[0m\u001b[0;34m.\u001b[0m\u001b[0m_extend_graph\u001b[0m\u001b[0;34m(\u001b[0m\u001b[0;34m)\u001b[0m\u001b[0;34m\u001b[0m\u001b[0m\n\u001b[1;32m   1306\u001b[0m       return self._call_tf_sessionrun(\n\u001b[0;32m-> 1307\u001b[0;31m           options, feed_dict, fetch_list, target_list, run_metadata)\n\u001b[0m\u001b[1;32m   1308\u001b[0m \u001b[0;34m\u001b[0m\u001b[0m\n\u001b[1;32m   1309\u001b[0m     \u001b[0;32mdef\u001b[0m \u001b[0m_prun_fn\u001b[0m\u001b[0;34m(\u001b[0m\u001b[0mhandle\u001b[0m\u001b[0;34m,\u001b[0m \u001b[0mfeed_dict\u001b[0m\u001b[0;34m,\u001b[0m \u001b[0mfetch_list\u001b[0m\u001b[0;34m)\u001b[0m\u001b[0;34m:\u001b[0m\u001b[0;34m\u001b[0m\u001b[0m\n",
      "\u001b[0;32m~/.conda/envs/tf/lib/python3.6/site-packages/tensorflow/python/client/session.py\u001b[0m in \u001b[0;36m_call_tf_sessionrun\u001b[0;34m(self, options, feed_dict, fetch_list, target_list, run_metadata)\u001b[0m\n\u001b[1;32m   1407\u001b[0m       return tf_session.TF_SessionRun_wrapper(\n\u001b[1;32m   1408\u001b[0m           \u001b[0mself\u001b[0m\u001b[0;34m.\u001b[0m\u001b[0m_session\u001b[0m\u001b[0;34m,\u001b[0m \u001b[0moptions\u001b[0m\u001b[0;34m,\u001b[0m \u001b[0mfeed_dict\u001b[0m\u001b[0;34m,\u001b[0m \u001b[0mfetch_list\u001b[0m\u001b[0;34m,\u001b[0m \u001b[0mtarget_list\u001b[0m\u001b[0;34m,\u001b[0m\u001b[0;34m\u001b[0m\u001b[0m\n\u001b[0;32m-> 1409\u001b[0;31m           run_metadata)\n\u001b[0m\u001b[1;32m   1410\u001b[0m     \u001b[0;32melse\u001b[0m\u001b[0;34m:\u001b[0m\u001b[0;34m\u001b[0m\u001b[0m\n\u001b[1;32m   1411\u001b[0m       \u001b[0;32mwith\u001b[0m \u001b[0merrors\u001b[0m\u001b[0;34m.\u001b[0m\u001b[0mraise_exception_on_not_ok_status\u001b[0m\u001b[0;34m(\u001b[0m\u001b[0;34m)\u001b[0m \u001b[0;32mas\u001b[0m \u001b[0mstatus\u001b[0m\u001b[0;34m:\u001b[0m\u001b[0;34m\u001b[0m\u001b[0m\n",
      "\u001b[0;31mKeyboardInterrupt\u001b[0m: "
     ]
    }
   ],
   "source": [
    "tf.logging.set_verbosity(tf.logging.INFO)\n",
    "\n",
    "time_start = datetime.utcnow() \n",
    "print(\"Estimator training started at {}\".format(time_start.strftime(\"%H:%M:%S\")))\n",
    "print(\".......................................\")\n",
    "\n",
    "estimator.train(input_fn=train_input_fn, steps=hparams.training_steps)\n",
    "\n",
    "time_end = datetime.utcnow() \n",
    "print(\".......................................\")\n",
    "print(\"Estimator training finished at {}\".format(time_end.strftime(\"%H:%M:%S\")))\n",
    "print(\"\")\n",
    "time_elapsed = time_end - time_start\n",
    "print(\"Estimator training elapsed time: {} seconds\".format(time_elapsed.total_seconds()))"
   ]
  },
  {
   "cell_type": "code",
   "execution_count": 267,
   "metadata": {},
   "outputs": [
    {
     "name": "stdout",
     "output_type": "stream",
     "text": [
      "INFO:tensorflow:Using config: {'_model_dir': 'trained_models/ts-model-03', '_tf_random_seed': 19830610, '_save_summary_steps': 100, '_save_checkpoints_steps': 1000, '_save_checkpoints_secs': None, '_session_config': None, '_keep_checkpoint_max': 5, '_keep_checkpoint_every_n_hours': 10000, '_log_step_count_steps': 100, '_train_distribute': None, '_device_fn': None, '_service': None, '_cluster_spec': <tensorflow.python.training.server_lib.ClusterSpec object at 0x7f8d9a913b70>, '_task_type': 'worker', '_task_id': 0, '_global_id_in_cluster': 0, '_master': '', '_evaluation_master': '', '_is_chief': True, '_num_ps_replicas': 0, '_num_worker_replicas': 1}\n",
      "\n",
      "Estimator Type: <class 'tensorflow.contrib.timeseries.python.timeseries.estimators.ARRegressor'>\n",
      "\n",
      "Dataset Size: 9616\n",
      "\n",
      "WARNING:tensorflow:Skipping summary for covariance, must be a float, np.float32, np.int64, np.int32 or int or a serialized string of Summary.\n",
      "WARNING:tensorflow:Skipping summary for mean, must be a float, np.float32, np.int64, np.int32 or int or a serialized string of Summary.\n",
      "WARNING:tensorflow:Skipping summary for observed, must be a float, np.float32, np.int64, np.int32 or int or a serialized string of Summary.\n",
      "WARNING:tensorflow:Skipping summary for start_tuple, must be a float, np.float32, np.int64, np.int32 or int or a serialized string of Summary.\n",
      "WARNING:tensorflow:Skipping summary for times, must be a float, np.float32, np.int64, np.int32 or int or a serialized string of Summary.\n",
      "\n",
      "dict_keys(['covariance', 'loss', 'mean', 'observed', 'start_tuple', 'times', 'global_step'])\n",
      "\n",
      "Evaluation Loss (squared_loss) : 1.828465461730957\n"
     ]
    }
   ],
   "source": [
    "hparams  = tf.contrib.training.HParams(\n",
    "    training_steps = 1,\n",
    "    periodicities = [10],\n",
    "    input_window_size = 32,\n",
    "    output_window_size= 5,\n",
    "    batch_size = 16,\n",
    "    loss = tf.contrib.timeseries.ARModel.SQUARED_LOSS, # NORMAL_LIKELIHOOD_LOSS | SQUARED_LOSS\n",
    "    hidden_units = [32,32,16],\n",
    "    learning_rate = 0.001\n",
    "    \n",
    ")\n",
    "\n",
    "estimator = create_estimator(run_config, hparams)\n",
    "\n",
    "eval_input_fn = generate_input_fn(\n",
    "    first_df,\n",
    "    mode = tf.estimator.ModeKeys.EVAL,\n",
    ")\n",
    "\n",
    "tf.logging.set_verbosity(tf.logging.WARN)\n",
    "evaluation = estimator.evaluate(input_fn=eval_input_fn, steps=1)\n",
    "print(\"\")\n",
    "print(evaluation.keys())\n",
    "print(\"\")\n",
    "print(\"Evaluation Loss ({}) : {}\".format(hparams.loss, evaluation['loss']))"
   ]
  },
  {
   "cell_type": "code",
   "execution_count": 268,
   "metadata": {},
   "outputs": [
    {
     "name": "stdout",
     "output_type": "stream",
     "text": [
      "Evaluation RMSE 1.92142\n",
      "Evaluation MAE 1.1917\n"
     ]
    }
   ],
   "source": [
    "def compute_rmse(a, b):\n",
    "    rmse =  np.sqrt(np.sum(np.square(a - b)) / len(a))\n",
    "    return round(rmse,5)\n",
    "\n",
    "def compute_mae(a, b):\n",
    "    mae =  np.sqrt(np.sum(np.abs(a - b)) / len(a))\n",
    "    return round(mae,5)\n",
    "\n",
    "x_current = evaluation['times'][0]\n",
    "y_current_actual = evaluation['observed'][0]\n",
    "y_current_estimated = evaluation['mean'][0]\n",
    "\n",
    "test_col = -9\n",
    "\n",
    "rmse = compute_rmse(y_current_actual[:, test_col], y_current_estimated[:, test_col])\n",
    "mae = compute_mae(y_current_actual[:, test_col], y_current_estimated[:, test_col])\n",
    "print(\"Evaluation RMSE {}\".format(rmse))\n",
    "print(\"Evaluation MAE {}\".format(mae))"
   ]
  },
  {
   "cell_type": "code",
   "execution_count": 269,
   "metadata": {},
   "outputs": [
    {
     "data": {
      "image/png": "[encoded data removed]",
      "text/plain": [
       "<Figure size 1440x720 with 1 Axes>"
      ]
     },
     "metadata": {},
     "output_type": "display_data"
    }
   ],
   "source": [
    "plt.figure(figsize=(20, 10))\n",
    "\n",
    "plt.title(\"Time Series Data\")\n",
    "plt.plot(x_current, y_current_actual[:, test_col], label='actual')\n",
    "plt.plot(x_current, y_current_estimated[:,test_col], label='estimated')\n",
    "plt.xlabel(\"Time Index\")\n",
    "plt.ylabel(\"Value\")\n",
    "plt.legend(loc=2)\n",
    "plt.show()"
   ]
  },
  {
   "cell_type": "code",
   "execution_count": null,
   "metadata": {},
   "outputs": [],
   "source": []
  }
 ],
 "metadata": {
  "kernelspec": {
   "display_name": "Python [conda env:tf]",
   "language": "python",
   "name": "conda-env-tf-py"
  },
  "language_info": {
   "codemirror_mode": {
    "name": "ipython",
    "version": 3
   },
   "file_extension": ".py",
   "mimetype": "text/x-python",
   "name": "python",
   "nbconvert_exporter": "python",
   "pygments_lexer": "ipython3",
   "version": "3.6.6"
  }
 },
 "nbformat": 4,
 "nbformat_minor": 2
}
