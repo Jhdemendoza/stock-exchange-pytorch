{
 "cells": [
  {
   "cell_type": "code",
   "execution_count": 1,
   "metadata": {},
   "outputs": [],
   "source": [
    "import requests\n",
    "import pandas as pd\n",
    "import numpy as np\n",
    "import os\n",
    "os.chdir('..')"
   ]
  },
  {
   "cell_type": "code",
   "execution_count": 2,
   "metadata": {},
   "outputs": [],
   "source": [
    "import matplotlib.pyplot as plt\n",
    "import seaborn as sns\n",
    "%matplotlib inline"
   ]
  },
  {
   "cell_type": "code",
   "execution_count": 3,
   "metadata": {},
   "outputs": [],
   "source": [
    "cmgs = [item for item in os.listdir('data/daily_data/') if 'cmg' in item.split('_')]\n",
    "cmgs.sort()"
   ]
  },
  {
   "cell_type": "code",
   "execution_count": 4,
   "metadata": {},
   "outputs": [
    {
     "data": {
      "text/plain": [
       "28"
      ]
     },
     "execution_count": 4,
     "metadata": {},
     "output_type": "execute_result"
    }
   ],
   "source": [
    "len(cmgs)"
   ]
  },
  {
   "cell_type": "code",
   "execution_count": 5,
   "metadata": {},
   "outputs": [],
   "source": [
    "first_df = pd.read_csv('data/daily_data/{}'.format(cmgs[0]))\n",
    "for cmg in cmgs[1:int(len(cmgs)*0.8)]:\n",
    "    this_df = pd.read_csv('data/daily_data/{}'.format(cmg))\n",
    "    first_df = pd.concat([first_df, this_df])"
   ]
  },
  {
   "cell_type": "code",
   "execution_count": 6,
   "metadata": {},
   "outputs": [],
   "source": [
    "second_df = this_df.copy()\n",
    "for cmg in cmgs[int(len(cmgs)*0.8):]:\n",
    "    this_df = pd.read_csv('data/daily_data/{}'.format(cmg))\n",
    "    second_df = pd.concat([second_df, this_df])"
   ]
  },
  {
   "cell_type": "code",
   "execution_count": 7,
   "metadata": {},
   "outputs": [
    {
     "data": {
      "text/plain": [
       "((8580, 22), (2730, 22))"
      ]
     },
     "execution_count": 7,
     "metadata": {},
     "output_type": "execute_result"
    }
   ],
   "source": [
    "first_df.shape, second_df.shape"
   ]
  },
  {
   "cell_type": "code",
   "execution_count": 5,
   "metadata": {},
   "outputs": [],
   "source": [
    "# cols = first_df.columns.tolist()\n",
    "# cols_to_drop = cols[:4] + ['label', 'changeOverTime', 'close', 'high', 'low', 'marketAverage',\n",
    "#                            'marketClose', 'marketOpen', 'volume', 'numberOfTrades', \n",
    "#                            'notional', 'open', 'marketChangeOverTime']"
   ]
  },
  {
   "cell_type": "code",
   "execution_count": 6,
   "metadata": {},
   "outputs": [],
   "source": [
    "# first_df.drop(cols_to_drop, axis=1, inplace=True)\n",
    "# # necessary\n",
    "# first_df.reset_index(drop=True, inplace=True)"
   ]
  },
  {
   "cell_type": "code",
   "execution_count": 7,
   "metadata": {},
   "outputs": [],
   "source": [
    "# idx_to_drop = first_df.index[first_df.marketNotional == 0.0]\n",
    "# first_df.drop(idx_to_drop, inplace=True)\n",
    "# first_df.reset_index(drop=True, inplace=True)\n",
    "# first_df.describe()"
   ]
  },
  {
   "cell_type": "code",
   "execution_count": 8,
   "metadata": {},
   "outputs": [],
   "source": [
    "# first_df.date = first_df.date.map(lambda x: datetime.datetime.strptime(str(x), '%Y%m%d'))\n",
    "# first_df['weekday'] = first_df.date.map(lambda x: str(x.weekday()))\n",
    "# first_df['month'] = first_df.date.map(lambda x: str(x.month))"
   ]
  },
  {
   "cell_type": "code",
   "execution_count": 9,
   "metadata": {},
   "outputs": [],
   "source": [
    "# first_df.minute = first_df.minute.map(lambda x: datetime.datetime.strptime(x, '%H:%M'))\n",
    "# first_df['hour'] = first_df.minute.map(lambda x: str(x.hour))"
   ]
  },
  {
   "cell_type": "code",
   "execution_count": 8,
   "metadata": {},
   "outputs": [],
   "source": [
    "import datetime\n",
    "def get_processed_minute_data(df):\n",
    "    cols = df.columns.tolist()\n",
    "    cols_to_drop = cols[:4] + ['label', 'changeOverTime', 'close', 'high', \n",
    "                               'low', 'marketAverage', 'marketClose', \n",
    "                               'marketOpen', 'volume', 'numberOfTrades', \n",
    "                               'notional', 'open', 'marketChangeOverTime']\n",
    "    df.drop(cols_to_drop, axis=1, inplace=True)\n",
    "    # necessary\n",
    "    df.reset_index(drop=True, inplace=True)\n",
    "    \n",
    "    idx_to_drop = df.index[df.marketNotional == 0.0]\n",
    "    df.drop(idx_to_drop, inplace=True)\n",
    "    df.reset_index(drop=True, inplace=True)\n",
    "    \n",
    "    df.date = df.date.map(lambda x: datetime.datetime.strptime(str(x), '%Y%m%d'))\n",
    "    df['weekday'] = df.date.map(lambda x: str(x.weekday()))\n",
    "    df['month']   = df.date.map(lambda x: str(x.month))\n",
    "    \n",
    "    df.minute = first_df.minute.map(lambda x: datetime.datetime.strptime(x, '%H:%M'))\n",
    "    df['hour'] = first_df.minute.map(lambda x: str(x.hour))\n",
    "    \n",
    "    return df\n",
    "\n",
    "first_df = get_processed_minute_data(first_df)"
   ]
  },
  {
   "cell_type": "code",
   "execution_count": 9,
   "metadata": {},
   "outputs": [],
   "source": [
    "def get_numeric_categoric(df):\n",
    "    numeric_cols, categorical_cols = [], []\n",
    "\n",
    "    for col in first_df:\n",
    "        if np.issubdtype(df[col].dtype, np.number):\n",
    "            numeric_cols += [col]\n",
    "        else:\n",
    "            categorical_cols += [col]\n",
    "    \n",
    "    return numeric_cols, categorical_cols"
   ]
  },
  {
   "cell_type": "code",
   "execution_count": 10,
   "metadata": {},
   "outputs": [
    {
     "data": {
      "text/plain": [
       "(['marketHigh',\n",
       "  'marketLow',\n",
       "  'marketNotional',\n",
       "  'marketNumberOfTrades',\n",
       "  'marketVolume'],\n",
       " ['date', 'minute', 'weekday', 'month', 'hour'])"
      ]
     },
     "execution_count": 10,
     "metadata": {},
     "output_type": "execute_result"
    }
   ],
   "source": [
    "numericl_cols, categorical_cols = get_numeric_categoric(first_df)\n",
    "numericl_cols, categorical_cols"
   ]
  },
  {
   "cell_type": "code",
   "execution_count": 11,
   "metadata": {},
   "outputs": [],
   "source": [
    "def delta_dataframe(df, numeric_columns):\n",
    "    '''\n",
    "    log numerical columns, then return deltas\n",
    "    '''\n",
    "    \n",
    "    added_columns = []\n",
    "    for shift in [3, 5, 10, 20]:\n",
    "        for col in numeric_columns:\n",
    "            new_col_name = col + '_' + str(shift)\n",
    "            df[new_col_name] = df[col].shift(shift)\n",
    "            added_columns += [new_col_name]\n",
    "\n",
    "    df[numeric_columns+added_columns] = df[numeric_columns+added_columns].apply(np.log)\n",
    "    \n",
    "    # for lookbacks\n",
    "    for new_col in added_columns:\n",
    "        original_col = new_col.split('_')[0]\n",
    "        df[new_col] = df[original_col] - df[new_col]\n",
    "    \n",
    "    # for today\n",
    "    # This line is necessary\n",
    "    temp = df[numeric_columns] - df[numeric_columns].shift(1)\n",
    "    df[numeric_columns] = temp\n",
    "    \n",
    "    assert (df.index == np.arange(len(first_df))).all()\n",
    "    df.drop(df.index[list(range(20))], axis=0, inplace=True)\n",
    "    df.reset_index(drop=True, inplace=True)\n",
    "    \n",
    "    return df"
   ]
  },
  {
   "cell_type": "code",
   "execution_count": 12,
   "metadata": {},
   "outputs": [
    {
     "data": {
      "text/html": [
       "<div>\n",
       "<style scoped>\n",
       "    .dataframe tbody tr th:only-of-type {\n",
       "        vertical-align: middle;\n",
       "    }\n",
       "\n",
       "    .dataframe tbody tr th {\n",
       "        vertical-align: top;\n",
       "    }\n",
       "\n",
       "    .dataframe thead th {\n",
       "        text-align: right;\n",
       "    }\n",
       "</style>\n",
       "<table border=\"1\" class=\"dataframe\">\n",
       "  <thead>\n",
       "    <tr style=\"text-align: right;\">\n",
       "      <th></th>\n",
       "      <th>marketHigh</th>\n",
       "      <th>marketLow</th>\n",
       "      <th>marketNotional</th>\n",
       "      <th>marketNumberOfTrades</th>\n",
       "      <th>marketVolume</th>\n",
       "      <th>marketHigh_3</th>\n",
       "      <th>marketLow_3</th>\n",
       "      <th>marketNotional_3</th>\n",
       "      <th>marketNumberOfTrades_3</th>\n",
       "      <th>marketVolume_3</th>\n",
       "      <th>...</th>\n",
       "      <th>marketHigh_10</th>\n",
       "      <th>marketLow_10</th>\n",
       "      <th>marketNotional_10</th>\n",
       "      <th>marketNumberOfTrades_10</th>\n",
       "      <th>marketVolume_10</th>\n",
       "      <th>marketHigh_20</th>\n",
       "      <th>marketLow_20</th>\n",
       "      <th>marketNotional_20</th>\n",
       "      <th>marketNumberOfTrades_20</th>\n",
       "      <th>marketVolume_20</th>\n",
       "    </tr>\n",
       "  </thead>\n",
       "  <tbody>\n",
       "    <tr>\n",
       "      <th>count</th>\n",
       "      <td>8487.000000</td>\n",
       "      <td>8487.000000</td>\n",
       "      <td>8487.000000</td>\n",
       "      <td>8487.000000</td>\n",
       "      <td>8487.000000</td>\n",
       "      <td>8487.000000</td>\n",
       "      <td>8487.000000</td>\n",
       "      <td>8487.000000</td>\n",
       "      <td>8487.000000</td>\n",
       "      <td>8487.000000</td>\n",
       "      <td>...</td>\n",
       "      <td>8487.000000</td>\n",
       "      <td>8487.000000</td>\n",
       "      <td>8487.000000</td>\n",
       "      <td>8487.000000</td>\n",
       "      <td>8487.000000</td>\n",
       "      <td>8487.000000</td>\n",
       "      <td>8487.000000</td>\n",
       "      <td>8487.000000</td>\n",
       "      <td>8487.000000</td>\n",
       "      <td>8487.000000</td>\n",
       "    </tr>\n",
       "    <tr>\n",
       "      <th>mean</th>\n",
       "      <td>0.000007</td>\n",
       "      <td>0.000007</td>\n",
       "      <td>0.000550</td>\n",
       "      <td>0.000549</td>\n",
       "      <td>0.000543</td>\n",
       "      <td>0.000020</td>\n",
       "      <td>0.000020</td>\n",
       "      <td>0.000929</td>\n",
       "      <td>0.000902</td>\n",
       "      <td>0.000908</td>\n",
       "      <td>...</td>\n",
       "      <td>0.000066</td>\n",
       "      <td>0.000068</td>\n",
       "      <td>0.001692</td>\n",
       "      <td>0.001722</td>\n",
       "      <td>0.001626</td>\n",
       "      <td>0.000133</td>\n",
       "      <td>0.000138</td>\n",
       "      <td>0.002491</td>\n",
       "      <td>0.002613</td>\n",
       "      <td>0.002357</td>\n",
       "    </tr>\n",
       "    <tr>\n",
       "      <th>std</th>\n",
       "      <td>0.001089</td>\n",
       "      <td>0.001168</td>\n",
       "      <td>1.860852</td>\n",
       "      <td>1.304864</td>\n",
       "      <td>1.860872</td>\n",
       "      <td>0.001868</td>\n",
       "      <td>0.001915</td>\n",
       "      <td>1.847154</td>\n",
       "      <td>1.290033</td>\n",
       "      <td>1.847176</td>\n",
       "      <td>...</td>\n",
       "      <td>0.003409</td>\n",
       "      <td>0.003448</td>\n",
       "      <td>1.898179</td>\n",
       "      <td>1.330744</td>\n",
       "      <td>1.898226</td>\n",
       "      <td>0.004911</td>\n",
       "      <td>0.004968</td>\n",
       "      <td>1.955809</td>\n",
       "      <td>1.366312</td>\n",
       "      <td>1.955857</td>\n",
       "    </tr>\n",
       "    <tr>\n",
       "      <th>min</th>\n",
       "      <td>-0.009287</td>\n",
       "      <td>-0.016011</td>\n",
       "      <td>-9.737805</td>\n",
       "      <td>-5.780744</td>\n",
       "      <td>-9.737905</td>\n",
       "      <td>-0.014290</td>\n",
       "      <td>-0.018523</td>\n",
       "      <td>-8.453899</td>\n",
       "      <td>-5.641907</td>\n",
       "      <td>-8.454253</td>\n",
       "      <td>...</td>\n",
       "      <td>-0.020738</td>\n",
       "      <td>-0.021170</td>\n",
       "      <td>-8.408788</td>\n",
       "      <td>-4.974432</td>\n",
       "      <td>-8.419801</td>\n",
       "      <td>-0.027329</td>\n",
       "      <td>-0.028410</td>\n",
       "      <td>-9.142410</td>\n",
       "      <td>-5.068904</td>\n",
       "      <td>-9.132487</td>\n",
       "    </tr>\n",
       "    <tr>\n",
       "      <th>25%</th>\n",
       "      <td>-0.000473</td>\n",
       "      <td>-0.000441</td>\n",
       "      <td>-1.008278</td>\n",
       "      <td>-0.827279</td>\n",
       "      <td>-1.009781</td>\n",
       "      <td>-0.000925</td>\n",
       "      <td>-0.000892</td>\n",
       "      <td>-0.982738</td>\n",
       "      <td>-0.801562</td>\n",
       "      <td>-0.982810</td>\n",
       "      <td>...</td>\n",
       "      <td>-0.001849</td>\n",
       "      <td>-0.001744</td>\n",
       "      <td>-1.026649</td>\n",
       "      <td>-0.842431</td>\n",
       "      <td>-1.026534</td>\n",
       "      <td>-0.002622</td>\n",
       "      <td>-0.002559</td>\n",
       "      <td>-1.076438</td>\n",
       "      <td>-0.869038</td>\n",
       "      <td>-1.076788</td>\n",
       "    </tr>\n",
       "    <tr>\n",
       "      <th>50%</th>\n",
       "      <td>-0.000009</td>\n",
       "      <td>0.000021</td>\n",
       "      <td>-0.020735</td>\n",
       "      <td>0.000000</td>\n",
       "      <td>-0.020849</td>\n",
       "      <td>-0.000022</td>\n",
       "      <td>0.000043</td>\n",
       "      <td>0.007454</td>\n",
       "      <td>0.000000</td>\n",
       "      <td>0.006577</td>\n",
       "      <td>...</td>\n",
       "      <td>-0.000071</td>\n",
       "      <td>-0.000023</td>\n",
       "      <td>0.014992</td>\n",
       "      <td>0.000000</td>\n",
       "      <td>0.015641</td>\n",
       "      <td>0.000042</td>\n",
       "      <td>0.000116</td>\n",
       "      <td>0.030526</td>\n",
       "      <td>0.000000</td>\n",
       "      <td>0.031718</td>\n",
       "    </tr>\n",
       "    <tr>\n",
       "      <th>75%</th>\n",
       "      <td>0.000443</td>\n",
       "      <td>0.000483</td>\n",
       "      <td>0.973271</td>\n",
       "      <td>0.796996</td>\n",
       "      <td>0.973099</td>\n",
       "      <td>0.000879</td>\n",
       "      <td>0.000911</td>\n",
       "      <td>0.987763</td>\n",
       "      <td>0.802346</td>\n",
       "      <td>0.990084</td>\n",
       "      <td>...</td>\n",
       "      <td>0.001739</td>\n",
       "      <td>0.001808</td>\n",
       "      <td>1.047158</td>\n",
       "      <td>0.858056</td>\n",
       "      <td>1.045235</td>\n",
       "      <td>0.002600</td>\n",
       "      <td>0.002721</td>\n",
       "      <td>1.099941</td>\n",
       "      <td>0.902868</td>\n",
       "      <td>1.101775</td>\n",
       "    </tr>\n",
       "    <tr>\n",
       "      <th>max</th>\n",
       "      <td>0.020955</td>\n",
       "      <td>0.021290</td>\n",
       "      <td>8.791507</td>\n",
       "      <td>4.454347</td>\n",
       "      <td>8.787983</td>\n",
       "      <td>0.024005</td>\n",
       "      <td>0.017813</td>\n",
       "      <td>8.805578</td>\n",
       "      <td>4.488636</td>\n",
       "      <td>8.806124</td>\n",
       "      <td>...</td>\n",
       "      <td>0.023029</td>\n",
       "      <td>0.021556</td>\n",
       "      <td>8.543134</td>\n",
       "      <td>4.795791</td>\n",
       "      <td>8.546364</td>\n",
       "      <td>0.031003</td>\n",
       "      <td>0.032480</td>\n",
       "      <td>8.377414</td>\n",
       "      <td>4.905275</td>\n",
       "      <td>8.367532</td>\n",
       "    </tr>\n",
       "  </tbody>\n",
       "</table>\n",
       "<p>8 rows × 25 columns</p>\n",
       "</div>"
      ],
      "text/plain": [
       "        marketHigh    marketLow  marketNotional  marketNumberOfTrades  \\\n",
       "count  8487.000000  8487.000000     8487.000000           8487.000000   \n",
       "mean      0.000007     0.000007        0.000550              0.000549   \n",
       "std       0.001089     0.001168        1.860852              1.304864   \n",
       "min      -0.009287    -0.016011       -9.737805             -5.780744   \n",
       "25%      -0.000473    -0.000441       -1.008278             -0.827279   \n",
       "50%      -0.000009     0.000021       -0.020735              0.000000   \n",
       "75%       0.000443     0.000483        0.973271              0.796996   \n",
       "max       0.020955     0.021290        8.791507              4.454347   \n",
       "\n",
       "       marketVolume  marketHigh_3  marketLow_3  marketNotional_3  \\\n",
       "count   8487.000000   8487.000000  8487.000000       8487.000000   \n",
       "mean       0.000543      0.000020     0.000020          0.000929   \n",
       "std        1.860872      0.001868     0.001915          1.847154   \n",
       "min       -9.737905     -0.014290    -0.018523         -8.453899   \n",
       "25%       -1.009781     -0.000925    -0.000892         -0.982738   \n",
       "50%       -0.020849     -0.000022     0.000043          0.007454   \n",
       "75%        0.973099      0.000879     0.000911          0.987763   \n",
       "max        8.787983      0.024005     0.017813          8.805578   \n",
       "\n",
       "       marketNumberOfTrades_3  marketVolume_3       ...         marketHigh_10  \\\n",
       "count             8487.000000     8487.000000       ...           8487.000000   \n",
       "mean                 0.000902        0.000908       ...              0.000066   \n",
       "std                  1.290033        1.847176       ...              0.003409   \n",
       "min                 -5.641907       -8.454253       ...             -0.020738   \n",
       "25%                 -0.801562       -0.982810       ...             -0.001849   \n",
       "50%                  0.000000        0.006577       ...             -0.000071   \n",
       "75%                  0.802346        0.990084       ...              0.001739   \n",
       "max                  4.488636        8.806124       ...              0.023029   \n",
       "\n",
       "       marketLow_10  marketNotional_10  marketNumberOfTrades_10  \\\n",
       "count   8487.000000        8487.000000              8487.000000   \n",
       "mean       0.000068           0.001692                 0.001722   \n",
       "std        0.003448           1.898179                 1.330744   \n",
       "min       -0.021170          -8.408788                -4.974432   \n",
       "25%       -0.001744          -1.026649                -0.842431   \n",
       "50%       -0.000023           0.014992                 0.000000   \n",
       "75%        0.001808           1.047158                 0.858056   \n",
       "max        0.021556           8.543134                 4.795791   \n",
       "\n",
       "       marketVolume_10  marketHigh_20  marketLow_20  marketNotional_20  \\\n",
       "count      8487.000000    8487.000000   8487.000000        8487.000000   \n",
       "mean          0.001626       0.000133      0.000138           0.002491   \n",
       "std           1.898226       0.004911      0.004968           1.955809   \n",
       "min          -8.419801      -0.027329     -0.028410          -9.142410   \n",
       "25%          -1.026534      -0.002622     -0.002559          -1.076438   \n",
       "50%           0.015641       0.000042      0.000116           0.030526   \n",
       "75%           1.045235       0.002600      0.002721           1.099941   \n",
       "max           8.546364       0.031003      0.032480           8.377414   \n",
       "\n",
       "       marketNumberOfTrades_20  marketVolume_20  \n",
       "count              8487.000000      8487.000000  \n",
       "mean                  0.002613         0.002357  \n",
       "std                   1.366312         1.955857  \n",
       "min                  -5.068904        -9.132487  \n",
       "25%                  -0.869038        -1.076788  \n",
       "50%                   0.000000         0.031718  \n",
       "75%                   0.902868         1.101775  \n",
       "max                   4.905275         8.367532  \n",
       "\n",
       "[8 rows x 25 columns]"
      ]
     },
     "execution_count": 12,
     "metadata": {},
     "output_type": "execute_result"
    }
   ],
   "source": [
    "first_df = delta_dataframe(first_df, numericl_cols)\n",
    "first_df.describe()"
   ]
  },
  {
   "cell_type": "code",
   "execution_count": 16,
   "metadata": {},
   "outputs": [
    {
     "data": {
      "text/plain": [
       "['date', 'minute', 'weekday', 'month', 'hour']"
      ]
     },
     "execution_count": 16,
     "metadata": {},
     "output_type": "execute_result"
    }
   ],
   "source": [
    "categorical_cols"
   ]
  },
  {
   "cell_type": "code",
   "execution_count": 17,
   "metadata": {},
   "outputs": [],
   "source": [
    "numericl_cols, categorical_cols = get_numeric_categoric(first_df)"
   ]
  },
  {
   "cell_type": "code",
   "execution_count": 18,
   "metadata": {},
   "outputs": [
    {
     "data": {
      "text/plain": [
       "['date', 'weekday', 'month', 'hour']"
      ]
     },
     "execution_count": 18,
     "metadata": {},
     "output_type": "execute_result"
    }
   ],
   "source": [
    "categorical_cols.remove('minute')\n",
    "categorical_cols"
   ]
  },
  {
   "cell_type": "code",
   "execution_count": 23,
   "metadata": {},
   "outputs": [],
   "source": [
    "categorical_cols.remove('date')"
   ]
  },
  {
   "cell_type": "code",
   "execution_count": 24,
   "metadata": {},
   "outputs": [],
   "source": [
    "first_df[categorical_cols] = first_df[categorical_cols].applymap(lambda x: int(x))"
   ]
  },
  {
   "cell_type": "code",
   "execution_count": 25,
   "metadata": {},
   "outputs": [],
   "source": [
    "label = first_df[['marketHigh', 'marketLow']]    \n",
    "label_10, label_5 = label.shift(-10), label.shift(-5)\n",
    "\n",
    "idx_to_del = np.arange(len(label_10)-10, len(label_10))\n",
    "label_10.drop(idx_to_del, inplace=True)\n",
    "label_5.drop(idx_to_del, inplace=True)\n",
    "first_df.drop(idx_to_del, inplace=True)\n"
   ]
  },
  {
   "cell_type": "code",
   "execution_count": 26,
   "metadata": {},
   "outputs": [],
   "source": [
    "import tensorflow as tf\n",
    "import tensorflow.contrib.timeseries as ts\n",
    "import multiprocessing\n",
    "import pandas as pd\n",
    "import numpy as np\n",
    "import shutil\n",
    "from datetime import datetime\n",
    "import matplotlib.pyplot as plt"
   ]
  },
  {
   "cell_type": "code",
   "execution_count": 27,
   "metadata": {},
   "outputs": [
    {
     "data": {
      "text/plain": [
       "date                       datetime64[ns]\n",
       "marketHigh                        float64\n",
       "marketLow                         float64\n",
       "marketNotional                    float64\n",
       "marketNumberOfTrades              float64\n",
       "marketVolume                      float64\n",
       "minute                     datetime64[ns]\n",
       "weekday                             int64\n",
       "month                               int64\n",
       "hour                                int64\n",
       "marketHigh_3                      float64\n",
       "marketLow_3                       float64\n",
       "marketNotional_3                  float64\n",
       "marketNumberOfTrades_3            float64\n",
       "marketVolume_3                    float64\n",
       "marketHigh_5                      float64\n",
       "marketLow_5                       float64\n",
       "marketNotional_5                  float64\n",
       "marketNumberOfTrades_5            float64\n",
       "marketVolume_5                    float64\n",
       "marketHigh_10                     float64\n",
       "marketLow_10                      float64\n",
       "marketNotional_10                 float64\n",
       "marketNumberOfTrades_10           float64\n",
       "marketVolume_10                   float64\n",
       "marketHigh_20                     float64\n",
       "marketLow_20                      float64\n",
       "marketNotional_20                 float64\n",
       "marketNumberOfTrades_20           float64\n",
       "marketVolume_20                   float64\n",
       "dtype: object"
      ]
     },
     "execution_count": 27,
     "metadata": {},
     "output_type": "execute_result"
    }
   ],
   "source": [
    "first_df.dtypes"
   ]
  },
  {
   "cell_type": "code",
   "execution_count": 28,
   "metadata": {},
   "outputs": [],
   "source": [
    "first_df.date = np.arange(len(first_df))"
   ]
  },
  {
   "cell_type": "code",
   "execution_count": 32,
   "metadata": {},
   "outputs": [],
   "source": [
    "unique_list = {}\n",
    "for item in categorical_cols:\n",
    "    unique_list[item] = first_df[item].unique().tolist()"
   ]
  },
  {
   "cell_type": "code",
   "execution_count": 33,
   "metadata": {},
   "outputs": [
    {
     "data": {
      "text/plain": [
       "{'weekday': [0, 1, 2, 3, 4],\n",
       " 'month': [10, 11],\n",
       " 'hour': [9, 10, 11, 12, 13, 14, 15]}"
      ]
     },
     "execution_count": 33,
     "metadata": {},
     "output_type": "execute_result"
    }
   ],
   "source": [
    "unique_list"
   ]
  },
  {
   "cell_type": "code",
   "execution_count": 35,
   "metadata": {},
   "outputs": [],
   "source": [
    "import tensorflow.feature_column as fc"
   ]
  },
  {
   "cell_type": "code",
   "execution_count": 36,
   "metadata": {},
   "outputs": [
    {
     "data": {
      "text/plain": [
       "{'weekday': _VocabularyListCategoricalColumn(key='weekday', vocabulary_list=(0, 1, 2, 3, 4), dtype=tf.int64, default_value=-1, num_oov_buckets=0),\n",
       " 'month': _VocabularyListCategoricalColumn(key='month', vocabulary_list=(10, 11), dtype=tf.int64, default_value=-1, num_oov_buckets=0),\n",
       " 'hour': _VocabularyListCategoricalColumn(key='hour', vocabulary_list=(9, 10, 11, 12, 13, 14, 15), dtype=tf.int64, default_value=-1, num_oov_buckets=0)}"
      ]
     },
     "execution_count": 36,
     "metadata": {},
     "output_type": "execute_result"
    }
   ],
   "source": [
    "category_dict = {item: fc.categorical_column_with_vocabulary_list(item, unique_list[item]) \n",
    "                    for item in categorical_cols}\n",
    "category_dict"
   ]
  },
  {
   "cell_type": "code",
   "execution_count": 37,
   "metadata": {},
   "outputs": [
    {
     "data": {
      "text/plain": [
       "{'weekday': _EmbeddingColumn(categorical_column=_VocabularyListCategoricalColumn(key='weekday', vocabulary_list=(0, 1, 2, 3, 4), dtype=tf.int64, default_value=-1, num_oov_buckets=0), dimension=2, combiner='mean', layer_creator=<function embedding_column.<locals>._creator at 0x7fcae2f861e0>, ckpt_to_load_from=None, tensor_name_in_ckpt=None, max_norm=None, trainable=True),\n",
       " 'month': _EmbeddingColumn(categorical_column=_VocabularyListCategoricalColumn(key='month', vocabulary_list=(10, 11), dtype=tf.int64, default_value=-1, num_oov_buckets=0), dimension=2, combiner='mean', layer_creator=<function embedding_column.<locals>._creator at 0x7fcae2f86268>, ckpt_to_load_from=None, tensor_name_in_ckpt=None, max_norm=None, trainable=True),\n",
       " 'hour': _EmbeddingColumn(categorical_column=_VocabularyListCategoricalColumn(key='hour', vocabulary_list=(9, 10, 11, 12, 13, 14, 15), dtype=tf.int64, default_value=-1, num_oov_buckets=0), dimension=2, combiner='mean', layer_creator=<function embedding_column.<locals>._creator at 0x7fcae2f862f0>, ckpt_to_load_from=None, tensor_name_in_ckpt=None, max_norm=None, trainable=True)}"
      ]
     },
     "execution_count": 37,
     "metadata": {},
     "output_type": "execute_result"
    }
   ],
   "source": [
    "embedding_categories = {\n",
    "    item: fc.embedding_column(category_dict[item], 2)\n",
    "    for item in category_dict\n",
    "}\n",
    "embedding_categories"
   ]
  },
  {
   "cell_type": "code",
   "execution_count": 39,
   "metadata": {},
   "outputs": [],
   "source": [
    "# HEADER = first_df.columns.tolist()\n",
    "TIME_INDEX_FEATURE_NAME = 'date'\n",
    "VALUE_FEATURE_NAMES = numericl_cols\n",
    "CAT_FEATURE_NAMES = categorical_cols"
   ]
  },
  {
   "cell_type": "code",
   "execution_count": 42,
   "metadata": {},
   "outputs": [],
   "source": [
    "def generate_input_fn(dataframe, mode, \n",
    "                      header_lines=1, batch_size=None, \n",
    "                      windows_size=None, tail_count=None):\n",
    "    \n",
    "    if tail_count is not None:\n",
    "        dataframe = dataframe.tail(tail_count)\n",
    "    \n",
    "    print(\"Dataset Size: {}\".format(len(dataframe)))\n",
    "    print(\"\")\n",
    "    \n",
    "    data = {\n",
    "        ts.TrainEvalFeatures.TIMES: \n",
    "                    dataframe[TIME_INDEX_FEATURE_NAME],\n",
    "        ts.TrainEvalFeatures.VALUES: \n",
    "                    dataframe[VALUE_FEATURE_NAMES+CAT_FEATURE_NAMES],\n",
    "        'weekday': dataframe[['weekday']],\n",
    "        'month':   dataframe[['month']],\n",
    "        'hour' :   dataframe[['hour']],\n",
    "    }\n",
    "    \n",
    "    reader = ts.NumpyReader(data)\n",
    "    \n",
    "    if mode == tf.estimator.ModeKeys.TRAIN:\n",
    "        input_fn = tf.contrib.timeseries.RandomWindowInputFn(\n",
    "            reader, \n",
    "            batch_size=batch_size, \n",
    "            window_size=windows_size,\n",
    "        )\n",
    "        \n",
    "    elif mode == tf.estimator.ModeKeys.EVAL:\n",
    "        input_fn = tf.contrib.timeseries.WholeDatasetInputFn(reader)\n",
    "    \n",
    "    return input_fn"
   ]
  },
  {
   "cell_type": "code",
   "execution_count": 43,
   "metadata": {},
   "outputs": [],
   "source": [
    "embed_list = list(embedding_categories.values())"
   ]
  },
  {
   "cell_type": "code",
   "execution_count": 44,
   "metadata": {},
   "outputs": [
    {
     "name": "stderr",
     "output_type": "stream",
     "text": [
      "/home/wbaik/.conda/envs/tf/lib/python3.6/site-packages/tensorflow/contrib/timeseries/examples/lstm.py:34: UserWarning: \n",
      "This call to matplotlib.use() has no effect because the backend has already\n",
      "been chosen; matplotlib.use() must be called *before* pylab, matplotlib.pyplot,\n",
      "or matplotlib.backends is imported for the first time.\n",
      "\n",
      "The backend was *originally* set to 'module://ipykernel.pylab.backend_inline' by the following code:\n",
      "  File \"/home/wbaik/.conda/envs/tf/lib/python3.6/runpy.py\", line 193, in _run_module_as_main\n",
      "    \"__main__\", mod_spec)\n",
      "  File \"/home/wbaik/.conda/envs/tf/lib/python3.6/runpy.py\", line 85, in _run_code\n",
      "    exec(code, run_globals)\n",
      "  File \"/home/wbaik/.conda/envs/tf/lib/python3.6/site-packages/ipykernel/__main__.py\", line 3, in <module>\n",
      "    app.launch_new_instance()\n",
      "  File \"/home/wbaik/.conda/envs/tf/lib/python3.6/site-packages/traitlets/config/application.py\", line 658, in launch_instance\n",
      "    app.start()\n",
      "  File \"/home/wbaik/.conda/envs/tf/lib/python3.6/site-packages/ipykernel/kernelapp.py\", line 486, in start\n",
      "    self.io_loop.start()\n",
      "  File \"/home/wbaik/.conda/envs/tf/lib/python3.6/site-packages/tornado/platform/asyncio.py\", line 127, in start\n",
      "    self.asyncio_loop.run_forever()\n",
      "  File \"/home/wbaik/.conda/envs/tf/lib/python3.6/asyncio/base_events.py\", line 422, in run_forever\n",
      "    self._run_once()\n",
      "  File \"/home/wbaik/.conda/envs/tf/lib/python3.6/asyncio/base_events.py\", line 1434, in _run_once\n",
      "    handle._run()\n",
      "  File \"/home/wbaik/.conda/envs/tf/lib/python3.6/asyncio/events.py\", line 145, in _run\n",
      "    self._callback(*self._args)\n",
      "  File \"/home/wbaik/.conda/envs/tf/lib/python3.6/site-packages/tornado/ioloop.py\", line 759, in _run_callback\n",
      "    ret = callback()\n",
      "  File \"/home/wbaik/.conda/envs/tf/lib/python3.6/site-packages/tornado/stack_context.py\", line 276, in null_wrapper\n",
      "    return fn(*args, **kwargs)\n",
      "  File \"/home/wbaik/.conda/envs/tf/lib/python3.6/site-packages/zmq/eventloop/zmqstream.py\", line 536, in <lambda>\n",
      "    self.io_loop.add_callback(lambda : self._handle_events(self.socket, 0))\n",
      "  File \"/home/wbaik/.conda/envs/tf/lib/python3.6/site-packages/zmq/eventloop/zmqstream.py\", line 450, in _handle_events\n",
      "    self._handle_recv()\n",
      "  File \"/home/wbaik/.conda/envs/tf/lib/python3.6/site-packages/zmq/eventloop/zmqstream.py\", line 480, in _handle_recv\n",
      "    self._run_callback(callback, msg)\n",
      "  File \"/home/wbaik/.conda/envs/tf/lib/python3.6/site-packages/zmq/eventloop/zmqstream.py\", line 432, in _run_callback\n",
      "    callback(*args, **kwargs)\n",
      "  File \"/home/wbaik/.conda/envs/tf/lib/python3.6/site-packages/tornado/stack_context.py\", line 276, in null_wrapper\n",
      "    return fn(*args, **kwargs)\n",
      "  File \"/home/wbaik/.conda/envs/tf/lib/python3.6/site-packages/ipykernel/kernelbase.py\", line 283, in dispatcher\n",
      "    return self.dispatch_shell(stream, msg)\n",
      "  File \"/home/wbaik/.conda/envs/tf/lib/python3.6/site-packages/ipykernel/kernelbase.py\", line 233, in dispatch_shell\n",
      "    handler(stream, idents, msg)\n",
      "  File \"/home/wbaik/.conda/envs/tf/lib/python3.6/site-packages/ipykernel/kernelbase.py\", line 399, in execute_request\n",
      "    user_expressions, allow_stdin)\n",
      "  File \"/home/wbaik/.conda/envs/tf/lib/python3.6/site-packages/ipykernel/ipkernel.py\", line 208, in do_execute\n",
      "    res = shell.run_cell(code, store_history=store_history, silent=silent)\n",
      "  File \"/home/wbaik/.conda/envs/tf/lib/python3.6/site-packages/ipykernel/zmqshell.py\", line 537, in run_cell\n",
      "    return super(ZMQInteractiveShell, self).run_cell(*args, **kwargs)\n",
      "  File \"/home/wbaik/.conda/envs/tf/lib/python3.6/site-packages/IPython/core/interactiveshell.py\", line 2666, in run_cell\n",
      "    self.events.trigger('post_run_cell', result)\n",
      "  File \"/home/wbaik/.conda/envs/tf/lib/python3.6/site-packages/IPython/core/events.py\", line 88, in trigger\n",
      "    func(*args, **kwargs)\n",
      "  File \"/home/wbaik/.conda/envs/tf/lib/python3.6/site-packages/ipykernel/pylab/backend_inline.py\", line 160, in configure_once\n",
      "    activate_matplotlib(backend)\n",
      "  File \"/home/wbaik/.conda/envs/tf/lib/python3.6/site-packages/IPython/core/pylabtools.py\", line 311, in activate_matplotlib\n",
      "    matplotlib.pyplot.switch_backend(backend)\n",
      "  File \"/home/wbaik/.conda/envs/tf/lib/python3.6/site-packages/matplotlib/pyplot.py\", line 231, in switch_backend\n",
      "    matplotlib.use(newbackend, warn=False, force=True)\n",
      "  File \"/home/wbaik/.conda/envs/tf/lib/python3.6/site-packages/matplotlib/__init__.py\", line 1410, in use\n",
      "    reload(sys.modules['matplotlib.backends'])\n",
      "  File \"/home/wbaik/.conda/envs/tf/lib/python3.6/importlib/__init__.py\", line 166, in reload\n",
      "    _bootstrap._exec(spec, module)\n",
      "  File \"/home/wbaik/.conda/envs/tf/lib/python3.6/site-packages/matplotlib/backends/__init__.py\", line 16, in <module>\n",
      "    line for line in traceback.format_stack()\n",
      "\n",
      "\n",
      "  matplotlib.use(\"TkAgg\")  # Need Tk for interactive plots.\n"
     ]
    }
   ],
   "source": [
    "from tensorflow.contrib.timeseries.python.timeseries import estimators as ts_estimators\n",
    "from tensorflow.contrib.timeseries.examples.lstm import _LSTMModel"
   ]
  },
  {
   "cell_type": "code",
   "execution_count": 45,
   "metadata": {},
   "outputs": [],
   "source": [
    "def create_lstm_estimator(run_config, hparams):\n",
    "    estimator= ts_estimators.TimeSeriesRegressor(\n",
    "        model=_LSTMModel(num_units=hparams.num_units, \n",
    "                         num_features=hparams.num_features, \n",
    "                         exogenous_feature_columns=hparams.exogenous_feature_columns), \n",
    "        optimizer = tf.train.AdagradOptimizer(learning_rate=hparams.learning_rate),\n",
    "        config=run_config,)\n",
    "    return estimator"
   ]
  },
  {
   "cell_type": "code",
   "execution_count": 46,
   "metadata": {},
   "outputs": [],
   "source": [
    "def create_estimator(run_config, hparams):\n",
    "\n",
    "    estimator = ts.ARRegressor(\n",
    "        periodicities= hparams.periodicities, \n",
    "        input_window_size= hparams.input_window_size, \n",
    "        output_window_size= hparams.output_window_size,\n",
    "        num_features=len(VALUE_FEATURE_NAMES+CAT_FEATURE_NAMES),\n",
    "        exogenous_feature_columns=embed_list,\n",
    "        loss=hparams.loss,\n",
    "        hidden_layer_sizes = hparams.hidden_units,\n",
    "        optimizer = tf.train.AdagradOptimizer(learning_rate=hparams.learning_rate),\n",
    "        config=run_config\n",
    "    )\n",
    "    \n",
    "    print(\"\")\n",
    "    print(\"Estimator Type: {}\".format(type(estimator)))\n",
    "    print(\"\")\n",
    "\n",
    "    return estimator"
   ]
  },
  {
   "cell_type": "code",
   "execution_count": 47,
   "metadata": {},
   "outputs": [],
   "source": [
    "hparams  = tf.contrib.training.HParams(\n",
    "    num_units=64,\n",
    "    num_features=len(VALUE_FEATURE_NAMES+CAT_FEATURE_NAMES),\n",
    "    exogenous_feature_columns=embed_list,\n",
    "    \n",
    "    training_steps = 10000,\n",
    "    periodicities = [10],\n",
    "    input_window_size = 32,\n",
    "    output_window_size=5,\n",
    "    batch_size = 16,\n",
    "    loss = tf.contrib.timeseries.ARModel.NORMAL_LIKELIHOOD_LOSS, # NORMAL_LIKELIHOOD_LOSS | SQUARED_LOSS\n",
    "    hidden_units = [32,32,16],\n",
    "    learning_rate = 1e-3,\n",
    ")"
   ]
  },
  {
   "cell_type": "code",
   "execution_count": 48,
   "metadata": {},
   "outputs": [
    {
     "name": "stdout",
     "output_type": "stream",
     "text": [
      "Model directory: trained_models/ts-model-03\n",
      "Hyper-parameters: [('batch_size', 16), ('exogenous_feature_columns', [_EmbeddingColumn(categorical_column=_VocabularyListCategoricalColumn(key='weekday', vocabulary_list=(0, 1, 2, 3, 4), dtype=tf.int64, default_value=-1, num_oov_buckets=0), dimension=2, combiner='mean', layer_creator=<function embedding_column.<locals>._creator at 0x7fcae2f861e0>, ckpt_to_load_from=None, tensor_name_in_ckpt=None, max_norm=None, trainable=True), _EmbeddingColumn(categorical_column=_VocabularyListCategoricalColumn(key='month', vocabulary_list=(10, 11), dtype=tf.int64, default_value=-1, num_oov_buckets=0), dimension=2, combiner='mean', layer_creator=<function embedding_column.<locals>._creator at 0x7fcae2f86268>, ckpt_to_load_from=None, tensor_name_in_ckpt=None, max_norm=None, trainable=True), _EmbeddingColumn(categorical_column=_VocabularyListCategoricalColumn(key='hour', vocabulary_list=(9, 10, 11, 12, 13, 14, 15), dtype=tf.int64, default_value=-1, num_oov_buckets=0), dimension=2, combiner='mean', layer_creator=<function embedding_column.<locals>._creator at 0x7fcae2f862f0>, ckpt_to_load_from=None, tensor_name_in_ckpt=None, max_norm=None, trainable=True)]), ('hidden_units', [32, 32, 16]), ('input_window_size', 32), ('learning_rate', 0.001), ('loss', 'normal_likelihood_loss'), ('num_features', 28), ('num_units', 64), ('output_window_size', 5), ('periodicities', [10]), ('training_steps', 10000)]\n",
      "\n",
      "Dataset Size: 8477\n",
      "\n"
     ]
    }
   ],
   "source": [
    "CHECKPOINT_STEPS=1000\n",
    "MODEL_NAME = 'ts-model-03'\n",
    "\n",
    "model_dir = 'trained_models/{}'.format(MODEL_NAME)\n",
    "\n",
    "run_config = tf.estimator.RunConfig().replace(\n",
    "    save_checkpoints_steps=CHECKPOINT_STEPS,\n",
    "    tf_random_seed=19830610,\n",
    "    model_dir=model_dir,\n",
    ")\n",
    "                                             \n",
    "print(\"Model directory: {}\".format(run_config.model_dir))\n",
    "print(\"Hyper-parameters: {}\".format(hparams))\n",
    "print(\"\")\n",
    "\n",
    "train_input_fn = generate_input_fn(\n",
    "    dataframe=first_df,\n",
    "    mode = tf.estimator.ModeKeys.TRAIN,\n",
    "    batch_size=hparams.batch_size,\n",
    "    windows_size = hparams.input_window_size + hparams.output_window_size\n",
    ")"
   ]
  },
  {
   "cell_type": "code",
   "execution_count": 49,
   "metadata": {},
   "outputs": [
    {
     "name": "stdout",
     "output_type": "stream",
     "text": [
      "INFO:tensorflow:Using config: {'_model_dir': 'trained_models/ts-model-03', '_tf_random_seed': 19830610, '_save_summary_steps': 100, '_save_checkpoints_steps': 1000, '_save_checkpoints_secs': None, '_session_config': None, '_keep_checkpoint_max': 5, '_keep_checkpoint_every_n_hours': 10000, '_log_step_count_steps': 100, '_train_distribute': None, '_device_fn': None, '_service': None, '_cluster_spec': <tensorflow.python.training.server_lib.ClusterSpec object at 0x7fcae2f4b358>, '_task_type': 'worker', '_task_id': 0, '_global_id_in_cluster': 0, '_master': '', '_evaluation_master': '', '_is_chief': True, '_num_ps_replicas': 0, '_num_worker_replicas': 1}\n"
     ]
    }
   ],
   "source": [
    "# estimator = create_estimator(run_config, hparams)\n",
    "estimator = create_lstm_estimator(run_config, hparams)"
   ]
  },
  {
   "cell_type": "code",
   "execution_count": 51,
   "metadata": {},
   "outputs": [
    {
     "name": "stdout",
     "output_type": "stream",
     "text": [
      "INFO:tensorflow:Using config: {'_model_dir': 'trained_models/ts-model-03', '_tf_random_seed': 19830610, '_save_summary_steps': 100, '_save_checkpoints_steps': 1000, '_save_checkpoints_secs': None, '_session_config': None, '_keep_checkpoint_max': 5, '_keep_checkpoint_every_n_hours': 10000, '_log_step_count_steps': 100, '_train_distribute': None, '_device_fn': None, '_service': None, '_cluster_spec': <tensorflow.python.training.server_lib.ClusterSpec object at 0x7fcae2f4b358>, '_task_type': 'worker', '_task_id': 0, '_global_id_in_cluster': 0, '_master': '', '_evaluation_master': '', '_is_chief': True, '_num_ps_replicas': 0, '_num_worker_replicas': 1}\n",
      "\n",
      "Estimator Type: <class 'tensorflow.contrib.timeseries.python.timeseries.estimators.ARRegressor'>\n",
      "\n"
     ]
    }
   ],
   "source": [
    "estimator = create_estimator(run_config, hparams)"
   ]
  },
  {
   "cell_type": "code",
   "execution_count": 52,
   "metadata": {
    "scrolled": true
   },
   "outputs": [
    {
     "name": "stdout",
     "output_type": "stream",
     "text": [
      "Estimator training started at 13:04:01\n",
      ".......................................\n",
      "INFO:tensorflow:Calling model_fn.\n",
      "INFO:tensorflow:Done calling model_fn.\n",
      "INFO:tensorflow:Create CheckpointSaverHook.\n",
      "INFO:tensorflow:Graph was finalized.\n",
      "INFO:tensorflow:Restoring parameters from trained_models/ts-model-03/model.ckpt-33000\n",
      "INFO:tensorflow:Running local_init_op.\n",
      "INFO:tensorflow:Done running local_init_op.\n",
      "INFO:tensorflow:Saving checkpoints for 33000 into trained_models/ts-model-03/model.ckpt.\n",
      "INFO:tensorflow:loss = 1.5842904, step = 33000\n",
      "INFO:tensorflow:global_step/sec: 74.9692\n",
      "INFO:tensorflow:loss = 1.353584, step = 33100 (1.341 sec)\n",
      "INFO:tensorflow:global_step/sec: 72.6507\n",
      "INFO:tensorflow:loss = 1.3577908, step = 33200 (1.372 sec)\n",
      "INFO:tensorflow:global_step/sec: 58.3016\n",
      "INFO:tensorflow:loss = 1.4863489, step = 33300 (1.723 sec)\n",
      "INFO:tensorflow:global_step/sec: 113.864\n",
      "INFO:tensorflow:loss = 1.4256967, step = 33400 (0.869 sec)\n",
      "INFO:tensorflow:global_step/sec: 104.051\n",
      "INFO:tensorflow:loss = 1.5670117, step = 33500 (0.971 sec)\n",
      "INFO:tensorflow:global_step/sec: 112.816\n",
      "INFO:tensorflow:loss = 1.4578815, step = 33600 (0.876 sec)\n",
      "INFO:tensorflow:global_step/sec: 107.654\n",
      "INFO:tensorflow:loss = 1.3028606, step = 33700 (0.935 sec)\n",
      "INFO:tensorflow:global_step/sec: 114.193\n",
      "INFO:tensorflow:loss = 1.5442605, step = 33800 (0.871 sec)\n",
      "INFO:tensorflow:global_step/sec: 109.78\n",
      "INFO:tensorflow:loss = 1.4576327, step = 33900 (0.922 sec)\n",
      "INFO:tensorflow:Saving checkpoints for 34000 into trained_models/ts-model-03/model.ckpt.\n",
      "INFO:tensorflow:global_step/sec: 97.8693\n",
      "INFO:tensorflow:loss = 1.5207525, step = 34000 (1.009 sec)\n",
      "INFO:tensorflow:global_step/sec: 120.449\n",
      "INFO:tensorflow:loss = 1.393615, step = 34100 (0.833 sec)\n",
      "INFO:tensorflow:global_step/sec: 144.482\n",
      "INFO:tensorflow:loss = 1.4250312, step = 34200 (0.698 sec)\n",
      "INFO:tensorflow:global_step/sec: 138.785\n",
      "INFO:tensorflow:loss = 1.6763595, step = 34300 (0.713 sec)\n",
      "INFO:tensorflow:global_step/sec: 137.988\n",
      "INFO:tensorflow:loss = 1.2969396, step = 34400 (0.725 sec)\n",
      "INFO:tensorflow:global_step/sec: 143.463\n",
      "INFO:tensorflow:loss = 1.3765717, step = 34500 (0.696 sec)\n",
      "INFO:tensorflow:global_step/sec: 135.146\n",
      "INFO:tensorflow:loss = 1.403474, step = 34600 (0.739 sec)\n",
      "INFO:tensorflow:global_step/sec: 144.629\n",
      "INFO:tensorflow:loss = 1.3549913, step = 34700 (0.692 sec)\n",
      "INFO:tensorflow:global_step/sec: 143.564\n",
      "INFO:tensorflow:loss = 1.4128336, step = 34800 (0.696 sec)\n",
      "INFO:tensorflow:global_step/sec: 139.038\n",
      "INFO:tensorflow:loss = 1.3749889, step = 34900 (0.719 sec)\n",
      "INFO:tensorflow:Saving checkpoints for 35000 into trained_models/ts-model-03/model.ckpt.\n",
      "INFO:tensorflow:global_step/sec: 122.17\n",
      "INFO:tensorflow:loss = 1.3430066, step = 35000 (0.819 sec)\n",
      "INFO:tensorflow:global_step/sec: 139.565\n",
      "INFO:tensorflow:loss = 1.3971348, step = 35100 (0.717 sec)\n",
      "INFO:tensorflow:global_step/sec: 140.976\n",
      "INFO:tensorflow:loss = 1.3357522, step = 35200 (0.708 sec)\n",
      "INFO:tensorflow:global_step/sec: 126.408\n",
      "INFO:tensorflow:loss = 1.4034011, step = 35300 (0.791 sec)\n",
      "INFO:tensorflow:global_step/sec: 136.562\n",
      "INFO:tensorflow:loss = 1.4538316, step = 35400 (0.733 sec)\n",
      "INFO:tensorflow:global_step/sec: 130.035\n",
      "INFO:tensorflow:loss = 1.4429302, step = 35500 (0.769 sec)\n",
      "INFO:tensorflow:global_step/sec: 134.873\n",
      "INFO:tensorflow:loss = 1.4979593, step = 35600 (0.742 sec)\n",
      "INFO:tensorflow:global_step/sec: 136.095\n",
      "INFO:tensorflow:loss = 1.3729578, step = 35700 (0.734 sec)\n",
      "INFO:tensorflow:global_step/sec: 131.649\n",
      "INFO:tensorflow:loss = 1.3426572, step = 35800 (0.760 sec)\n",
      "INFO:tensorflow:global_step/sec: 133.315\n",
      "INFO:tensorflow:loss = 1.3663142, step = 35900 (0.751 sec)\n",
      "INFO:tensorflow:Saving checkpoints for 36000 into trained_models/ts-model-03/model.ckpt.\n",
      "INFO:tensorflow:global_step/sec: 119.362\n",
      "INFO:tensorflow:loss = 1.340802, step = 36000 (0.839 sec)\n",
      "INFO:tensorflow:global_step/sec: 135.76\n",
      "INFO:tensorflow:loss = 1.4007843, step = 36100 (0.736 sec)\n",
      "INFO:tensorflow:global_step/sec: 132.094\n",
      "INFO:tensorflow:loss = 1.3920373, step = 36200 (0.757 sec)\n",
      "INFO:tensorflow:global_step/sec: 134.777\n",
      "INFO:tensorflow:loss = 1.4946496, step = 36300 (0.741 sec)\n",
      "INFO:tensorflow:global_step/sec: 133.939\n",
      "INFO:tensorflow:loss = 1.4245275, step = 36400 (0.747 sec)\n",
      "INFO:tensorflow:global_step/sec: 127.22\n",
      "INFO:tensorflow:loss = 1.3431019, step = 36500 (0.785 sec)\n",
      "INFO:tensorflow:global_step/sec: 131.481\n",
      "INFO:tensorflow:loss = 1.5602486, step = 36600 (0.761 sec)\n",
      "INFO:tensorflow:global_step/sec: 116.05\n",
      "INFO:tensorflow:loss = 1.4990653, step = 36700 (0.862 sec)\n",
      "INFO:tensorflow:global_step/sec: 122.734\n",
      "INFO:tensorflow:loss = 1.3439429, step = 36800 (0.815 sec)\n",
      "INFO:tensorflow:global_step/sec: 128.742\n",
      "INFO:tensorflow:loss = 1.4447677, step = 36900 (0.777 sec)\n",
      "INFO:tensorflow:Saving checkpoints for 37000 into trained_models/ts-model-03/model.ckpt.\n",
      "INFO:tensorflow:global_step/sec: 116.822\n",
      "INFO:tensorflow:loss = 1.4424165, step = 37000 (0.855 sec)\n",
      "INFO:tensorflow:global_step/sec: 136.239\n",
      "INFO:tensorflow:loss = 1.3581135, step = 37100 (0.735 sec)\n",
      "INFO:tensorflow:global_step/sec: 129.088\n",
      "INFO:tensorflow:loss = 1.4311413, step = 37200 (0.775 sec)\n",
      "INFO:tensorflow:global_step/sec: 137.258\n",
      "INFO:tensorflow:loss = 1.3579843, step = 37300 (0.727 sec)\n",
      "INFO:tensorflow:global_step/sec: 128.081\n",
      "INFO:tensorflow:loss = 1.4060504, step = 37400 (0.781 sec)\n",
      "INFO:tensorflow:global_step/sec: 130.351\n",
      "INFO:tensorflow:loss = 1.5016865, step = 37500 (0.766 sec)\n",
      "INFO:tensorflow:global_step/sec: 133.84\n",
      "INFO:tensorflow:loss = 1.4537994, step = 37600 (0.747 sec)\n",
      "INFO:tensorflow:global_step/sec: 128.947\n",
      "INFO:tensorflow:loss = 1.6117218, step = 37700 (0.775 sec)\n",
      "INFO:tensorflow:global_step/sec: 129.154\n",
      "INFO:tensorflow:loss = 1.4826334, step = 37800 (0.774 sec)\n",
      "INFO:tensorflow:global_step/sec: 127.236\n",
      "INFO:tensorflow:loss = 1.3731955, step = 37900 (0.786 sec)\n",
      "INFO:tensorflow:Saving checkpoints for 38000 into trained_models/ts-model-03/model.ckpt.\n",
      "INFO:tensorflow:global_step/sec: 114.326\n",
      "INFO:tensorflow:loss = 1.3862127, step = 38000 (0.874 sec)\n",
      "INFO:tensorflow:global_step/sec: 129.734\n",
      "INFO:tensorflow:loss = 1.3260723, step = 38100 (0.771 sec)\n",
      "INFO:tensorflow:global_step/sec: 133.013\n",
      "INFO:tensorflow:loss = 1.3690747, step = 38200 (0.751 sec)\n",
      "INFO:tensorflow:global_step/sec: 130.624\n",
      "INFO:tensorflow:loss = 1.3958505, step = 38300 (0.766 sec)\n",
      "INFO:tensorflow:global_step/sec: 130.666\n",
      "INFO:tensorflow:loss = 1.3468697, step = 38400 (0.766 sec)\n",
      "INFO:tensorflow:global_step/sec: 126.479\n",
      "INFO:tensorflow:loss = 1.4370325, step = 38500 (0.791 sec)\n",
      "INFO:tensorflow:global_step/sec: 128.096\n",
      "INFO:tensorflow:loss = 1.4087127, step = 38600 (0.780 sec)\n",
      "INFO:tensorflow:global_step/sec: 104.856\n",
      "INFO:tensorflow:loss = 1.3434598, step = 38700 (0.953 sec)\n",
      "INFO:tensorflow:global_step/sec: 83.4165\n",
      "INFO:tensorflow:loss = 1.3448175, step = 38800 (1.206 sec)\n",
      "INFO:tensorflow:global_step/sec: 86.4306\n",
      "INFO:tensorflow:loss = 1.3475745, step = 38900 (1.153 sec)\n",
      "INFO:tensorflow:Saving checkpoints for 39000 into trained_models/ts-model-03/model.ckpt.\n",
      "INFO:tensorflow:global_step/sec: 76.3631\n",
      "INFO:tensorflow:loss = 1.4383845, step = 39000 (1.308 sec)\n",
      "INFO:tensorflow:global_step/sec: 105.293\n",
      "INFO:tensorflow:loss = 1.3467584, step = 39100 (0.948 sec)\n",
      "INFO:tensorflow:global_step/sec: 130.611\n",
      "INFO:tensorflow:loss = 1.2885334, step = 39200 (0.766 sec)\n",
      "INFO:tensorflow:global_step/sec: 115.388\n",
      "INFO:tensorflow:loss = 1.3415012, step = 39300 (0.867 sec)\n",
      "INFO:tensorflow:global_step/sec: 121.334\n",
      "INFO:tensorflow:loss = 1.3210765, step = 39400 (0.824 sec)\n",
      "INFO:tensorflow:global_step/sec: 109.957\n",
      "INFO:tensorflow:loss = 1.306192, step = 39500 (0.909 sec)\n",
      "INFO:tensorflow:global_step/sec: 125.135\n",
      "INFO:tensorflow:loss = 1.6203483, step = 39600 (0.804 sec)\n",
      "INFO:tensorflow:global_step/sec: 115.093\n",
      "INFO:tensorflow:loss = 1.3485789, step = 39700 (0.867 sec)\n",
      "INFO:tensorflow:global_step/sec: 96.6266\n",
      "INFO:tensorflow:loss = 1.3258306, step = 39800 (1.034 sec)\n",
      "INFO:tensorflow:global_step/sec: 72.9596\n",
      "INFO:tensorflow:loss = 1.2331209, step = 39900 (1.371 sec)\n",
      "INFO:tensorflow:Saving checkpoints for 40000 into trained_models/ts-model-03/model.ckpt.\n",
      "INFO:tensorflow:global_step/sec: 93.8211\n",
      "INFO:tensorflow:loss = 1.3677105, step = 40000 (1.064 sec)\n",
      "INFO:tensorflow:global_step/sec: 99.0904\n",
      "INFO:tensorflow:loss = 1.3820541, step = 40100 (1.014 sec)\n"
     ]
    },
    {
     "name": "stdout",
     "output_type": "stream",
     "text": [
      "INFO:tensorflow:global_step/sec: 114.449\n",
      "INFO:tensorflow:loss = 1.3346527, step = 40200 (0.869 sec)\n",
      "INFO:tensorflow:global_step/sec: 106.709\n",
      "INFO:tensorflow:loss = 1.4116672, step = 40300 (0.937 sec)\n",
      "INFO:tensorflow:global_step/sec: 106.663\n",
      "INFO:tensorflow:loss = 1.5252119, step = 40400 (0.939 sec)\n",
      "INFO:tensorflow:global_step/sec: 115.472\n",
      "INFO:tensorflow:loss = 1.3636484, step = 40500 (0.867 sec)\n",
      "INFO:tensorflow:global_step/sec: 74.5725\n",
      "INFO:tensorflow:loss = 1.3776534, step = 40600 (1.340 sec)\n",
      "INFO:tensorflow:global_step/sec: 86.8197\n",
      "INFO:tensorflow:loss = 1.3834286, step = 40700 (1.153 sec)\n",
      "INFO:tensorflow:global_step/sec: 118.616\n",
      "INFO:tensorflow:loss = 1.4601184, step = 40800 (0.843 sec)\n",
      "INFO:tensorflow:global_step/sec: 105.731\n",
      "INFO:tensorflow:loss = 1.5184054, step = 40900 (0.946 sec)\n",
      "INFO:tensorflow:Saving checkpoints for 41000 into trained_models/ts-model-03/model.ckpt.\n",
      "INFO:tensorflow:global_step/sec: 92.5164\n",
      "INFO:tensorflow:loss = 1.5145811, step = 41000 (1.080 sec)\n",
      "INFO:tensorflow:global_step/sec: 108.71\n",
      "INFO:tensorflow:loss = 1.3318427, step = 41100 (0.920 sec)\n",
      "INFO:tensorflow:global_step/sec: 118.941\n",
      "INFO:tensorflow:loss = 1.3144921, step = 41200 (0.842 sec)\n",
      "INFO:tensorflow:global_step/sec: 118.194\n",
      "INFO:tensorflow:loss = 1.2718736, step = 41300 (0.845 sec)\n",
      "INFO:tensorflow:global_step/sec: 119.362\n",
      "INFO:tensorflow:loss = 1.4586501, step = 41400 (0.838 sec)\n",
      "INFO:tensorflow:global_step/sec: 117.57\n",
      "INFO:tensorflow:loss = 1.3679545, step = 41500 (0.852 sec)\n",
      "INFO:tensorflow:global_step/sec: 122.129\n",
      "INFO:tensorflow:loss = 1.3892857, step = 41600 (0.818 sec)\n",
      "INFO:tensorflow:global_step/sec: 124.395\n",
      "INFO:tensorflow:loss = 1.562494, step = 41700 (0.804 sec)\n",
      "INFO:tensorflow:global_step/sec: 124.017\n",
      "INFO:tensorflow:loss = 1.4497951, step = 41800 (0.807 sec)\n",
      "INFO:tensorflow:global_step/sec: 121.924\n",
      "INFO:tensorflow:loss = 1.4666048, step = 41900 (0.828 sec)\n",
      "INFO:tensorflow:Saving checkpoints for 42000 into trained_models/ts-model-03/model.ckpt.\n",
      "INFO:tensorflow:global_step/sec: 89.4736\n",
      "INFO:tensorflow:loss = 1.3044069, step = 42000 (1.110 sec)\n",
      "INFO:tensorflow:global_step/sec: 103.714\n",
      "INFO:tensorflow:loss = 1.3844345, step = 42100 (0.967 sec)\n",
      "INFO:tensorflow:global_step/sec: 104.829\n",
      "INFO:tensorflow:loss = 1.4503921, step = 42200 (0.952 sec)\n",
      "INFO:tensorflow:global_step/sec: 111.064\n",
      "INFO:tensorflow:loss = 1.3590385, step = 42300 (0.900 sec)\n",
      "INFO:tensorflow:global_step/sec: 98.5427\n",
      "INFO:tensorflow:loss = 1.4514658, step = 42400 (1.020 sec)\n",
      "INFO:tensorflow:global_step/sec: 115.567\n",
      "INFO:tensorflow:loss = 1.5952953, step = 42500 (0.862 sec)\n",
      "INFO:tensorflow:global_step/sec: 119.539\n",
      "INFO:tensorflow:loss = 1.4032782, step = 42600 (0.836 sec)\n",
      "INFO:tensorflow:global_step/sec: 123.887\n",
      "INFO:tensorflow:loss = 1.299997, step = 42700 (0.808 sec)\n",
      "INFO:tensorflow:global_step/sec: 110.474\n",
      "INFO:tensorflow:loss = 1.3659507, step = 42800 (0.904 sec)\n",
      "INFO:tensorflow:global_step/sec: 119.124\n",
      "INFO:tensorflow:loss = 1.3350359, step = 42900 (0.840 sec)\n",
      "INFO:tensorflow:Saving checkpoints for 43000 into trained_models/ts-model-03/model.ckpt.\n",
      "INFO:tensorflow:Loss for final step: 1.8841332.\n",
      ".......................................\n",
      "Estimator training finished at 13:05:33\n",
      "\n",
      "Estimator training elapsed time: 92.068737 seconds\n"
     ]
    }
   ],
   "source": [
    "tf.logging.set_verbosity(tf.logging.INFO)\n",
    "\n",
    "time_start = datetime.utcnow() \n",
    "print(\"Estimator training started at {}\".format(time_start.strftime(\"%H:%M:%S\")))\n",
    "print(\".......................................\")\n",
    "\n",
    "estimator.train(input_fn=train_input_fn, steps=hparams.training_steps)\n",
    "\n",
    "time_end = datetime.utcnow() \n",
    "print(\".......................................\")\n",
    "print(\"Estimator training finished at {}\".format(time_end.strftime(\"%H:%M:%S\")))\n",
    "print(\"\")\n",
    "time_elapsed = time_end - time_start\n",
    "print(\"Estimator training elapsed time: {} seconds\".format(time_elapsed.total_seconds()))"
   ]
  },
  {
   "cell_type": "code",
   "execution_count": 266,
   "metadata": {},
   "outputs": [
    {
     "name": "stdout",
     "output_type": "stream",
     "text": [
      "Estimator training started at 06:48:33\n",
      ".......................................\n",
      "INFO:tensorflow:Calling model_fn.\n",
      "INFO:tensorflow:Done calling model_fn.\n",
      "INFO:tensorflow:Create CheckpointSaverHook.\n",
      "INFO:tensorflow:Graph was finalized.\n",
      "INFO:tensorflow:Restoring parameters from trained_models/ts-model-03/model.ckpt-33000\n",
      "INFO:tensorflow:Running local_init_op.\n",
      "INFO:tensorflow:Done running local_init_op.\n",
      "INFO:tensorflow:Saving checkpoints for 33000 into trained_models/ts-model-03/model.ckpt.\n",
      "INFO:tensorflow:loss = 1.279439, step = 33000\n",
      "INFO:tensorflow:global_step/sec: 83.9716\n",
      "INFO:tensorflow:loss = 1.3715069, step = 33100 (1.192 sec)\n",
      "INFO:tensorflow:global_step/sec: 89.7549\n",
      "INFO:tensorflow:loss = 1.4180506, step = 33200 (1.115 sec)\n",
      "INFO:tensorflow:global_step/sec: 89.7818\n",
      "INFO:tensorflow:loss = 1.3961055, step = 33300 (1.125 sec)\n",
      "INFO:tensorflow:global_step/sec: 74.4555\n",
      "INFO:tensorflow:loss = 1.4792117, step = 33400 (1.332 sec)\n"
     ]
    },
    {
     "ename": "KeyboardInterrupt",
     "evalue": "",
     "output_type": "error",
     "traceback": [
      "\u001b[0;31m---------------------------------------------------------------------------\u001b[0m",
      "\u001b[0;31mKeyboardInterrupt\u001b[0m                         Traceback (most recent call last)",
      "\u001b[0;32m<ipython-input-266-51dbc36a9a2c>\u001b[0m in \u001b[0;36m<module>\u001b[0;34m()\u001b[0m\n\u001b[1;32m      5\u001b[0m \u001b[0mprint\u001b[0m\u001b[0;34m(\u001b[0m\u001b[0;34m\".......................................\"\u001b[0m\u001b[0;34m)\u001b[0m\u001b[0;34m\u001b[0m\u001b[0m\n\u001b[1;32m      6\u001b[0m \u001b[0;34m\u001b[0m\u001b[0m\n\u001b[0;32m----> 7\u001b[0;31m \u001b[0mestimator\u001b[0m\u001b[0;34m.\u001b[0m\u001b[0mtrain\u001b[0m\u001b[0;34m(\u001b[0m\u001b[0minput_fn\u001b[0m\u001b[0;34m=\u001b[0m\u001b[0mtrain_input_fn\u001b[0m\u001b[0;34m,\u001b[0m \u001b[0msteps\u001b[0m\u001b[0;34m=\u001b[0m\u001b[0mhparams\u001b[0m\u001b[0;34m.\u001b[0m\u001b[0mtraining_steps\u001b[0m\u001b[0;34m)\u001b[0m\u001b[0;34m\u001b[0m\u001b[0m\n\u001b[0m\u001b[1;32m      8\u001b[0m \u001b[0;34m\u001b[0m\u001b[0m\n\u001b[1;32m      9\u001b[0m \u001b[0mtime_end\u001b[0m \u001b[0;34m=\u001b[0m \u001b[0mdatetime\u001b[0m\u001b[0;34m.\u001b[0m\u001b[0mutcnow\u001b[0m\u001b[0;34m(\u001b[0m\u001b[0;34m)\u001b[0m\u001b[0;34m\u001b[0m\u001b[0m\n",
      "\u001b[0;32m~/.conda/envs/tf/lib/python3.6/site-packages/tensorflow/python/estimator/estimator.py\u001b[0m in \u001b[0;36mtrain\u001b[0;34m(self, input_fn, hooks, steps, max_steps, saving_listeners)\u001b[0m\n\u001b[1;32m    364\u001b[0m \u001b[0;34m\u001b[0m\u001b[0m\n\u001b[1;32m    365\u001b[0m       \u001b[0msaving_listeners\u001b[0m \u001b[0;34m=\u001b[0m \u001b[0m_check_listeners_type\u001b[0m\u001b[0;34m(\u001b[0m\u001b[0msaving_listeners\u001b[0m\u001b[0;34m)\u001b[0m\u001b[0;34m\u001b[0m\u001b[0m\n\u001b[0;32m--> 366\u001b[0;31m       \u001b[0mloss\u001b[0m \u001b[0;34m=\u001b[0m \u001b[0mself\u001b[0m\u001b[0;34m.\u001b[0m\u001b[0m_train_model\u001b[0m\u001b[0;34m(\u001b[0m\u001b[0minput_fn\u001b[0m\u001b[0;34m,\u001b[0m \u001b[0mhooks\u001b[0m\u001b[0;34m,\u001b[0m \u001b[0msaving_listeners\u001b[0m\u001b[0;34m)\u001b[0m\u001b[0;34m\u001b[0m\u001b[0m\n\u001b[0m\u001b[1;32m    367\u001b[0m       \u001b[0mlogging\u001b[0m\u001b[0;34m.\u001b[0m\u001b[0minfo\u001b[0m\u001b[0;34m(\u001b[0m\u001b[0;34m'Loss for final step: %s.'\u001b[0m\u001b[0;34m,\u001b[0m \u001b[0mloss\u001b[0m\u001b[0;34m)\u001b[0m\u001b[0;34m\u001b[0m\u001b[0m\n\u001b[1;32m    368\u001b[0m       \u001b[0;32mreturn\u001b[0m \u001b[0mself\u001b[0m\u001b[0;34m\u001b[0m\u001b[0m\n",
      "\u001b[0;32m~/.conda/envs/tf/lib/python3.6/site-packages/tensorflow/python/estimator/estimator.py\u001b[0m in \u001b[0;36m_train_model\u001b[0;34m(self, input_fn, hooks, saving_listeners)\u001b[0m\n\u001b[1;32m   1117\u001b[0m       \u001b[0;32mreturn\u001b[0m \u001b[0mself\u001b[0m\u001b[0;34m.\u001b[0m\u001b[0m_train_model_distributed\u001b[0m\u001b[0;34m(\u001b[0m\u001b[0minput_fn\u001b[0m\u001b[0;34m,\u001b[0m \u001b[0mhooks\u001b[0m\u001b[0;34m,\u001b[0m \u001b[0msaving_listeners\u001b[0m\u001b[0;34m)\u001b[0m\u001b[0;34m\u001b[0m\u001b[0m\n\u001b[1;32m   1118\u001b[0m     \u001b[0;32melse\u001b[0m\u001b[0;34m:\u001b[0m\u001b[0;34m\u001b[0m\u001b[0m\n\u001b[0;32m-> 1119\u001b[0;31m       \u001b[0;32mreturn\u001b[0m \u001b[0mself\u001b[0m\u001b[0;34m.\u001b[0m\u001b[0m_train_model_default\u001b[0m\u001b[0;34m(\u001b[0m\u001b[0minput_fn\u001b[0m\u001b[0;34m,\u001b[0m \u001b[0mhooks\u001b[0m\u001b[0;34m,\u001b[0m \u001b[0msaving_listeners\u001b[0m\u001b[0;34m)\u001b[0m\u001b[0;34m\u001b[0m\u001b[0m\n\u001b[0m\u001b[1;32m   1120\u001b[0m \u001b[0;34m\u001b[0m\u001b[0m\n\u001b[1;32m   1121\u001b[0m   \u001b[0;32mdef\u001b[0m \u001b[0m_train_model_default\u001b[0m\u001b[0;34m(\u001b[0m\u001b[0mself\u001b[0m\u001b[0;34m,\u001b[0m \u001b[0minput_fn\u001b[0m\u001b[0;34m,\u001b[0m \u001b[0mhooks\u001b[0m\u001b[0;34m,\u001b[0m \u001b[0msaving_listeners\u001b[0m\u001b[0;34m)\u001b[0m\u001b[0;34m:\u001b[0m\u001b[0;34m\u001b[0m\u001b[0m\n",
      "\u001b[0;32m~/.conda/envs/tf/lib/python3.6/site-packages/tensorflow/python/estimator/estimator.py\u001b[0m in \u001b[0;36m_train_model_default\u001b[0;34m(self, input_fn, hooks, saving_listeners)\u001b[0m\n\u001b[1;32m   1133\u001b[0m       return self._train_with_estimator_spec(estimator_spec, worker_hooks,\n\u001b[1;32m   1134\u001b[0m                                              \u001b[0mhooks\u001b[0m\u001b[0;34m,\u001b[0m \u001b[0mglobal_step_tensor\u001b[0m\u001b[0;34m,\u001b[0m\u001b[0;34m\u001b[0m\u001b[0m\n\u001b[0;32m-> 1135\u001b[0;31m                                              saving_listeners)\n\u001b[0m\u001b[1;32m   1136\u001b[0m \u001b[0;34m\u001b[0m\u001b[0m\n\u001b[1;32m   1137\u001b[0m   \u001b[0;32mdef\u001b[0m \u001b[0m_train_model_distributed\u001b[0m\u001b[0;34m(\u001b[0m\u001b[0mself\u001b[0m\u001b[0;34m,\u001b[0m \u001b[0minput_fn\u001b[0m\u001b[0;34m,\u001b[0m \u001b[0mhooks\u001b[0m\u001b[0;34m,\u001b[0m \u001b[0msaving_listeners\u001b[0m\u001b[0;34m)\u001b[0m\u001b[0;34m:\u001b[0m\u001b[0;34m\u001b[0m\u001b[0m\n",
      "\u001b[0;32m~/.conda/envs/tf/lib/python3.6/site-packages/tensorflow/python/estimator/estimator.py\u001b[0m in \u001b[0;36m_train_with_estimator_spec\u001b[0;34m(self, estimator_spec, worker_hooks, hooks, global_step_tensor, saving_listeners)\u001b[0m\n\u001b[1;32m   1334\u001b[0m       \u001b[0mloss\u001b[0m \u001b[0;34m=\u001b[0m \u001b[0;32mNone\u001b[0m\u001b[0;34m\u001b[0m\u001b[0m\n\u001b[1;32m   1335\u001b[0m       \u001b[0;32mwhile\u001b[0m \u001b[0;32mnot\u001b[0m \u001b[0mmon_sess\u001b[0m\u001b[0;34m.\u001b[0m\u001b[0mshould_stop\u001b[0m\u001b[0;34m(\u001b[0m\u001b[0;34m)\u001b[0m\u001b[0;34m:\u001b[0m\u001b[0;34m\u001b[0m\u001b[0m\n\u001b[0;32m-> 1336\u001b[0;31m         \u001b[0m_\u001b[0m\u001b[0;34m,\u001b[0m \u001b[0mloss\u001b[0m \u001b[0;34m=\u001b[0m \u001b[0mmon_sess\u001b[0m\u001b[0;34m.\u001b[0m\u001b[0mrun\u001b[0m\u001b[0;34m(\u001b[0m\u001b[0;34m[\u001b[0m\u001b[0mestimator_spec\u001b[0m\u001b[0;34m.\u001b[0m\u001b[0mtrain_op\u001b[0m\u001b[0;34m,\u001b[0m \u001b[0mestimator_spec\u001b[0m\u001b[0;34m.\u001b[0m\u001b[0mloss\u001b[0m\u001b[0;34m]\u001b[0m\u001b[0;34m)\u001b[0m\u001b[0;34m\u001b[0m\u001b[0m\n\u001b[0m\u001b[1;32m   1337\u001b[0m     \u001b[0;32mreturn\u001b[0m \u001b[0mloss\u001b[0m\u001b[0;34m\u001b[0m\u001b[0m\n\u001b[1;32m   1338\u001b[0m \u001b[0;34m\u001b[0m\u001b[0m\n",
      "\u001b[0;32m~/.conda/envs/tf/lib/python3.6/site-packages/tensorflow/python/training/monitored_session.py\u001b[0m in \u001b[0;36mrun\u001b[0;34m(self, fetches, feed_dict, options, run_metadata)\u001b[0m\n\u001b[1;32m    575\u001b[0m                           \u001b[0mfeed_dict\u001b[0m\u001b[0;34m=\u001b[0m\u001b[0mfeed_dict\u001b[0m\u001b[0;34m,\u001b[0m\u001b[0;34m\u001b[0m\u001b[0m\n\u001b[1;32m    576\u001b[0m                           \u001b[0moptions\u001b[0m\u001b[0;34m=\u001b[0m\u001b[0moptions\u001b[0m\u001b[0;34m,\u001b[0m\u001b[0;34m\u001b[0m\u001b[0m\n\u001b[0;32m--> 577\u001b[0;31m                           run_metadata=run_metadata)\n\u001b[0m\u001b[1;32m    578\u001b[0m \u001b[0;34m\u001b[0m\u001b[0m\n\u001b[1;32m    579\u001b[0m   \u001b[0;32mdef\u001b[0m \u001b[0mrun_step_fn\u001b[0m\u001b[0;34m(\u001b[0m\u001b[0mself\u001b[0m\u001b[0;34m,\u001b[0m \u001b[0mstep_fn\u001b[0m\u001b[0;34m)\u001b[0m\u001b[0;34m:\u001b[0m\u001b[0;34m\u001b[0m\u001b[0m\n",
      "\u001b[0;32m~/.conda/envs/tf/lib/python3.6/site-packages/tensorflow/python/training/monitored_session.py\u001b[0m in \u001b[0;36mrun\u001b[0;34m(self, fetches, feed_dict, options, run_metadata)\u001b[0m\n\u001b[1;32m   1051\u001b[0m                               \u001b[0mfeed_dict\u001b[0m\u001b[0;34m=\u001b[0m\u001b[0mfeed_dict\u001b[0m\u001b[0;34m,\u001b[0m\u001b[0;34m\u001b[0m\u001b[0m\n\u001b[1;32m   1052\u001b[0m                               \u001b[0moptions\u001b[0m\u001b[0;34m=\u001b[0m\u001b[0moptions\u001b[0m\u001b[0;34m,\u001b[0m\u001b[0;34m\u001b[0m\u001b[0m\n\u001b[0;32m-> 1053\u001b[0;31m                               run_metadata=run_metadata)\n\u001b[0m\u001b[1;32m   1054\u001b[0m       \u001b[0;32mexcept\u001b[0m \u001b[0m_PREEMPTION_ERRORS\u001b[0m \u001b[0;32mas\u001b[0m \u001b[0me\u001b[0m\u001b[0;34m:\u001b[0m\u001b[0;34m\u001b[0m\u001b[0m\n\u001b[1;32m   1055\u001b[0m         logging.info('An error was raised. This may be due to a preemption in '\n",
      "\u001b[0;32m~/.conda/envs/tf/lib/python3.6/site-packages/tensorflow/python/training/monitored_session.py\u001b[0m in \u001b[0;36mrun\u001b[0;34m(self, *args, **kwargs)\u001b[0m\n\u001b[1;32m   1127\u001b[0m   \u001b[0;32mdef\u001b[0m \u001b[0mrun\u001b[0m\u001b[0;34m(\u001b[0m\u001b[0mself\u001b[0m\u001b[0;34m,\u001b[0m \u001b[0;34m*\u001b[0m\u001b[0margs\u001b[0m\u001b[0;34m,\u001b[0m \u001b[0;34m**\u001b[0m\u001b[0mkwargs\u001b[0m\u001b[0;34m)\u001b[0m\u001b[0;34m:\u001b[0m\u001b[0;34m\u001b[0m\u001b[0m\n\u001b[1;32m   1128\u001b[0m     \u001b[0;32mtry\u001b[0m\u001b[0;34m:\u001b[0m\u001b[0;34m\u001b[0m\u001b[0m\n\u001b[0;32m-> 1129\u001b[0;31m       \u001b[0;32mreturn\u001b[0m \u001b[0mself\u001b[0m\u001b[0;34m.\u001b[0m\u001b[0m_sess\u001b[0m\u001b[0;34m.\u001b[0m\u001b[0mrun\u001b[0m\u001b[0;34m(\u001b[0m\u001b[0;34m*\u001b[0m\u001b[0margs\u001b[0m\u001b[0;34m,\u001b[0m \u001b[0;34m**\u001b[0m\u001b[0mkwargs\u001b[0m\u001b[0;34m)\u001b[0m\u001b[0;34m\u001b[0m\u001b[0m\n\u001b[0m\u001b[1;32m   1130\u001b[0m     \u001b[0;32mexcept\u001b[0m \u001b[0m_PREEMPTION_ERRORS\u001b[0m\u001b[0;34m:\u001b[0m\u001b[0;34m\u001b[0m\u001b[0m\n\u001b[1;32m   1131\u001b[0m       \u001b[0;32mraise\u001b[0m\u001b[0;34m\u001b[0m\u001b[0m\n",
      "\u001b[0;32m~/.conda/envs/tf/lib/python3.6/site-packages/tensorflow/python/training/monitored_session.py\u001b[0m in \u001b[0;36mrun\u001b[0;34m(self, fetches, feed_dict, options, run_metadata)\u001b[0m\n\u001b[1;32m   1199\u001b[0m                                   \u001b[0mfeed_dict\u001b[0m\u001b[0;34m=\u001b[0m\u001b[0mfeed_dict\u001b[0m\u001b[0;34m,\u001b[0m\u001b[0;34m\u001b[0m\u001b[0m\n\u001b[1;32m   1200\u001b[0m                                   \u001b[0moptions\u001b[0m\u001b[0;34m=\u001b[0m\u001b[0moptions\u001b[0m\u001b[0;34m,\u001b[0m\u001b[0;34m\u001b[0m\u001b[0m\n\u001b[0;32m-> 1201\u001b[0;31m                                   run_metadata=run_metadata)\n\u001b[0m\u001b[1;32m   1202\u001b[0m \u001b[0;34m\u001b[0m\u001b[0m\n\u001b[1;32m   1203\u001b[0m     \u001b[0;32mfor\u001b[0m \u001b[0mhook\u001b[0m \u001b[0;32min\u001b[0m \u001b[0mself\u001b[0m\u001b[0;34m.\u001b[0m\u001b[0m_hooks\u001b[0m\u001b[0;34m:\u001b[0m\u001b[0;34m\u001b[0m\u001b[0m\n",
      "\u001b[0;32m~/.conda/envs/tf/lib/python3.6/site-packages/tensorflow/python/training/monitored_session.py\u001b[0m in \u001b[0;36mrun\u001b[0;34m(self, *args, **kwargs)\u001b[0m\n\u001b[1;32m    979\u001b[0m \u001b[0;34m\u001b[0m\u001b[0m\n\u001b[1;32m    980\u001b[0m   \u001b[0;32mdef\u001b[0m \u001b[0mrun\u001b[0m\u001b[0;34m(\u001b[0m\u001b[0mself\u001b[0m\u001b[0;34m,\u001b[0m \u001b[0;34m*\u001b[0m\u001b[0margs\u001b[0m\u001b[0;34m,\u001b[0m \u001b[0;34m**\u001b[0m\u001b[0mkwargs\u001b[0m\u001b[0;34m)\u001b[0m\u001b[0;34m:\u001b[0m\u001b[0;34m\u001b[0m\u001b[0m\n\u001b[0;32m--> 981\u001b[0;31m     \u001b[0;32mreturn\u001b[0m \u001b[0mself\u001b[0m\u001b[0;34m.\u001b[0m\u001b[0m_sess\u001b[0m\u001b[0;34m.\u001b[0m\u001b[0mrun\u001b[0m\u001b[0;34m(\u001b[0m\u001b[0;34m*\u001b[0m\u001b[0margs\u001b[0m\u001b[0;34m,\u001b[0m \u001b[0;34m**\u001b[0m\u001b[0mkwargs\u001b[0m\u001b[0;34m)\u001b[0m\u001b[0;34m\u001b[0m\u001b[0m\n\u001b[0m\u001b[1;32m    982\u001b[0m \u001b[0;34m\u001b[0m\u001b[0m\n\u001b[1;32m    983\u001b[0m   \u001b[0;32mdef\u001b[0m \u001b[0mrun_step_fn\u001b[0m\u001b[0;34m(\u001b[0m\u001b[0mself\u001b[0m\u001b[0;34m,\u001b[0m \u001b[0mstep_fn\u001b[0m\u001b[0;34m,\u001b[0m \u001b[0mraw_session\u001b[0m\u001b[0;34m,\u001b[0m \u001b[0mrun_with_hooks\u001b[0m\u001b[0;34m)\u001b[0m\u001b[0;34m:\u001b[0m\u001b[0;34m\u001b[0m\u001b[0m\n",
      "\u001b[0;32m~/.conda/envs/tf/lib/python3.6/site-packages/tensorflow/python/client/session.py\u001b[0m in \u001b[0;36mrun\u001b[0;34m(self, fetches, feed_dict, options, run_metadata)\u001b[0m\n\u001b[1;32m    898\u001b[0m     \u001b[0;32mtry\u001b[0m\u001b[0;34m:\u001b[0m\u001b[0;34m\u001b[0m\u001b[0m\n\u001b[1;32m    899\u001b[0m       result = self._run(None, fetches, feed_dict, options_ptr,\n\u001b[0;32m--> 900\u001b[0;31m                          run_metadata_ptr)\n\u001b[0m\u001b[1;32m    901\u001b[0m       \u001b[0;32mif\u001b[0m \u001b[0mrun_metadata\u001b[0m\u001b[0;34m:\u001b[0m\u001b[0;34m\u001b[0m\u001b[0m\n\u001b[1;32m    902\u001b[0m         \u001b[0mproto_data\u001b[0m \u001b[0;34m=\u001b[0m \u001b[0mtf_session\u001b[0m\u001b[0;34m.\u001b[0m\u001b[0mTF_GetBuffer\u001b[0m\u001b[0;34m(\u001b[0m\u001b[0mrun_metadata_ptr\u001b[0m\u001b[0;34m)\u001b[0m\u001b[0;34m\u001b[0m\u001b[0m\n",
      "\u001b[0;32m~/.conda/envs/tf/lib/python3.6/site-packages/tensorflow/python/client/session.py\u001b[0m in \u001b[0;36m_run\u001b[0;34m(self, handle, fetches, feed_dict, options, run_metadata)\u001b[0m\n\u001b[1;32m   1133\u001b[0m     \u001b[0;32mif\u001b[0m \u001b[0mfinal_fetches\u001b[0m \u001b[0;32mor\u001b[0m \u001b[0mfinal_targets\u001b[0m \u001b[0;32mor\u001b[0m \u001b[0;34m(\u001b[0m\u001b[0mhandle\u001b[0m \u001b[0;32mand\u001b[0m \u001b[0mfeed_dict_tensor\u001b[0m\u001b[0;34m)\u001b[0m\u001b[0;34m:\u001b[0m\u001b[0;34m\u001b[0m\u001b[0m\n\u001b[1;32m   1134\u001b[0m       results = self._do_run(handle, final_targets, final_fetches,\n\u001b[0;32m-> 1135\u001b[0;31m                              feed_dict_tensor, options, run_metadata)\n\u001b[0m\u001b[1;32m   1136\u001b[0m     \u001b[0;32melse\u001b[0m\u001b[0;34m:\u001b[0m\u001b[0;34m\u001b[0m\u001b[0m\n\u001b[1;32m   1137\u001b[0m       \u001b[0mresults\u001b[0m \u001b[0;34m=\u001b[0m \u001b[0;34m[\u001b[0m\u001b[0;34m]\u001b[0m\u001b[0;34m\u001b[0m\u001b[0m\n",
      "\u001b[0;32m~/.conda/envs/tf/lib/python3.6/site-packages/tensorflow/python/client/session.py\u001b[0m in \u001b[0;36m_do_run\u001b[0;34m(self, handle, target_list, fetch_list, feed_dict, options, run_metadata)\u001b[0m\n\u001b[1;32m   1314\u001b[0m     \u001b[0;32mif\u001b[0m \u001b[0mhandle\u001b[0m \u001b[0;32mis\u001b[0m \u001b[0;32mNone\u001b[0m\u001b[0;34m:\u001b[0m\u001b[0;34m\u001b[0m\u001b[0m\n\u001b[1;32m   1315\u001b[0m       return self._do_call(_run_fn, feeds, fetches, targets, options,\n\u001b[0;32m-> 1316\u001b[0;31m                            run_metadata)\n\u001b[0m\u001b[1;32m   1317\u001b[0m     \u001b[0;32melse\u001b[0m\u001b[0;34m:\u001b[0m\u001b[0;34m\u001b[0m\u001b[0m\n\u001b[1;32m   1318\u001b[0m       \u001b[0;32mreturn\u001b[0m \u001b[0mself\u001b[0m\u001b[0;34m.\u001b[0m\u001b[0m_do_call\u001b[0m\u001b[0;34m(\u001b[0m\u001b[0m_prun_fn\u001b[0m\u001b[0;34m,\u001b[0m \u001b[0mhandle\u001b[0m\u001b[0;34m,\u001b[0m \u001b[0mfeeds\u001b[0m\u001b[0;34m,\u001b[0m \u001b[0mfetches\u001b[0m\u001b[0;34m)\u001b[0m\u001b[0;34m\u001b[0m\u001b[0m\n",
      "\u001b[0;32m~/.conda/envs/tf/lib/python3.6/site-packages/tensorflow/python/client/session.py\u001b[0m in \u001b[0;36m_do_call\u001b[0;34m(self, fn, *args)\u001b[0m\n\u001b[1;32m   1320\u001b[0m   \u001b[0;32mdef\u001b[0m \u001b[0m_do_call\u001b[0m\u001b[0;34m(\u001b[0m\u001b[0mself\u001b[0m\u001b[0;34m,\u001b[0m \u001b[0mfn\u001b[0m\u001b[0;34m,\u001b[0m \u001b[0;34m*\u001b[0m\u001b[0margs\u001b[0m\u001b[0;34m)\u001b[0m\u001b[0;34m:\u001b[0m\u001b[0;34m\u001b[0m\u001b[0m\n\u001b[1;32m   1321\u001b[0m     \u001b[0;32mtry\u001b[0m\u001b[0;34m:\u001b[0m\u001b[0;34m\u001b[0m\u001b[0m\n\u001b[0;32m-> 1322\u001b[0;31m       \u001b[0;32mreturn\u001b[0m \u001b[0mfn\u001b[0m\u001b[0;34m(\u001b[0m\u001b[0;34m*\u001b[0m\u001b[0margs\u001b[0m\u001b[0;34m)\u001b[0m\u001b[0;34m\u001b[0m\u001b[0m\n\u001b[0m\u001b[1;32m   1323\u001b[0m     \u001b[0;32mexcept\u001b[0m \u001b[0merrors\u001b[0m\u001b[0;34m.\u001b[0m\u001b[0mOpError\u001b[0m \u001b[0;32mas\u001b[0m \u001b[0me\u001b[0m\u001b[0;34m:\u001b[0m\u001b[0;34m\u001b[0m\u001b[0m\n\u001b[1;32m   1324\u001b[0m       \u001b[0mmessage\u001b[0m \u001b[0;34m=\u001b[0m \u001b[0mcompat\u001b[0m\u001b[0;34m.\u001b[0m\u001b[0mas_text\u001b[0m\u001b[0;34m(\u001b[0m\u001b[0me\u001b[0m\u001b[0;34m.\u001b[0m\u001b[0mmessage\u001b[0m\u001b[0;34m)\u001b[0m\u001b[0;34m\u001b[0m\u001b[0m\n",
      "\u001b[0;32m~/.conda/envs/tf/lib/python3.6/site-packages/tensorflow/python/client/session.py\u001b[0m in \u001b[0;36m_run_fn\u001b[0;34m(feed_dict, fetch_list, target_list, options, run_metadata)\u001b[0m\n\u001b[1;32m   1305\u001b[0m       \u001b[0mself\u001b[0m\u001b[0;34m.\u001b[0m\u001b[0m_extend_graph\u001b[0m\u001b[0;34m(\u001b[0m\u001b[0;34m)\u001b[0m\u001b[0;34m\u001b[0m\u001b[0m\n\u001b[1;32m   1306\u001b[0m       return self._call_tf_sessionrun(\n\u001b[0;32m-> 1307\u001b[0;31m           options, feed_dict, fetch_list, target_list, run_metadata)\n\u001b[0m\u001b[1;32m   1308\u001b[0m \u001b[0;34m\u001b[0m\u001b[0m\n\u001b[1;32m   1309\u001b[0m     \u001b[0;32mdef\u001b[0m \u001b[0m_prun_fn\u001b[0m\u001b[0;34m(\u001b[0m\u001b[0mhandle\u001b[0m\u001b[0;34m,\u001b[0m \u001b[0mfeed_dict\u001b[0m\u001b[0;34m,\u001b[0m \u001b[0mfetch_list\u001b[0m\u001b[0;34m)\u001b[0m\u001b[0;34m:\u001b[0m\u001b[0;34m\u001b[0m\u001b[0m\n",
      "\u001b[0;32m~/.conda/envs/tf/lib/python3.6/site-packages/tensorflow/python/client/session.py\u001b[0m in \u001b[0;36m_call_tf_sessionrun\u001b[0;34m(self, options, feed_dict, fetch_list, target_list, run_metadata)\u001b[0m\n\u001b[1;32m   1407\u001b[0m       return tf_session.TF_SessionRun_wrapper(\n\u001b[1;32m   1408\u001b[0m           \u001b[0mself\u001b[0m\u001b[0;34m.\u001b[0m\u001b[0m_session\u001b[0m\u001b[0;34m,\u001b[0m \u001b[0moptions\u001b[0m\u001b[0;34m,\u001b[0m \u001b[0mfeed_dict\u001b[0m\u001b[0;34m,\u001b[0m \u001b[0mfetch_list\u001b[0m\u001b[0;34m,\u001b[0m \u001b[0mtarget_list\u001b[0m\u001b[0;34m,\u001b[0m\u001b[0;34m\u001b[0m\u001b[0m\n\u001b[0;32m-> 1409\u001b[0;31m           run_metadata)\n\u001b[0m\u001b[1;32m   1410\u001b[0m     \u001b[0;32melse\u001b[0m\u001b[0;34m:\u001b[0m\u001b[0;34m\u001b[0m\u001b[0m\n\u001b[1;32m   1411\u001b[0m       \u001b[0;32mwith\u001b[0m \u001b[0merrors\u001b[0m\u001b[0;34m.\u001b[0m\u001b[0mraise_exception_on_not_ok_status\u001b[0m\u001b[0;34m(\u001b[0m\u001b[0;34m)\u001b[0m \u001b[0;32mas\u001b[0m \u001b[0mstatus\u001b[0m\u001b[0;34m:\u001b[0m\u001b[0;34m\u001b[0m\u001b[0m\n",
      "\u001b[0;31mKeyboardInterrupt\u001b[0m: "
     ]
    }
   ],
   "source": [
    "tf.logging.set_verbosity(tf.logging.INFO)\n",
    "\n",
    "time_start = datetime.utcnow() \n",
    "print(\"Estimator training started at {}\".format(time_start.strftime(\"%H:%M:%S\")))\n",
    "print(\".......................................\")\n",
    "\n",
    "estimator.train(input_fn=train_input_fn, steps=hparams.training_steps)\n",
    "\n",
    "time_end = datetime.utcnow() \n",
    "print(\".......................................\")\n",
    "print(\"Estimator training finished at {}\".format(time_end.strftime(\"%H:%M:%S\")))\n",
    "print(\"\")\n",
    "time_elapsed = time_end - time_start\n",
    "print(\"Estimator training elapsed time: {} seconds\".format(time_elapsed.total_seconds()))"
   ]
  },
  {
   "cell_type": "code",
   "execution_count": 56,
   "metadata": {},
   "outputs": [
    {
     "name": "stdout",
     "output_type": "stream",
     "text": [
      "INFO:tensorflow:Using config: {'_model_dir': 'trained_models/ts-model-03', '_tf_random_seed': 19830610, '_save_summary_steps': 100, '_save_checkpoints_steps': 1000, '_save_checkpoints_secs': None, '_session_config': None, '_keep_checkpoint_max': 5, '_keep_checkpoint_every_n_hours': 10000, '_log_step_count_steps': 100, '_train_distribute': None, '_device_fn': None, '_service': None, '_cluster_spec': <tensorflow.python.training.server_lib.ClusterSpec object at 0x7fcae2f4b358>, '_task_type': 'worker', '_task_id': 0, '_global_id_in_cluster': 0, '_master': '', '_evaluation_master': '', '_is_chief': True, '_num_ps_replicas': 0, '_num_worker_replicas': 1}\n",
      "\n",
      "Estimator Type: <class 'tensorflow.contrib.timeseries.python.timeseries.estimators.ARRegressor'>\n",
      "\n",
      "Dataset Size: 8477\n",
      "\n",
      "WARNING:tensorflow:Skipping summary for covariance, must be a float, np.float32, np.int64, np.int32 or int or a serialized string of Summary.\n",
      "WARNING:tensorflow:Skipping summary for mean, must be a float, np.float32, np.int64, np.int32 or int or a serialized string of Summary.\n",
      "WARNING:tensorflow:Skipping summary for observed, must be a float, np.float32, np.int64, np.int32 or int or a serialized string of Summary.\n",
      "WARNING:tensorflow:Skipping summary for start_tuple, must be a float, np.float32, np.int64, np.int32 or int or a serialized string of Summary.\n",
      "WARNING:tensorflow:Skipping summary for times, must be a float, np.float32, np.int64, np.int32 or int or a serialized string of Summary.\n",
      "\n",
      "dict_keys(['covariance', 'loss', 'mean', 'observed', 'start_tuple', 'times', 'global_step'])\n",
      "\n",
      "Evaluation Loss (squared_loss) : 1.78876793384552\n"
     ]
    }
   ],
   "source": [
    "hparams  = tf.contrib.training.HParams(\n",
    "    training_steps = 1,\n",
    "    periodicities = [10],\n",
    "    input_window_size = 32,\n",
    "    output_window_size= 5,\n",
    "    batch_size = 16,\n",
    "    loss = tf.contrib.timeseries.ARModel.SQUARED_LOSS, # NORMAL_LIKELIHOOD_LOSS | SQUARED_LOSS\n",
    "    hidden_units = [32,32,16],\n",
    "    learning_rate = 0.001\n",
    "    \n",
    ")\n",
    "\n",
    "estimator = create_estimator(run_config, hparams)\n",
    "\n",
    "eval_input_fn = generate_input_fn(\n",
    "    first_df,\n",
    "    mode = tf.estimator.ModeKeys.EVAL,\n",
    ")\n",
    "\n",
    "tf.logging.set_verbosity(tf.logging.WARN)\n",
    "evaluation = estimator.evaluate(input_fn=eval_input_fn, steps=1)\n",
    "print(\"\")\n",
    "print(evaluation.keys())\n",
    "print(\"\")\n",
    "print(\"Evaluation Loss ({}) : {}\".format(hparams.loss, evaluation['loss']))"
   ]
  },
  {
   "cell_type": "code",
   "execution_count": 64,
   "metadata": {},
   "outputs": [
    {
     "name": "stdout",
     "output_type": "stream",
     "text": [
      "Evaluation RMSE 1.95291\n",
      "Evaluation MAE 1.20072\n"
     ]
    }
   ],
   "source": [
    "def compute_rmse(a, b):\n",
    "    rmse =  np.sqrt(np.sum(np.square(a - b)) / len(a))\n",
    "    return round(rmse,5)\n",
    "\n",
    "def compute_mae(a, b):\n",
    "    mae =  np.sqrt(np.sum(np.abs(a - b)) / len(a))\n",
    "    return round(mae,5)\n",
    "\n",
    "x_current = evaluation['times'][0]\n",
    "y_current_actual = evaluation['observed'][0]\n",
    "y_current_estimated = evaluation['mean'][0]\n",
    "\n",
    "test_col = -6\n",
    "\n",
    "rmse = compute_rmse(y_current_actual[:, test_col], y_current_estimated[:, test_col])\n",
    "mae = compute_mae(y_current_actual[:, test_col], y_current_estimated[:, test_col])\n",
    "print(\"Evaluation RMSE {}\".format(rmse))\n",
    "print(\"Evaluation MAE {}\".format(mae))"
   ]
  },
  {
   "cell_type": "code",
   "execution_count": 65,
   "metadata": {},
   "outputs": [
    {
     "data": {
      "image/png": "[encoded data removed]",
      "text/plain": [
       "<Figure size 1440x720 with 1 Axes>"
      ]
     },
     "metadata": {},
     "output_type": "display_data"
    }
   ],
   "source": [
    "plt.figure(figsize=(20, 10))\n",
    "\n",
    "plt.title(\"Time Series Data\")\n",
    "plt.plot(x_current, y_current_actual[:, test_col], label='actual')\n",
    "plt.plot(x_current, y_current_estimated[:,test_col], label='estimated')\n",
    "plt.xlabel(\"Time Index\")\n",
    "plt.ylabel(\"Value\")\n",
    "plt.legend(loc=2)\n",
    "plt.show()"
   ]
  },
  {
   "cell_type": "code",
   "execution_count": null,
   "metadata": {},
   "outputs": [],
   "source": []
  }
 ],
 "metadata": {
  "kernelspec": {
   "display_name": "Python [conda env:tf]",
   "language": "python",
   "name": "conda-env-tf-py"
  },
  "language_info": {
   "codemirror_mode": {
    "name": "ipython",
    "version": 3
   },
   "file_extension": ".py",
   "mimetype": "text/x-python",
   "name": "python",
   "nbconvert_exporter": "python",
   "pygments_lexer": "ipython3",
   "version": "3.6.6"
  }
 },
 "nbformat": 4,
 "nbformat_minor": 2
}
