{
 "cells": [
  {
   "cell_type": "code",
   "execution_count": 1,
   "metadata": {},
   "outputs": [],
   "source": [
    "%matplotlib inline\n",
    "\n",
    "import numpy as np\n",
    "import pandas as pd\n",
    "import matplotlib.pyplot as plt\n",
    "import seaborn as sns\n",
    "from sklearn import preprocessing\n",
    "\n",
    "from scipy import optimize\n",
    "\n",
    "import tensorflow as tf\n",
    "import torch\n",
    "import os\n",
    "os.chdir('..')"
   ]
  },
  {
   "cell_type": "code",
   "execution_count": 2,
   "metadata": {},
   "outputs": [],
   "source": [
    "import warnings\n",
    "warnings.filterwarnings('ignore')"
   ]
  },
  {
   "cell_type": "code",
   "execution_count": 3,
   "metadata": {},
   "outputs": [],
   "source": [
    "import matplotlib as mpl\n",
    "from matplotlib import cm\n",
    "from sklearn.preprocessing import MinMaxScaler\n",
    "from sklearn.preprocessing import minmax_scale\n",
    "from sklearn.preprocessing import MaxAbsScaler\n",
    "from sklearn.preprocessing import StandardScaler\n",
    "from sklearn.preprocessing import RobustScaler\n",
    "from sklearn.preprocessing import Normalizer\n",
    "from sklearn.preprocessing import QuantileTransformer\n",
    "\n",
    "from sklearn.model_selection import train_test_split\n",
    "from sklearn.metrics import roc_auc_score\n",
    "from sklearn.pipeline import Pipeline, FeatureUnion\n",
    "\n",
    "import torch\n",
    "import torch.nn as nn\n",
    "from torch.utils.data import Dataset, DataLoader"
   ]
  },
  {
   "cell_type": "code",
   "execution_count": 4,
   "metadata": {},
   "outputs": [
    {
     "name": "stdout",
     "output_type": "stream",
     "text": [
      "--- log folder exists\n"
     ]
    }
   ],
   "source": [
    "from supervised import read_csv, prepare_data, TickerDataSimple"
   ]
  },
  {
   "cell_type": "code",
   "execution_count": 5,
   "metadata": {},
   "outputs": [],
   "source": [
    "X_all, Y = prepare_data('spy', True)\n",
    "input = pd.DataFrame(X_all.iloc[:, 1:])\n",
    "\n",
    "# Random sequence data\n",
    "# train_idx, test_idx = train_test_split(np.arange(len(input)))\n",
    "\n",
    "# Sequential data\n",
    "length = int(len(input)* 0.8)\n",
    "train_idx = np.arange(length)\n",
    "test_idx = np.arange(length, len(input))"
   ]
  },
  {
   "cell_type": "code",
   "execution_count": 6,
   "metadata": {},
   "outputs": [
    {
     "name": "stdout",
     "output_type": "stream",
     "text": [
      "(2520,) (631,)\n",
      "(2520, 24) (631, 24)\n"
     ]
    },
    {
     "data": {
      "text/plain": [
       "(1538, 377)"
      ]
     },
     "execution_count": 6,
     "metadata": {},
     "output_type": "execute_result"
    }
   ],
   "source": [
    "train_df = input.iloc[train_idx]\n",
    "test_df = input.iloc[test_idx]\n",
    "print(train_idx.shape, test_idx.shape)\n",
    "print(train_df.shape, test_df.shape)\n",
    "# Consider some other y transfroms...\n",
    "y_train = np.where(Y[train_idx]>0, 1, 0)\n",
    "y_test = np.where(Y[test_idx]>0, 1, 0)\n",
    "y_train.sum(), y_test.sum()"
   ]
  },
  {
   "cell_type": "code",
   "execution_count": 7,
   "metadata": {},
   "outputs": [],
   "source": [
    "# Use only the ones worked well in autoencoder\n",
    "transfomer = [\n",
    "    ('Data after min-max scaling',\n",
    "        MinMaxScaler()),\n",
    "    ('Data after max-abs scaling',\n",
    "        MaxAbsScaler()),\n",
    "    ('Data after quantile transformation (uniform pdf)',\n",
    "        QuantileTransformer(output_distribution='uniform')),\n",
    "    ('Data after sample-wise L2 normalizing',\n",
    "        Normalizer()),\n",
    "]\n",
    "\n",
    "combined = FeatureUnion(transfomer)\n",
    "combined_fit = combined.fit(train_df)"
   ]
  },
  {
   "cell_type": "code",
   "execution_count": 8,
   "metadata": {},
   "outputs": [],
   "source": [
    "x_train_transformed = combined.transform(train_df)\n",
    "x_test_transformed = combined.transform(test_df)"
   ]
  },
  {
   "cell_type": "code",
   "execution_count": 9,
   "metadata": {},
   "outputs": [
    {
     "data": {
      "text/plain": [
       "((2520, 96), (631, 96))"
      ]
     },
     "execution_count": 9,
     "metadata": {},
     "output_type": "execute_result"
    }
   ],
   "source": [
    "x_train_transformed.shape, x_test_transformed.shape"
   ]
  },
  {
   "cell_type": "markdown",
   "metadata": {},
   "source": [
    "#### Time for a simple regression\n",
    "\n",
    "This is actually a terrible idea in a way. Input_size of 96 makes the first layer already 96*24 for the matmul... <~ 2400 params... Our training set is only of size 2520."
   ]
  },
  {
   "cell_type": "code",
   "execution_count": 10,
   "metadata": {},
   "outputs": [],
   "source": [
    "class LogisticRegressor(nn.Module):\n",
    "    def __init__(self, input_size, final_output_size):\n",
    "        super(LogisticRegressor, self).__init__()\n",
    "\n",
    "        self.l1 = nn.Linear(input_size, 24)\n",
    "        self.l2 = nn.Linear(24, 12)\n",
    "        self.l3 = nn.Linear(12, 6)\n",
    "        self.l4 = nn.Linear(6, 1)\n",
    "\n",
    "    def forward(self, x):\n",
    "        x = torch.relu(self.l1(x))\n",
    "        x = torch.tanh(self.l2(x))\n",
    "        x = torch.tanh(self.l3(x))\n",
    "        return torch.sigmoid(self.l4(x))"
   ]
  },
  {
   "cell_type": "code",
   "execution_count": 11,
   "metadata": {},
   "outputs": [],
   "source": [
    "x_train_transformed = combined.transform(train_df)\n",
    "x_test_transformed = combined.transform(test_df)\n",
    "\n",
    "spy_dataset = TickerDataSimple('spy', x_train_transformed, y_train)\n",
    "\n",
    "BATCH_SIZE = 64\n",
    "train_dl = DataLoader(spy_dataset, \n",
    "                      num_workers=1, \n",
    "                      batch_size=BATCH_SIZE)\n",
    "\n",
    "spy_testset = TickerDataSimple('spy', x_test_transformed, y_test)\n",
    "\n",
    "BATCH_SIZE = 64\n",
    "test_dl = DataLoader(spy_testset, \n",
    "                      num_workers=1, \n",
    "                      batch_size=BATCH_SIZE)"
   ]
  },
  {
   "cell_type": "code",
   "execution_count": 67,
   "metadata": {},
   "outputs": [],
   "source": [
    "class CustomLoss(torch.nn.Module):\n",
    "    def __init__(self):\n",
    "        super(CustomLoss,self).__init__()\n",
    "        \n",
    "    def forward(self, y_pred, y_target):\n",
    "        return F.binary_cross_entropy(y_pred, y_target)*torch.mean(1-y_pred)\n",
    "        return torch.mean(torch.pow(y_pred - y_target, 2))"
   ]
  },
  {
   "cell_type": "code",
   "execution_count": 68,
   "metadata": {},
   "outputs": [],
   "source": [
    "from torch.nn.utils import clip_grad_norm_\n",
    "import torch.optim as optim\n",
    "\n",
    "# Each Data Points are 24 (6 * 4)\n",
    "# Transformer has 4 different ways\n",
    "model = LogisticRegressor(24 * 4, 1)\n",
    "\n",
    "criterion = nn.modules.loss.BCELoss()\n",
    "# criterion = CustomLoss()\n",
    "optimizer = torch.optim.Adam(\n",
    "    model.parameters(), lr=1e-3, weight_decay=1e-6)"
   ]
  },
  {
   "cell_type": "code",
   "execution_count": 69,
   "metadata": {},
   "outputs": [],
   "source": [
    "import ignite\n",
    "from ignite.metrics import BinaryAccuracy, Loss, Precision, Recall\n",
    "from ignite.engine import Events, \\\n",
    "                          create_supervised_trainer, \\\n",
    "                          create_supervised_evaluator"
   ]
  },
  {
   "cell_type": "code",
   "execution_count": 70,
   "metadata": {},
   "outputs": [],
   "source": [
    "import sklearn.metrics as sk_metrics\n",
    "import torch.nn.functional as F"
   ]
  },
  {
   "cell_type": "code",
   "execution_count": 101,
   "metadata": {},
   "outputs": [],
   "source": [
    "iter_train_dl = iter(train_dl)"
   ]
  },
  {
   "cell_type": "code",
   "execution_count": 144,
   "metadata": {},
   "outputs": [
    {
     "name": "stdout",
     "output_type": "stream",
     "text": [
      "f1_score: 0.7250000000000001\n",
      "accuracy_score: 0.65625\n",
      "roc_auc_score: 0.7966764418377321\n"
     ]
    },
    {
     "data": {
      "text/plain": [
       "<matplotlib.axes._subplots.AxesSubplot at 0x7f91d9dc5630>"
      ]
     },
     "execution_count": 144,
     "metadata": {},
     "output_type": "execute_result"
    },
    {
     "data": {
      "image/png": "[encoded data removed]",
      "text/plain": [
       "<Figure size 432x288 with 1 Axes>"
      ]
     },
     "metadata": {},
     "output_type": "display_data"
    }
   ],
   "source": [
    "x, y = next(iter_train_dl)\n",
    "_out = model(x)\n",
    "_zero_one = _out > 0.5\n",
    "print('f1_score: {}'.format(sk_metrics.f1_score(_zero_one.detach().numpy(), y)))\n",
    "print('accuracy_score: {}'.format(sk_metrics.accuracy_score(_zero_one, y)))\n",
    "print('roc_auc_score: {}'.format(sk_metrics.roc_auc_score(y, _out.detach().numpy())))\n",
    "sns.distplot(_out.detach().numpy())"
   ]
  },
  {
   "cell_type": "code",
   "execution_count": 73,
   "metadata": {},
   "outputs": [],
   "source": [
    "from ignite.metrics import Accuracy\n",
    "from functools import partial\n",
    "from sklearn.metrics import roc_auc_score\n",
    "from ignite.metrics import EpochMetric\n",
    "\n",
    "\n",
    "def sk_metric_fn(y_preds, y_targets, sk_metrics, activation=None):\n",
    "    y_true = y_targets.numpy()\n",
    "    if activation is not None:\n",
    "        y_preds = activation(y_preds)\n",
    "    y_pred = y_preds.numpy()\n",
    "    return sk_metrics(y_true, y_pred)\n",
    "\n",
    "class ROC_AUC(EpochMetric):\n",
    "    def __init__(self, activation=None, output_transform=lambda x: x):\n",
    "        super(ROC_AUC, self).__init__(\n",
    "            partial(sk_metric_fn, \n",
    "                    sk_metrics=sk_metrics.roc_auc_score, \n",
    "                    activation=activation),\n",
    "            output_transform=output_transform)\n",
    "\n",
    "class F1_Score(EpochMetric):\n",
    "    def __init__(self, activation=None, output_transform=lambda x: x):\n",
    "        super(F1_Score, self).__init__(\n",
    "            partial(sk_metric_fn, \n",
    "                    sk_metrics=sk_metrics.f1_score, \n",
    "                    activation=activation),\n",
    "            output_transform=output_transform)\n"
   ]
  },
  {
   "cell_type": "code",
   "execution_count": 74,
   "metadata": {},
   "outputs": [],
   "source": [
    "def zero_one(y_preds):\n",
    "    return y_preds > 0.5\n",
    "\n",
    "def zero_one_transform(output):\n",
    "    return (zero_one(output[0])).long(), output[1].long()"
   ]
  },
  {
   "cell_type": "code",
   "execution_count": 75,
   "metadata": {},
   "outputs": [],
   "source": [
    "trainer = create_supervised_trainer(model, optimizer, criterion)\n",
    "evaluator = create_supervised_evaluator(\n",
    "    model,\n",
    "    metrics={\n",
    "        'accuracy': Accuracy(output_transform=zero_one_transform),\n",
    "        'bce':      Loss(criterion),\n",
    "        'f1_score': F1_Score(activation=zero_one),\n",
    "        'roc_auc' : ROC_AUC(),\n",
    "    })"
   ]
  },
  {
   "cell_type": "code",
   "execution_count": 76,
   "metadata": {},
   "outputs": [],
   "source": [
    "@trainer.on(Events.EPOCH_COMPLETED)\n",
    "def log_training_results(trainer):\n",
    "    evaluator.run(train_dl)\n",
    "    metrics = evaluator.state.metrics\n",
    "    print(\"Training Results  - Epoch: {} Avg accuracy: {:.5f}, Avg loss: {:.5f}, F1 Score: {:.5f}, ROC_AUC: {:.5f}\".format(trainer.state.epoch, \n",
    "                  metrics['accuracy'], \n",
    "                  metrics['bce'],\n",
    "                  metrics['f1_score'],\n",
    "                  metrics['roc_auc'],\n",
    "                 ))\n",
    "\n",
    "@trainer.on(Events.EPOCH_COMPLETED)\n",
    "def log_validation_results(trainer):\n",
    "    evaluator.run(test_dl)\n",
    "    metrics = evaluator.state.metrics\n",
    "    print(\"Validation Results- Epoch: {} Avg accuracy: {:.5f}, Avg loss: {:.5f}, F1 Score: {:.5f}, ROC_AUC: {:.5f}\".format(trainer.state.epoch, \n",
    "                  metrics['accuracy'], \n",
    "                  metrics['bce'],\n",
    "                  metrics['f1_score'],\n",
    "                  metrics['roc_auc'],\n",
    "                 ))"
   ]
  },
  {
   "cell_type": "code",
   "execution_count": 77,
   "metadata": {
    "scrolled": false
   },
   "outputs": [
    {
     "name": "stdout",
     "output_type": "stream",
     "text": [
      "Training Results  - Epoch: 1 Avg accuracy: 0.61032, Avg loss: 0.66795, F1 Score: 0.75801, ROC_AUC: 0.72371\n",
      "Validation Results- Epoch: 1 Avg accuracy: 0.59746, Avg loss: 0.67267, F1 Score: 0.74802, ROC_AUC: 0.68558\n",
      "Training Results  - Epoch: 2 Avg accuracy: 0.61706, Avg loss: 0.63855, F1 Score: 0.76096, ROC_AUC: 0.75865\n",
      "Validation Results- Epoch: 2 Avg accuracy: 0.59746, Avg loss: 0.65123, F1 Score: 0.74802, ROC_AUC: 0.73232\n",
      "Training Results  - Epoch: 3 Avg accuracy: 0.69802, Avg loss: 0.59328, F1 Score: 0.79293, ROC_AUC: 0.78615\n",
      "Validation Results- Epoch: 3 Avg accuracy: 0.67036, Avg loss: 0.61306, F1 Score: 0.78059, ROC_AUC: 0.76802\n",
      "Training Results  - Epoch: 4 Avg accuracy: 0.73770, Avg loss: 0.55217, F1 Score: 0.80689, ROC_AUC: 0.80095\n",
      "Validation Results- Epoch: 4 Avg accuracy: 0.73376, Avg loss: 0.57505, F1 Score: 0.81250, ROC_AUC: 0.78530\n",
      "Training Results  - Epoch: 5 Avg accuracy: 0.74881, Avg loss: 0.53474, F1 Score: 0.81155, ROC_AUC: 0.80738\n",
      "Validation Results- Epoch: 5 Avg accuracy: 0.74010, Avg loss: 0.56164, F1 Score: 0.81019, ROC_AUC: 0.78827\n",
      "Training Results  - Epoch: 6 Avg accuracy: 0.75119, Avg loss: 0.52968, F1 Score: 0.81323, ROC_AUC: 0.81016\n",
      "Validation Results- Epoch: 6 Avg accuracy: 0.72742, Avg loss: 0.56281, F1 Score: 0.80000, ROC_AUC: 0.78641\n",
      "Training Results  - Epoch: 7 Avg accuracy: 0.75198, Avg loss: 0.52741, F1 Score: 0.81338, ROC_AUC: 0.81171\n",
      "Validation Results- Epoch: 7 Avg accuracy: 0.71949, Avg loss: 0.56535, F1 Score: 0.79395, ROC_AUC: 0.78387\n",
      "Training Results  - Epoch: 8 Avg accuracy: 0.75079, Avg loss: 0.52596, F1 Score: 0.81243, ROC_AUC: 0.81295\n",
      "Validation Results- Epoch: 8 Avg accuracy: 0.71315, Avg loss: 0.56757, F1 Score: 0.78929, ROC_AUC: 0.78179\n",
      "Training Results  - Epoch: 9 Avg accuracy: 0.75357, Avg loss: 0.52468, F1 Score: 0.81435, ROC_AUC: 0.81385\n",
      "Validation Results- Epoch: 9 Avg accuracy: 0.71315, Avg loss: 0.56933, F1 Score: 0.78929, ROC_AUC: 0.78050\n",
      "Training Results  - Epoch: 10 Avg accuracy: 0.75397, Avg loss: 0.52359, F1 Score: 0.81448, ROC_AUC: 0.81470\n",
      "Validation Results- Epoch: 10 Avg accuracy: 0.70998, Avg loss: 0.57040, F1 Score: 0.78696, ROC_AUC: 0.77930\n"
     ]
    },
    {
     "data": {
      "text/plain": [
       "<ignite.engine.engine.State at 0x7f91f438dd68>"
      ]
     },
     "execution_count": 77,
     "metadata": {},
     "output_type": "execute_result"
    }
   ],
   "source": [
    "trainer.run(train_dl, max_epochs=10)"
   ]
  },
  {
   "cell_type": "code",
   "execution_count": 38,
   "metadata": {},
   "outputs": [
    {
     "data": {
      "text/plain": [
       "{'accuracy': 0.40253565768621236,\n",
       " 'bce': 0.01444854362382186,\n",
       " 'f1_score': 0.0,\n",
       " 'roc_auc': 0.487014139810773}"
      ]
     },
     "execution_count": 38,
     "metadata": {},
     "output_type": "execute_result"
    }
   ],
   "source": [
    "evaluator.state.metrics"
   ]
  },
  {
   "cell_type": "code",
   "execution_count": null,
   "metadata": {},
   "outputs": [],
   "source": []
  },
  {
   "cell_type": "code",
   "execution_count": null,
   "metadata": {},
   "outputs": [],
   "source": []
  },
  {
   "cell_type": "code",
   "execution_count": null,
   "metadata": {},
   "outputs": [],
   "source": []
  }
 ],
 "metadata": {
  "kernelspec": {
   "display_name": "Python [conda env:clone_tf]",
   "language": "python",
   "name": "conda-env-clone_tf-py"
  },
  "language_info": {
   "codemirror_mode": {
    "name": "ipython",
    "version": 3
   },
   "file_extension": ".py",
   "mimetype": "text/x-python",
   "name": "python",
   "nbconvert_exporter": "python",
   "pygments_lexer": "ipython3",
   "version": "3.6.6"
  }
 },
 "nbformat": 4,
 "nbformat_minor": 2
}
