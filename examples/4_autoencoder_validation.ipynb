{
 "cells": [
  {
   "cell_type": "code",
   "execution_count": 1,
   "metadata": {},
   "outputs": [],
   "source": [
    "%matplotlib inline\n",
    "\n",
    "import numpy as np\n",
    "import pandas as pd\n",
    "import matplotlib.pyplot as plt\n",
    "import seaborn as sns\n",
    "from sklearn import preprocessing\n",
    "\n",
    "from scipy import optimize\n",
    "\n",
    "import tensorflow as tf\n",
    "import torch\n",
    "import os\n",
    "os.chdir('..')"
   ]
  },
  {
   "cell_type": "code",
   "execution_count": 2,
   "metadata": {},
   "outputs": [],
   "source": [
    "import warnings\n",
    "warnings.filterwarnings('ignore')"
   ]
  },
  {
   "cell_type": "code",
   "execution_count": 3,
   "metadata": {},
   "outputs": [],
   "source": [
    "import matplotlib as mpl\n",
    "from matplotlib import cm\n",
    "from sklearn.preprocessing import MinMaxScaler\n",
    "from sklearn.preprocessing import minmax_scale\n",
    "from sklearn.preprocessing import MaxAbsScaler\n",
    "from sklearn.preprocessing import StandardScaler\n",
    "from sklearn.preprocessing import RobustScaler\n",
    "from sklearn.preprocessing import Normalizer\n",
    "from sklearn.preprocessing import QuantileTransformer\n",
    "from sklearn.preprocessing import PowerTransformer\n",
    "\n",
    "from sklearn.model_selection import train_test_split\n",
    "from sklearn.metrics import roc_auc_score\n",
    "from sklearn.pipeline import Pipeline, FeatureUnion\n",
    "\n",
    "import torch\n",
    "import torch.nn as nn\n",
    "from torch.utils.data import Dataset, DataLoader"
   ]
  },
  {
   "cell_type": "code",
   "execution_count": 4,
   "metadata": {},
   "outputs": [
    {
     "name": "stdout",
     "output_type": "stream",
     "text": [
      "--- log folder exists\n"
     ]
    }
   ],
   "source": [
    "from supervised import read_csv, prepare_data, TickerDataSimple"
   ]
  },
  {
   "cell_type": "code",
   "execution_count": 5,
   "metadata": {},
   "outputs": [],
   "source": [
    "X_all, Y = prepare_data('spy', True)\n",
    "input = pd.DataFrame(X_all.iloc[:, 1:])\n",
    "\n",
    "# Random sequence data\n",
    "# train_idx, test_idx = train_test_split(np.arange(len(input)))\n",
    "\n",
    "# Sequential data\n",
    "length = int(len(input)* 0.8)\n",
    "train_idx = np.arange(length)\n",
    "test_idx = np.arange(length, len(input))"
   ]
  },
  {
   "cell_type": "code",
   "execution_count": 6,
   "metadata": {},
   "outputs": [
    {
     "name": "stdout",
     "output_type": "stream",
     "text": [
      "(2520,) (631,)\n",
      "(2520, 24) (631, 24)\n"
     ]
    },
    {
     "data": {
      "text/plain": [
       "(1538, 377)"
      ]
     },
     "execution_count": 6,
     "metadata": {},
     "output_type": "execute_result"
    }
   ],
   "source": [
    "train_df = input.iloc[train_idx]\n",
    "test_df = input.iloc[test_idx]\n",
    "print(train_idx.shape, test_idx.shape)\n",
    "print(train_df.shape, test_df.shape)\n",
    "# Consider some other y transfroms...\n",
    "y_train = np.where(Y[train_idx]>0, 1, 0)\n",
    "y_test = np.where(Y[test_idx]>0, 1, 0)\n",
    "y_train.sum(), y_test.sum()"
   ]
  },
  {
   "cell_type": "code",
   "execution_count": 7,
   "metadata": {},
   "outputs": [],
   "source": [
    "transfomer = [\n",
    "    ('Data after standard scaling',\n",
    "        StandardScaler()),\n",
    "    ('Data after min-max scaling',\n",
    "        MinMaxScaler()),\n",
    "    ('Data after max-abs scaling',\n",
    "        MaxAbsScaler()),\n",
    "    ('Data after robust scaling',\n",
    "        RobustScaler(quantile_range=(25, 75))),\n",
    "    ('Data after power transformation (Yeo-Johnson)',\n",
    "     PowerTransformer(method='yeo-johnson')),\n",
    "    ('Data after quantile transformation (gaussian pdf)',\n",
    "        QuantileTransformer(output_distribution='normal')),\n",
    "    ('Data after quantile transformation (uniform pdf)',\n",
    "        QuantileTransformer(output_distribution='uniform')),\n",
    "    ('Data after sample-wise L2 normalizing',\n",
    "        Normalizer()),\n",
    "]\n",
    "\n",
    "combined = FeatureUnion(transfomer)\n",
    "combined_fit = combined.fit(train_df)"
   ]
  },
  {
   "cell_type": "code",
   "execution_count": 8,
   "metadata": {},
   "outputs": [],
   "source": [
    "x_train_transformed = combined.transform(train_df)\n",
    "x_test_transformed = combined.transform(test_df)"
   ]
  },
  {
   "cell_type": "code",
   "execution_count": 9,
   "metadata": {},
   "outputs": [
    {
     "data": {
      "text/plain": [
       "((2520, 192), (631, 192))"
      ]
     },
     "execution_count": 9,
     "metadata": {},
     "output_type": "execute_result"
    }
   ],
   "source": [
    "x_train_transformed.shape, x_test_transformed.shape"
   ]
  },
  {
   "cell_type": "code",
   "execution_count": 10,
   "metadata": {},
   "outputs": [],
   "source": [
    "from functools import reduce\n",
    "\n",
    "class Flatten(nn.Module):\n",
    "    def forward(self, input):\n",
    "        return input.view(input.size(0), -1)\n",
    "\n",
    "class AutoEncoder(nn.Module):\n",
    "    def __init__(self, input_size, final_output_size):\n",
    "        super(AutoEncoder, self).__init__()\n",
    "\n",
    "        self.encoder = nn.Sequential(\n",
    "            nn.Linear(input_size,            final_output_size * 8),\n",
    "            nn.ReLU(True),\n",
    "            nn.Linear(final_output_size * 8, final_output_size * 4),\n",
    "            nn.ReLU(True),\n",
    "            nn.Linear(final_output_size * 4, final_output_size * 2),\n",
    "            nn.ReLU(True),\n",
    "            nn.Linear(final_output_size * 2, final_output_size),\n",
    "            nn.Tanh(),\n",
    "        )\n",
    "\n",
    "        self.decoder = nn.Sequential(\n",
    "            nn.Linear(final_output_size, final_output_size * 2),\n",
    "            nn.ReLU(True),\n",
    "            nn.Linear(final_output_size * 2, final_output_size * 4),\n",
    "            nn.ReLU(True),\n",
    "            nn.Linear(final_output_size * 4, final_output_size * 8),\n",
    "            nn.ReLU(True),\n",
    "            nn.Linear(final_output_size * 8, input_size))\n",
    "\n",
    "    def forward(self, x):\n",
    "        x = self.encoder(x)\n",
    "        return self.decoder(x)"
   ]
  },
  {
   "cell_type": "code",
   "execution_count": 11,
   "metadata": {},
   "outputs": [],
   "source": [
    "spy_dataset = TickerDataSimple('spy', x_train_transformed, y_train)\n",
    "\n",
    "BATCH_SIZE = 64\n",
    "train_dl = DataLoader(spy_dataset, \n",
    "                      num_workers=1, \n",
    "                      batch_size=BATCH_SIZE)\n",
    "\n",
    "spy_testset = TickerDataSimple('spy', x_test_transformed, y_test)\n",
    "\n",
    "BATCH_SIZE = 64\n",
    "test_dl = DataLoader(spy_testset, \n",
    "                      num_workers=1, \n",
    "                      batch_size=BATCH_SIZE)"
   ]
  },
  {
   "cell_type": "code",
   "execution_count": 12,
   "metadata": {},
   "outputs": [],
   "source": [
    "model = AutoEncoder(192, 8).cuda()\n",
    "model.load_state_dict(torch.load('linear_auto_encoder.pt'))"
   ]
  },
  {
   "cell_type": "code",
   "execution_count": 13,
   "metadata": {},
   "outputs": [],
   "source": [
    "from torch.nn.utils import clip_grad_norm_\n",
    "import torch.optim as optim\n",
    "\n",
    "criterion = nn.MSELoss()\n",
    "optimizer = torch.optim.Adam(\n",
    "    model.parameters(), lr=1e-3, weight_decay=1e-6)\n",
    "\n",
    "lr_scheduler = optim.lr_scheduler.CosineAnnealingLR(optimizer, \n",
    "                                                    2400, \n",
    "                                                    3e-5)"
   ]
  },
  {
   "cell_type": "code",
   "execution_count": 14,
   "metadata": {},
   "outputs": [
    {
     "name": "stdout",
     "output_type": "stream",
     "text": [
      "epoch [199/199], loss:0.00691"
     ]
    }
   ],
   "source": [
    "losses = []\n",
    "num_epochs=200\n",
    "for epoch in range(num_epochs):\n",
    "    cur_loss = 0.0\n",
    "    for data in train_dl:\n",
    "        x, _ = data\n",
    "        x = x.cuda()\n",
    "\n",
    "        output = model(x)\n",
    "        loss = criterion(output, x)\n",
    "        \n",
    "        optimizer.zero_grad()\n",
    "        loss.backward()\n",
    "        clip_grad_norm_(model.parameters(), 1.0)\n",
    "        optimizer.step()\n",
    "\n",
    "        cur_loss += loss.item()\n",
    "    \n",
    "    losses += [cur_loss]\n",
    "    lr_scheduler.step()\n",
    "    print('\\repoch [{}/{}], loss:{:.5f}'\n",
    "          .format(epoch, num_epochs-1, loss.data.item()), end='')"
   ]
  },
  {
   "cell_type": "code",
   "execution_count": 163,
   "metadata": {},
   "outputs": [
    {
     "data": {
      "image/png": "[encoded data removed]",
      "text/plain": [
       "<Figure size 432x288 with 1 Axes>"
      ]
     },
     "metadata": {},
     "output_type": "display_data"
    }
   ],
   "source": [
    "_ = plt.plot(losses)"
   ]
  },
  {
   "cell_type": "code",
   "execution_count": 164,
   "metadata": {},
   "outputs": [],
   "source": [
    "# torch.save(model.state_dict(), 'linear_auto_encoder.pt')"
   ]
  },
  {
   "cell_type": "code",
   "execution_count": 77,
   "metadata": {},
   "outputs": [],
   "source": [
    "losses = []\n",
    "xs = []\n",
    "outputs = []\n",
    "for x, y in train_dl:\n",
    "    x = x.cuda()\n",
    "    output = model(x)\n",
    "    xs += [x]\n",
    "    outputs += [output]\n",
    "    loss = criterion(output, x)\n",
    "    losses += [loss.item()]"
   ]
  },
  {
   "cell_type": "code",
   "execution_count": 57,
   "metadata": {},
   "outputs": [],
   "source": [
    "by_column_loss_mean = torch.zeros((192,))\n",
    "for idx in range(len(xs)):\n",
    "    by_column_loss_mean += torch.pow(xs[idx] - outputs[idx], 2\n",
    "                                    ).mean(0).cpu()"
   ]
  },
  {
   "cell_type": "code",
   "execution_count": 69,
   "metadata": {},
   "outputs": [
    {
     "name": "stdout",
     "output_type": "stream",
     "text": [
      "16.460641860961914\n",
      "0.0870986357331276\n",
      "0.23172298073768616\n",
      "19.639759063720703\n",
      "16.841182708740234\n",
      "25.550222396850586\n",
      "3.2899932861328125\n",
      "3.243394136428833\n"
     ]
    }
   ],
   "source": [
    "for idx in range(8):\n",
    "    print((by_column_loss_mean[24*idx: 24*idx+24]).sum().item())"
   ]
  },
  {
   "cell_type": "markdown",
   "metadata": {},
   "source": [
    "Looks like 2nd, 3rd, 7th, 8th useful, all others rubbish...?"
   ]
  },
  {
   "cell_type": "code",
   "execution_count": 70,
   "metadata": {},
   "outputs": [],
   "source": [
    "losses = []\n",
    "xs = []\n",
    "outputs = []\n",
    "for x, y in test_dl:\n",
    "    x = x.cuda()\n",
    "    output = model(x)\n",
    "    xs += [x]\n",
    "    outputs += [output]\n",
    "    loss = criterion(output, x)\n",
    "    losses += [loss.item()]"
   ]
  },
  {
   "cell_type": "code",
   "execution_count": 71,
   "metadata": {},
   "outputs": [],
   "source": [
    "by_column_loss_mean = torch.zeros((192,))\n",
    "for idx in range(len(xs)):\n",
    "    by_column_loss_mean += torch.pow(xs[idx] - outputs[idx], 2\n",
    "                                    ).mean(0).cpu()"
   ]
  },
  {
   "cell_type": "code",
   "execution_count": 72,
   "metadata": {},
   "outputs": [
    {
     "name": "stdout",
     "output_type": "stream",
     "text": [
      "3.013014078140259\n",
      "0.014550460502505302\n",
      "0.04097181186079979\n",
      "3.6275320053100586\n",
      "3.0430538654327393\n",
      "4.267138481140137\n",
      "0.5650008320808411\n",
      "1.1323521137237549\n"
     ]
    }
   ],
   "source": [
    "for idx in range(8):\n",
    "    print((by_column_loss_mean[24*idx: 24*idx+24]).sum().item())"
   ]
  },
  {
   "cell_type": "markdown",
   "metadata": {},
   "source": [
    "Indeed..."
   ]
  },
  {
   "cell_type": "markdown",
   "metadata": {},
   "source": [
    "Time for a simple regression"
   ]
  },
  {
   "cell_type": "code",
   "execution_count": 105,
   "metadata": {},
   "outputs": [],
   "source": [
    "class LogisticRegressor(nn.Module):\n",
    "    def __init__(self, input_size, final_output_size):\n",
    "        super(LogisticRegressor, self).__init__()\n",
    "\n",
    "        self.l1 = nn.Linear(input_size, 24)\n",
    "        self.l2 = nn.Linear(24, 12)\n",
    "        self.l3 = nn.Linear(12, 6)\n",
    "        self.l4 = nn.Linear(6, 1)\n",
    "\n",
    "        self.d1 = nn.Dropout(inplace=True)\n",
    "        self.d2 = nn.Dropout(inplace=True)\n",
    "        \n",
    "    def forward(self, x):\n",
    "        x = torch.relu(self.l1(x))\n",
    "        x = torch.relu(self.l2(x))\n",
    "        x = self.d1(x)\n",
    "        x = torch.relu(self.l3(x))\n",
    "        x = self.d2(x)\n",
    "        return torch.sigmoid(self.l4(x))"
   ]
  },
  {
   "cell_type": "code",
   "execution_count": 112,
   "metadata": {},
   "outputs": [
    {
     "name": "stderr",
     "output_type": "stream",
     "text": [
      "/home/wbaik/.conda/envs/clone_tf/lib/python3.6/site-packages/sklearn/preprocessing/data.py:323: DataConversionWarning: Data with input dtype object were all converted to float64 by MinMaxScaler.\n",
      "  return self.partial_fit(X, y)\n"
     ]
    }
   ],
   "source": [
    "# Keep 2nd, 3rd, 7th, 8th\n",
    "transfomer = [\n",
    "    ('Data after min-max scaling',\n",
    "        MinMaxScaler()),\n",
    "    ('Data after max-abs scaling',\n",
    "        MaxAbsScaler()),\n",
    "    ('Data after quantile transformation (uniform pdf)',\n",
    "        QuantileTransformer(output_distribution='uniform')),\n",
    "    ('Data after sample-wise L2 normalizing',\n",
    "        Normalizer()),\n",
    "]\n",
    "\n",
    "combined = FeatureUnion(transfomer)\n",
    "combined_fit = combined.fit(train_df)"
   ]
  },
  {
   "cell_type": "code",
   "execution_count": 111,
   "metadata": {},
   "outputs": [],
   "source": [
    "x_train_transformed = combined.transform(train_df)\n",
    "x_test_transformed = combined.transform(test_df)\n",
    "\n",
    "spy_dataset = TickerData('spy', x_train_transformed, y_train)\n",
    "\n",
    "BATCH_SIZE = 64\n",
    "train_dl = DataLoader(spy_dataset, \n",
    "                      num_workers=1, \n",
    "                      batch_size=BATCH_SIZE)\n",
    "\n",
    "spy_testset = TickerData('spy', x_test_transformed, y_test)\n",
    "\n",
    "BATCH_SIZE = 64\n",
    "test_dl = DataLoader(spy_testset, \n",
    "                      num_workers=1, \n",
    "                      batch_size=BATCH_SIZE)"
   ]
  },
  {
   "cell_type": "code",
   "execution_count": 114,
   "metadata": {},
   "outputs": [],
   "source": [
    "# Each Data Points are 24 (6 * 4)\n",
    "# Transformer has 4 different ways\n",
    "model = LogisticRegressor(24 * 4, 1).cuda()"
   ]
  },
  {
   "cell_type": "code",
   "execution_count": 117,
   "metadata": {},
   "outputs": [],
   "source": [
    "from torch.nn.utils import clip_grad_norm_\n",
    "import torch.optim as optim\n",
    "\n",
    "criterion = nn.modules.loss.BCELoss()\n",
    "optimizer = torch.optim.Adam(\n",
    "    model.parameters(), lr=1e-3, weight_decay=1e-6)\n",
    "\n",
    "lr_scheduler = optim.lr_scheduler.CosineAnnealingLR(optimizer, \n",
    "                                                    2400, \n",
    "                                                    3e-5)"
   ]
  },
  {
   "cell_type": "code",
   "execution_count": 245,
   "metadata": {},
   "outputs": [
    {
     "name": "stdout",
     "output_type": "stream",
     "text": [
      "epoch [9/9], loss:0.51706"
     ]
    }
   ],
   "source": [
    "losses = []\n",
    "num_epochs=10\n",
    "for epoch in range(num_epochs):\n",
    "    cur_loss = []\n",
    "    \n",
    "    for x, y in train_dl:\n",
    "        x = x.cuda()\n",
    "        y = y.cuda()\n",
    "\n",
    "        output = model(x).squeeze()\n",
    "        loss = criterion(output, y)\n",
    "        \n",
    "        optimizer.zero_grad()\n",
    "        loss.backward()\n",
    "        clip_grad_norm_(model.parameters(), 1.0)\n",
    "        optimizer.step()\n",
    "\n",
    "        cur_loss += [loss.item()]\n",
    "    \n",
    "    losses += [np.mean(cur_loss)]\n",
    "    lr_scheduler.step()\n",
    "    print('\\repoch [{}/{}], loss:{:.5f}'\n",
    "          .format(epoch, num_epochs-1, np.mean(cur_loss)), end='')"
   ]
  },
  {
   "cell_type": "code",
   "execution_count": 250,
   "metadata": {},
   "outputs": [
    {
     "data": {
      "text/plain": [
       "tensor(0.1380, device='cuda:0', grad_fn=<BinaryCrossEntropyBackward>)"
      ]
     },
     "execution_count": 250,
     "metadata": {},
     "output_type": "execute_result"
    }
   ],
   "source": [
    "criterion(output, y)"
   ]
  },
  {
   "cell_type": "markdown",
   "metadata": {},
   "source": [
    "### Overfit way too fast..."
   ]
  },
  {
   "cell_type": "code",
   "execution_count": 232,
   "metadata": {},
   "outputs": [
    {
     "name": "stdout",
     "output_type": "stream",
     "text": [
      "epoch [9/9], loss:2.85185"
     ]
    }
   ],
   "source": [
    "losses = []\n",
    "num_epochs=10\n",
    "for epoch in range(num_epochs):\n",
    "    cur_loss = []\n",
    "    \n",
    "    for x, y in test_dl:\n",
    "        x = x.cuda()\n",
    "        y = y.cuda()\n",
    "\n",
    "        output = model(x).squeeze()\n",
    "        loss = criterion(output, y)\n",
    "        \n",
    "        cur_loss += [loss.item()]\n",
    "    \n",
    "    losses += [np.mean(cur_loss)]\n",
    "    print('\\repoch [{}/{}], loss:{:.5f}'\n",
    "          .format(epoch, num_epochs-1, np.mean(cur_loss)), end='')"
   ]
  },
  {
   "cell_type": "code",
   "execution_count": 233,
   "metadata": {},
   "outputs": [
    {
     "data": {
      "text/plain": [
       "[3.0512255311012266,\n",
       " 2.8766530632972716,\n",
       " 2.86578289270401,\n",
       " 2.5856173396110536,\n",
       " 2.707858508825302,\n",
       " 2.848202592134476,\n",
       " 2.694500195980072,\n",
       " 2.694444751739502,\n",
       " 2.8524972796440125,\n",
       " 2.8518472731113436]"
      ]
     },
     "execution_count": 233,
     "metadata": {},
     "output_type": "execute_result"
    }
   ],
   "source": [
    "losses"
   ]
  },
  {
   "cell_type": "code",
   "execution_count": null,
   "metadata": {},
   "outputs": [],
   "source": []
  }
 ],
 "metadata": {
  "kernelspec": {
   "display_name": "Python [conda env:clone_tf]",
   "language": "python",
   "name": "conda-env-clone_tf-py"
  },
  "language_info": {
   "codemirror_mode": {
    "name": "ipython",
    "version": 3
   },
   "file_extension": ".py",
   "mimetype": "text/x-python",
   "name": "python",
   "nbconvert_exporter": "python",
   "pygments_lexer": "ipython3",
   "version": "3.6.6"
  }
 },
 "nbformat": 4,
 "nbformat_minor": 2
}
