{
 "cells": [
  {
   "cell_type": "code",
   "execution_count": 1,
   "metadata": {},
   "outputs": [],
   "source": [
    "%matplotlib inline\n",
    "\n",
    "import numpy as np\n",
    "import pandas as pd\n",
    "import matplotlib.pyplot as plt\n",
    "import seaborn as sns\n",
    "from sklearn import preprocessing\n",
    "\n",
    "import tensorflow as tf\n",
    "import torch\n",
    "import os\n",
    "os.chdir('..')"
   ]
  },
  {
   "cell_type": "code",
   "execution_count": 2,
   "metadata": {},
   "outputs": [],
   "source": [
    "tickers = ['aapl', 'amd', 'msft', 'intc', 'd', 'sbux', 'atvi',\n",
    "          'ibm', 'ual', 'vrsn', 't', 'mcd', 'vz']"
   ]
  },
  {
   "cell_type": "code",
   "execution_count": 31,
   "metadata": {},
   "outputs": [],
   "source": [
    "# import sys\n",
    "\n",
    "# # These are the usual ipython objects, including this one you are creating\n",
    "# ipython_vars = ['In', 'Out', 'exit', 'quit', 'get_ipython', 'ipython_vars']\n",
    "\n",
    "# # Get a sorted list of the objects and their sizes\n",
    "# sorted([(x, sys.getsizeof(globals().get(x))) \n",
    "#         for x in dir() if not x.startswith('_') \n",
    "#         and x not in sys.modules and x not in ipython_vars], \n",
    "#        key=lambda x: x[1], reverse=True)"
   ]
  },
  {
   "cell_type": "code",
   "execution_count": 3,
   "metadata": {},
   "outputs": [],
   "source": [
    "etf_path = 'iexfinance/Data/ETFs/{}.us.txt'\n",
    "stock_path = 'iexfinance/Data/Stocks/{}.us.txt'\n",
    "\n",
    "def read_csv(ticker, is_etf=False):\n",
    "    path = etf_path.format(ticker) if is_etf else stock_path.format(ticker)\n",
    "    cur_df = pd.read_csv(path)\n",
    "    cur_df.drop(['Volume', \"OpenInt\"], axis=1, inplace=True)\n",
    "    return cur_df"
   ]
  },
  {
   "cell_type": "code",
   "execution_count": 5,
   "metadata": {},
   "outputs": [],
   "source": [
    "spy = read_csv('spy', True)\n",
    "spy_default = spy.copy()\n",
    "for ticker in tickers:\n",
    "    ticker_df = read_csv(ticker)\n",
    "    spy_default = pd.merge(spy_default, \n",
    "                           ticker_df, \n",
    "                           on='Date', \n",
    "                           how='left', \n",
    "                           suffixes=('', '_'+ticker))\n",
    "    "
   ]
  },
  {
   "cell_type": "code",
   "execution_count": 4,
   "metadata": {},
   "outputs": [],
   "source": [
    "def give_delta_historical(df):\n",
    "    original_col = df.columns[1:]\n",
    "    \n",
    "    # shift days\n",
    "    for shift_idx in [3, 5, 10, 20, 40]:\n",
    "        for col in original_col:\n",
    "            df[col+'_'+str(shift_idx)] = df[col].shift(shift_idx)\n",
    "    \n",
    "    # np.log all values\n",
    "    for item in df:\n",
    "        if np.issubdtype(df[item].dtype, np.number):\n",
    "            df[item] = np.log(df[item])\n",
    "    \n",
    "    df_values = df.values\n",
    "    # for lookback\n",
    "    for row_idx in range(5, df_values.shape[1], 4):\n",
    "        df_values[:, row_idx:row_idx+4] = df_values[:, 1:5] - \\\n",
    "                                           df_values[:, row_idx:row_idx+4]\n",
    "    # for today\n",
    "    for idx in range(len(df_values)-1, 0, -1):\n",
    "        df_values[idx, 1:5] -= df_values[idx-1, 1:5]\n",
    "    \n",
    "    return df_values"
   ]
  },
  {
   "cell_type": "code",
   "execution_count": 5,
   "metadata": {},
   "outputs": [],
   "source": [
    "import matplotlib as mpl\n",
    "from matplotlib import cm\n",
    "from sklearn.preprocessing import MinMaxScaler\n",
    "from sklearn.preprocessing import minmax_scale\n",
    "from sklearn.preprocessing import MaxAbsScaler\n",
    "from sklearn.preprocessing import StandardScaler\n",
    "from sklearn.preprocessing import RobustScaler\n",
    "from sklearn.preprocessing import Normalizer\n",
    "from sklearn.preprocessing import QuantileTransformer\n",
    "from sklearn.preprocessing import PowerTransformer\n",
    "\n",
    "from sklearn.model_selection import train_test_split\n",
    "from sklearn.metrics import roc_auc_score\n",
    "from sklearn.pipeline import Pipeline, FeatureUnion\n",
    "\n",
    "import torch\n",
    "import torch.nn as nn\n",
    "from torch.utils.data import Dataset, DataLoader"
   ]
  },
  {
   "cell_type": "code",
   "execution_count": 6,
   "metadata": {},
   "outputs": [
    {
     "name": "stdout",
     "output_type": "stream",
     "text": [
      "(3201, 25) (3201, 5)\n",
      "(3161, 25) (3201, 5)\n"
     ]
    }
   ],
   "source": [
    "spy = read_csv('spy', True)\n",
    "spy_original = read_csv('spy', True)\n",
    "\n",
    "spy_from_fn = give_delta_historical(spy)\n",
    "# x:= revised val, y:= original.shift(-1)\n",
    "print(spy_from_fn.shape, spy_original.shape)\n",
    "# Drop NaN here\n",
    "spy_from_fn = spy_from_fn[40:]\n",
    "print(spy_from_fn.shape, spy_original.shape)"
   ]
  },
  {
   "cell_type": "code",
   "execution_count": 7,
   "metadata": {},
   "outputs": [],
   "source": [
    "def process_output_data(spy_original):\n",
    "    original_columns = spy_original.columns[1:]\n",
    "    # shift 10, 5\n",
    "    for col in original_columns:\n",
    "        spy_original['10_'+str(col)] = spy_original[col].shift(-10)\n",
    "    for col in original_columns:\n",
    "        spy_original['5_'+str(col)] = spy_original[col].shift(-5)\n",
    "    # log_delta\n",
    "    for col in original_columns:\n",
    "        spy_original['10_'+col] = np.log(spy_original['10_'+col].values) - \\\n",
    "                                  np.log(spy_original[col].values)\n",
    "    for col in original_columns:\n",
    "        spy_original['5_'+col] = np.log(spy_original['5_'+col].values) - \\\n",
    "                                 np.log(spy_original[col].values)\n",
    "    return spy_original\n",
    "\n",
    "spy_original = process_output_data(spy_original)"
   ]
  },
  {
   "cell_type": "code",
   "execution_count": 8,
   "metadata": {},
   "outputs": [
    {
     "name": "stdout",
     "output_type": "stream",
     "text": [
      "X.shape: (3161, 25), Y.shape: (3161,)\n",
      "Indecies of NaN in Y:\n",
      " [[3151]\n",
      " [3152]\n",
      " [3153]\n",
      " [3154]\n",
      " [3155]\n",
      " [3156]\n",
      " [3157]\n",
      " [3158]\n",
      " [3159]\n",
      " [3160]]\n",
      "Drop those rows ...\n",
      "X.shape: (3151, 25), Y.shape: (3151,)\n"
     ]
    }
   ],
   "source": [
    "Y = spy_original['10_Open'][40:]\n",
    "print('X.shape: {}, Y.shape: {}'.format(spy_from_fn.shape, Y.shape))\n",
    "print('Indecies of NaN in Y:\\n {}'.format(np.argwhere(Y.isna())))\n",
    "print('Drop those rows ...')\n",
    "delete_from_back = Y.isna().sum()\n",
    "spy_from_fn = spy_from_fn[:-delete_from_back]\n",
    "Y = Y[:-delete_from_back].values\n",
    "# Y = Y.reshape(-1, 1)\n",
    "print('X.shape: {}, Y.shape: {}'.format(spy_from_fn.shape, Y.shape))"
   ]
  },
  {
   "cell_type": "code",
   "execution_count": 9,
   "metadata": {},
   "outputs": [],
   "source": [
    "# astype(..., copy=False)???\n",
    "spy_from_fn[:, 1:] = spy_from_fn[:, 1:].astype(np.float64)"
   ]
  },
  {
   "cell_type": "code",
   "execution_count": 10,
   "metadata": {},
   "outputs": [],
   "source": [
    "input = pd.DataFrame(spy_from_fn[:, 1:])"
   ]
  },
  {
   "cell_type": "code",
   "execution_count": 11,
   "metadata": {},
   "outputs": [],
   "source": [
    "# Random sequence data\n",
    "# train_idx, test_idx = train_test_split(np.arange(len(input)))\n",
    "\n",
    "# Sequential data\n",
    "length = int(len(input)* 0.8)\n",
    "train_idx = np.arange(length)\n",
    "test_idx = np.arange(length, len(input))"
   ]
  },
  {
   "cell_type": "code",
   "execution_count": 12,
   "metadata": {},
   "outputs": [
    {
     "name": "stdout",
     "output_type": "stream",
     "text": [
      "(2520,) (631,)\n",
      "(2520, 24) (631, 24)\n"
     ]
    },
    {
     "data": {
      "text/plain": [
       "(1563, 392)"
      ]
     },
     "execution_count": 12,
     "metadata": {},
     "output_type": "execute_result"
    }
   ],
   "source": [
    "train_df = input.iloc[train_idx]\n",
    "test_df = input.iloc[test_idx]\n",
    "print(train_idx.shape, test_idx.shape)\n",
    "print(train_df.shape, test_df.shape)\n",
    "# Consider some other y transfroms...\n",
    "y_train = np.where(Y[train_idx]>0, 1, 0)\n",
    "y_test = np.where(Y[test_idx]>0, 1, 0)\n",
    "y_train.sum(), y_test.sum()"
   ]
  },
  {
   "cell_type": "code",
   "execution_count": 13,
   "metadata": {},
   "outputs": [
    {
     "name": "stderr",
     "output_type": "stream",
     "text": [
      "/home/wbaik/.conda/envs/clone_tf/lib/python3.6/site-packages/sklearn/preprocessing/data.py:617: DataConversionWarning: Data with input dtype object were all converted to float64 by StandardScaler.\n",
      "  return self.partial_fit(X, y)\n",
      "/home/wbaik/.conda/envs/clone_tf/lib/python3.6/site-packages/sklearn/preprocessing/data.py:323: DataConversionWarning: Data with input dtype object were all converted to float64 by MinMaxScaler.\n",
      "  return self.partial_fit(X, y)\n"
     ]
    },
    {
     "data": {
      "text/plain": [
       "FeatureUnion(n_jobs=None,\n",
       "       transformer_list=[('Data after standard scaling', StandardScaler(copy=True, with_mean=True, with_std=True)), ('Data after min-max scaling', MinMaxScaler(copy=True, feature_range=(0, 1))), ('Data after max-abs scaling', MaxAbsScaler(copy=True)), ('Data after robust scaling', RobustScaler(copy=True, q...    subsample=100000)), ('Data after sample-wise L2 normalizing', Normalizer(copy=True, norm='l2'))],\n",
       "       transformer_weights=None)"
      ]
     },
     "execution_count": 13,
     "metadata": {},
     "output_type": "execute_result"
    }
   ],
   "source": [
    "transfomer = [\n",
    "    ('Data after standard scaling',\n",
    "        StandardScaler()),\n",
    "    ('Data after min-max scaling',\n",
    "        MinMaxScaler()),\n",
    "    ('Data after max-abs scaling',\n",
    "        MaxAbsScaler()),\n",
    "    ('Data after robust scaling',\n",
    "        RobustScaler(quantile_range=(25, 75))),\n",
    "    ('Data after power transformation (Yeo-Johnson)',\n",
    "     PowerTransformer(method='yeo-johnson')),\n",
    "    ('Data after quantile transformation (gaussian pdf)',\n",
    "        QuantileTransformer(output_distribution='normal')),\n",
    "    ('Data after quantile transformation (uniform pdf)',\n",
    "        QuantileTransformer(output_distribution='uniform')),\n",
    "    ('Data after sample-wise L2 normalizing',\n",
    "        Normalizer()),\n",
    "]\n",
    "\n",
    "combined = FeatureUnion(transfomer)\n",
    "combined.fit(train_df)"
   ]
  },
  {
   "cell_type": "code",
   "execution_count": 14,
   "metadata": {},
   "outputs": [
    {
     "name": "stderr",
     "output_type": "stream",
     "text": [
      "/home/wbaik/.conda/envs/clone_tf/lib/python3.6/site-packages/sklearn/pipeline.py:605: DataConversionWarning: Data with input dtype object were all converted to float64 by StandardScaler.\n",
      "  res = transformer.transform(X)\n",
      "/home/wbaik/.conda/envs/clone_tf/lib/python3.6/site-packages/sklearn/pipeline.py:605: DataConversionWarning: Data with input dtype object were all converted to float64 by StandardScaler.\n",
      "  res = transformer.transform(X)\n"
     ]
    }
   ],
   "source": [
    "x_train_transformed = combined.transform(train_df)\n",
    "x_test_transformed = combined.transform(test_df)"
   ]
  },
  {
   "cell_type": "code",
   "execution_count": 15,
   "metadata": {},
   "outputs": [
    {
     "data": {
      "text/plain": [
       "((2520, 192), (631, 192))"
      ]
     },
     "execution_count": 15,
     "metadata": {},
     "output_type": "execute_result"
    }
   ],
   "source": [
    "x_train_transformed.shape, x_test_transformed.shape"
   ]
  },
  {
   "cell_type": "code",
   "execution_count": 16,
   "metadata": {},
   "outputs": [],
   "source": [
    "class TickerData(Dataset):\n",
    "    def __init__(self, ticker, x, y):\n",
    "        '''\n",
    "        :param ticker: string\n",
    "        :param x: np.array of x\n",
    "        :param y: np.array of y\n",
    "        '''\n",
    "        self.ticker = ticker\n",
    "        self.x = torch.FloatTensor(x)\n",
    "        self.y = torch.FloatTensor(y)\n",
    "        \n",
    "    def __len__(self):\n",
    "        return len(self.y)\n",
    "\n",
    "    def __getitem__(self, index):\n",
    "        x = self.x[index]\n",
    "        y = self.y[index]\n",
    "        return x, y"
   ]
  },
  {
   "cell_type": "code",
   "execution_count": 17,
   "metadata": {},
   "outputs": [],
   "source": [
    "from functools import reduce\n",
    "\n",
    "class Flatten(nn.Module):\n",
    "    def forward(self, input):\n",
    "        return input.view(input.size(0), -1)\n",
    "\n",
    "class Encoder(nn.Module):\n",
    "    def __init__(self, input_shape, final_output_size):\n",
    "        super(Encoder, self).__init__()\n",
    "        self.c1 = nn.Conv1d(input_shape[0],        final_output_size * 2, (4,), 4)\n",
    "        self.c2 = nn.Conv1d(final_output_size * 2, final_output_size * 1, (1,), 1)\n",
    "        self.c3 = nn.Conv1d(final_output_size * 1, 1,                     (1,), 1)\n",
    "        \n",
    "    def forward(self, x):\n",
    "        x = self.c1(x)\n",
    "        x = torch.relu(x)\n",
    "        x = self.c2(x)\n",
    "        x = torch.relu(x)\n",
    "        x = self.c3(x)\n",
    "        return torch.tanh(x)\n",
    "\n",
    "class Decoder(nn.Module):\n",
    "    def __init__(self, input_shape, final_output_size):\n",
    "        super(Decoder, self).__init__()\n",
    "        self.c1 = nn.ConvTranspose1d(1,                     \n",
    "                                     final_output_size * 1, (1,), stride=1)\n",
    "        self.c2 = nn.ConvTranspose1d(final_output_size * 1, \n",
    "                                     final_output_size * 2, (1,), 1)\n",
    "        self.c3 = nn.ConvTranspose1d(final_output_size * 2, \n",
    "                                     input_shape[0],        (4,), 4)\n",
    "        \n",
    "    def forward(self, x):\n",
    "        x = self.c1(x)\n",
    "        x = torch.relu(x)\n",
    "        x = self.c2(x)\n",
    "        x = torch.relu(x)\n",
    "        x = self.c3(x)\n",
    "        return x\n",
    "\n",
    "class AutoEncoder(nn.Module):\n",
    "    def __init__(self, input_shape, final_output_size):\n",
    "        super(AutoEncoder, self).__init__()\n",
    "        self.encoder = Encoder(input_shape, final_output_size)\n",
    "        self.decoder = Decoder(input_shape, final_output_size)\n",
    "\n",
    "    def forward(self, x):\n",
    "        x = self.encoder(x)\n",
    "        return self.decoder(x)"
   ]
  },
  {
   "cell_type": "code",
   "execution_count": 22,
   "metadata": {},
   "outputs": [],
   "source": [
    "spy_dataset = TickerData('spy', x_train_transformed, y_train)\n",
    "\n",
    "BATCH_SIZE = 64\n",
    "train_dl = DataLoader(spy_dataset, \n",
    "                      num_workers=1, \n",
    "                      batch_size=BATCH_SIZE)"
   ]
  },
  {
   "cell_type": "code",
   "execution_count": 18,
   "metadata": {},
   "outputs": [],
   "source": [
    "model = AutoEncoder((8, 24), 2).cuda()\n",
    "criterion = nn.MSELoss()"
   ]
  },
  {
   "cell_type": "code",
   "execution_count": 19,
   "metadata": {},
   "outputs": [],
   "source": [
    "from torch.nn.utils import clip_grad_norm_\n",
    "import torch.optim as optim"
   ]
  },
  {
   "cell_type": "code",
   "execution_count": 53,
   "metadata": {},
   "outputs": [],
   "source": [
    "optimizer = torch.optim.Adam(\n",
    "    model.parameters(), lr=1e-3, weight_decay=1e-6)\n",
    "\n",
    "lr_scheduler = optim.lr_scheduler.CosineAnnealingLR(optimizer, 2400, 3e-5)"
   ]
  },
  {
   "cell_type": "code",
   "execution_count": 31,
   "metadata": {},
   "outputs": [
    {
     "name": "stdout",
     "output_type": "stream",
     "text": [
      "epoch [399/399], loss:0.02226"
     ]
    }
   ],
   "source": [
    "losses = []\n",
    "num_epochs=400\n",
    "for epoch in range(num_epochs):\n",
    "    cur_loss = 0.0\n",
    "    for data in train_dl:\n",
    "        x, _ = data\n",
    "        x = x.reshape(-1, 8, 24).cuda()\n",
    "\n",
    "        output = model(x)\n",
    "        loss = criterion(output, x)\n",
    "        \n",
    "        optimizer.zero_grad()\n",
    "        loss.backward()\n",
    "        clip_grad_norm_(model.parameters(), 1.0)\n",
    "        optimizer.step()\n",
    "\n",
    "        cur_loss += loss.item()\n",
    "    \n",
    "    losses += [cur_loss]\n",
    "    lr_scheduler.step()\n",
    "    print('\\repoch [{}/{}], loss:{:.5f}'\n",
    "          .format(epoch, num_epochs-1, loss.data.item()), end='')"
   ]
  },
  {
   "cell_type": "code",
   "execution_count": 36,
   "metadata": {},
   "outputs": [
    {
     "data": {
      "image/png": "[encoded data removed]",
      "text/plain": [
       "<Figure size 432x288 with 1 Axes>"
      ]
     },
     "metadata": {},
     "output_type": "display_data"
    }
   ],
   "source": [
    "_ = plt.plot(losses)"
   ]
  },
  {
   "cell_type": "code",
   "execution_count": 83,
   "metadata": {},
   "outputs": [],
   "source": [
    "optimizer = torch.optim.Adam([*model.encoder.c1.parameters(),\n",
    "                              *model.decoder.c3.parameters()], \n",
    "                             lr=1e-3, \n",
    "                             weight_decay=1e-6)\n",
    "\n",
    "lr_scheduler = optim.lr_scheduler.CosineAnnealingLR(optimizer, 2400, 3e-5)"
   ]
  },
  {
   "cell_type": "code",
   "execution_count": 84,
   "metadata": {},
   "outputs": [
    {
     "name": "stdout",
     "output_type": "stream",
     "text": [
      "epoch [3999/3999], loss:0.00597"
     ]
    }
   ],
   "source": [
    "losses = []\n",
    "num_epochs=4000\n",
    "for epoch in range(num_epochs):\n",
    "    cur_loss = 0.0\n",
    "    for data in train_dl:\n",
    "        x, _ = data\n",
    "        x = x.reshape(-1, 8, 24).cuda()\n",
    "\n",
    "        output = torch.relu(model.encoder.c1(x))\n",
    "        output = model.decoder.c3(output)\n",
    "        loss = criterion(output, x)\n",
    "        \n",
    "        optimizer.zero_grad()\n",
    "        loss.backward()\n",
    "        clip_grad_norm_(model.parameters(), 1.0)\n",
    "        optimizer.step()\n",
    "\n",
    "        cur_loss += loss.item()\n",
    "    \n",
    "    losses += [cur_loss]\n",
    "    lr_scheduler.step()\n",
    "    print('\\repoch [{}/{}], loss:{:.5f}'\n",
    "          .format(epoch, num_epochs-1, loss.data.item()), end='')"
   ]
  },
  {
   "cell_type": "code",
   "execution_count": 85,
   "metadata": {},
   "outputs": [
    {
     "data": {
      "image/png": "[encoded data removed]",
      "text/plain": [
       "<Figure size 432x288 with 1 Axes>"
      ]
     },
     "metadata": {},
     "output_type": "display_data"
    }
   ],
   "source": [
    "_ = plt.plot(losses)"
   ]
  },
  {
   "cell_type": "code",
   "execution_count": 86,
   "metadata": {},
   "outputs": [],
   "source": [
    "optimizer = torch.optim.Adam([*model.encoder.c2.parameters(),\n",
    "                              *model.decoder.c2.parameters()], lr=1e-3, weight_decay=1e-6)\n",
    "\n",
    "lr_scheduler = optim.lr_scheduler.CosineAnnealingLR(optimizer, 2400, 3e-5)"
   ]
  },
  {
   "cell_type": "code",
   "execution_count": 88,
   "metadata": {},
   "outputs": [
    {
     "name": "stdout",
     "output_type": "stream",
     "text": [
      "epoch [999/999], loss:0.37215"
     ]
    }
   ],
   "source": [
    "losses = []\n",
    "num_epochs=1000\n",
    "for epoch in range(num_epochs):\n",
    "    cur_loss = 0.0\n",
    "    for data in train_dl:\n",
    "        x, _ = data\n",
    "        x = x.reshape(-1, 8, 24).cuda()\n",
    "\n",
    "        output = torch.relu(model.encoder.c1(x))\n",
    "        output = torch.relu(model.encoder.c2(output))\n",
    "        output = torch.relu(model.decoder.c2(output))\n",
    "        output = model.decoder.c3(output)\n",
    "        loss = criterion(output, x)\n",
    "        \n",
    "        optimizer.zero_grad()\n",
    "        loss.backward()\n",
    "        clip_grad_norm_(model.parameters(), 1.0)\n",
    "        optimizer.step()\n",
    "\n",
    "        cur_loss += loss.item()\n",
    "    \n",
    "    losses += [cur_loss]\n",
    "    lr_scheduler.step()\n",
    "    print('\\repoch [{}/{}], loss:{:.5f}'\n",
    "          .format(epoch, num_epochs-1, loss.data.item()), end='')"
   ]
  },
  {
   "cell_type": "code",
   "execution_count": 89,
   "metadata": {},
   "outputs": [
    {
     "data": {
      "image/png": "[encoded data removed]",
      "text/plain": [
       "<Figure size 432x288 with 1 Axes>"
      ]
     },
     "metadata": {},
     "output_type": "display_data"
    }
   ],
   "source": [
    "_ = plt.plot(losses)"
   ]
  },
  {
   "cell_type": "code",
   "execution_count": 93,
   "metadata": {},
   "outputs": [],
   "source": [
    "optimizer = torch.optim.Adam(\n",
    "    model.parameters(), lr=1e-2, weight_decay=1e-6)\n",
    "\n",
    "lr_scheduler = optim.lr_scheduler.CosineAnnealingLR(optimizer, 2400, 3e-5)"
   ]
  },
  {
   "cell_type": "code",
   "execution_count": 96,
   "metadata": {},
   "outputs": [
    {
     "name": "stdout",
     "output_type": "stream",
     "text": [
      "epoch [1999/1999], loss:0.11014"
     ]
    }
   ],
   "source": [
    "losses = []\n",
    "num_epochs=2000\n",
    "for epoch in range(num_epochs):\n",
    "    cur_loss = 0.0\n",
    "    for data in train_dl:\n",
    "        x, _ = data\n",
    "        x = x.reshape(-1, 8, 24).cuda()\n",
    "\n",
    "        output = model(x)\n",
    "        loss = criterion(output, x)\n",
    "        \n",
    "        optimizer.zero_grad()\n",
    "        loss.backward()\n",
    "        clip_grad_norm_(model.parameters(), 1.0)\n",
    "        optimizer.step()\n",
    "\n",
    "        cur_loss += loss.item()\n",
    "    \n",
    "    losses += [cur_loss]\n",
    "    lr_scheduler.step()\n",
    "    print('\\repoch [{}/{}], loss:{:.5f}'\n",
    "          .format(epoch, num_epochs-1, loss.data.item()), end='')"
   ]
  },
  {
   "cell_type": "code",
   "execution_count": 95,
   "metadata": {},
   "outputs": [
    {
     "data": {
      "image/png": "[encoded data removed]",
      "text/plain": [
       "<Figure size 432x288 with 1 Axes>"
      ]
     },
     "metadata": {},
     "output_type": "display_data"
    }
   ],
   "source": [
    "_ = plt.plot(losses)"
   ]
  },
  {
   "cell_type": "code",
   "execution_count": 97,
   "metadata": {},
   "outputs": [
    {
     "data": {
      "image/png": "[encoded data removed]",
      "text/plain": [
       "<Figure size 432x288 with 1 Axes>"
      ]
     },
     "metadata": {},
     "output_type": "display_data"
    }
   ],
   "source": [
    "_ = plt.plot(losses)"
   ]
  },
  {
   "cell_type": "code",
   "execution_count": null,
   "metadata": {},
   "outputs": [],
   "source": []
  }
 ],
 "metadata": {
  "kernelspec": {
   "display_name": "Python [conda env:clone_tf]",
   "language": "python",
   "name": "conda-env-clone_tf-py"
  },
  "language_info": {
   "codemirror_mode": {
    "name": "ipython",
    "version": 3
   },
   "file_extension": ".py",
   "mimetype": "text/x-python",
   "name": "python",
   "nbconvert_exporter": "python",
   "pygments_lexer": "ipython3",
   "version": "3.6.6"
  }
 },
 "nbformat": 4,
 "nbformat_minor": 2
}
